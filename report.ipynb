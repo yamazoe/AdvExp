{
  "nbformat": 4,
  "nbformat_minor": 0,
  "metadata": {
    "colab": {
      "name": "report.ipynb",
      "provenance": [],
      "collapsed_sections": []
    },
    "kernelspec": {
      "name": "ir",
      "display_name": "R"
    }
  },
  "cells": [
    {
      "cell_type": "markdown",
      "metadata": {
        "id": "Vdmp3AHhbtYW"
      },
      "source": [
        "# 電子情報工学特別実験レポート\n",
        "### 学籍番号 名前"
      ]
    }
  ]
}