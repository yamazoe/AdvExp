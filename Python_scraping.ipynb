{
  "nbformat": 4,
  "nbformat_minor": 0,
  "metadata": {
    "colab": {
      "name": "Python_scraping.pynb",
      "provenance": [],
      "collapsed_sections": [
        "zNN-_VPSU02L",
        "5uwsUX2EXMrO",
        "ltdp7i8olHlu",
        "-w2NCsjJnGWT"
      ]
    },
    "kernelspec": {
      "name": "python3",
      "display_name": "Python 3"
    },
    "language_info": {
      "name": "python"
    }
  },
  "cells": [
    {
      "cell_type": "markdown",
      "source": [
        "# PythonによるWebスクレイピング\n",
        "\n",
        "以下では，サンプルページ\n",
        "\n",
        "https://hirotakeyamazoe.jp/lecture/advexp/\n",
        "\n",
        "に対して，スクレイピングを行う例を示す．"
      ],
      "metadata": {
        "id": "siXWChwc9c6A"
      }
    },
    {
      "cell_type": "markdown",
      "source": [
        "## 1. Requestsライブラリを用いたHTMLファイルの取得"
      ],
      "metadata": {
        "id": "9q8WdzNgdGTz"
      }
    },
    {
      "cell_type": "markdown",
      "source": [
        "### HTMLファイルの内容の取得\n",
        "以下のコードを実行すると，サンプルのウェブページのhtmlの内容が取得，表示される．"
      ],
      "metadata": {
        "id": "l8ZBB7VaXBjG"
      }
    },
    {
      "cell_type": "code",
      "execution_count": 1,
      "metadata": {
        "colab": {
          "base_uri": "https://localhost:8080/"
        },
        "id": "uu2VRqBq8faD",
        "outputId": "dfa91e84-2733-49b6-ef22-b21ec926e70f"
      },
      "outputs": [
        {
          "output_type": "stream",
          "name": "stdout",
          "text": [
            "<html>\r\n",
            "  <head>\r\n",
            "    <meta charset=\"utf-8\">\r\n",
            "    <title>電子情報工学特別実験用サンプルページ</title>\r\n",
            "    <link rel=\"stylesheet\" href=\"main.css\">\r\n",
            "  </head>\r\n",
            "  <body>\r\n",
            "    <div id=\"title\">\r\n",
            "      <h1>電子情報工学特別実験用サンプルページ</h1>\r\n",
            "      <h2>兵庫県立大学工学部</h2>\r\n",
            "      <p>「ものづくり」に主眼を置いた教育・研究を通して、真に人類の利益と安全に貢献できる有能な人材の育成を図ります。\r\n",
            "    </div>\r\n",
            "    <div id=\"detail\">\r\n",
            "      <div class=\"denki\">\r\n",
            "        <h2>電気電子情報工学科</h2>\r\n",
            "        <p class=\"desc\">電気電子情報工学科では、技術革新をささえる電気・電子・情報分野の学問を学びます。</p>\r\n",
            "        <div class=\"course\">\r\n",
            "          <h3><a href=\"./denki.html\">電気工学コース</a></h3>\r\n",
            "          <h3><a href=\"./denshi.html\">電子情報工学コース</a></h3>\r\n",
            "        </div>\r\n",
            "      </div>\r\n",
            "      <div class=\"kikai\">\r\n",
            "        <h2>機械・材料工学科</h2>\r\n",
            "        <p class=\"desc\">機械・材料工学科では、機械工学と材料工学に分かれて、それぞれの分野の高度な専門科目を修得していきます。</p>\r\n",
            "        <div class=\"course\">\r\n",
            "          <h3><a href=\"./kikai.html\">機械工学コース</a></h3>\r\n",
            "          <h3><a href=\"./zairyo.html\">材料工学コース</a></h3>\r\n",
            "        </div>\r\n",
            "      </div>\r\n",
            "      <div class=\"kagaku\">\r\n",
            "        <h2>応用化学工学科</h2>\r\n",
            "        <p class=\"desc\">応用化学工学科では、応用化学コースと化学工学コースに分かれて、基礎から徐々に専門性を高めて学習します。</p>\r\n",
            "        <div class=\"course\">\r\n",
            "          <h3><a href=\"./ouyou.html\">応用化学コース</a></h3>\r\n",
            "          <h3><a href=\"./kagaku.html\">化学工学コース</a></h3>\r\n",
            "        </div>\r\n",
            "      </div>\r\n",
            "      <img src=\"img/gakubu.png\" width=\"200\" >\r\n",
            "    </div>\r\n",
            "  </body>\r\n",
            "</html>\r\n",
            "\r\n",
            "\n"
          ]
        }
      ],
      "source": [
        "# Requestsライブラリの読み込み\n",
        "import requests\n",
        "\n",
        "# 読み込むURLの指定\n",
        "url = 'https://hirotakeyamazoe.jp/lecture/advexp/'\n",
        "\n",
        "# 指定のURLへアクセス\n",
        "result = requests.get(url)\n",
        "\n",
        "# 取得結果から文字コードを推定して設定\n",
        "# この処理を入れないと、結果の出力で文字化けする）\n",
        "result.encoding = result.apparent_encoding\n",
        "\n",
        "# 取得結果の表示\n",
        "print(result.text)"
      ]
    },
    {
      "cell_type": "markdown",
      "source": [
        "### アクセス状況の取得（今回の課題では考えなくてもOK）\n",
        "アクセスの成功／失敗は，```result.ok```で取得できる．\n",
        "\n",
        "アクセス状況（ステータスコード）は，```result.status_code```で取得できる．\n",
        "*   成功の場合，200となる．\n",
        "*   失敗の場合，200以外の値となる．404 (not found) が有名．\n",
        "\n"
      ],
      "metadata": {
        "id": "zNN-_VPSU02L"
      }
    },
    {
      "cell_type": "code",
      "source": [
        "print(result.ok)\n",
        "print(result.status_code)"
      ],
      "metadata": {
        "colab": {
          "base_uri": "https://localhost:8080/"
        },
        "id": "IuomRSdgPdOV",
        "outputId": "10094c5d-f191-4d75-c925-f7f023fb7981"
      },
      "execution_count": 2,
      "outputs": [
        {
          "output_type": "stream",
          "name": "stdout",
          "text": [
            "True\n",
            "200\n"
          ]
        }
      ]
    },
    {
      "cell_type": "markdown",
      "source": [
        "### 画像ファイルの取得\n",
        "サンプルのウェブページには画像が含まれている．\n",
        "\n",
        "アドレスは，\n",
        "https://hirotakeyamazoe.jp/lecture/advexp/img/gakubu.png\n",
        "である．\n",
        "\n",
        "以下のコードを実行すると，その画像が```image.png```というファイルとしてダウンロードされる．"
      ],
      "metadata": {
        "id": "5uwsUX2EXMrO"
      }
    },
    {
      "cell_type": "code",
      "source": [
        "# Requestsライブラリの読み込み\n",
        "import requests\n",
        "\n",
        "# 読み込むURLの指定\n",
        "url = 'https://hirotakeyamazoe.jp/lecture/advexp/img/gakubu.png'\n",
        "\n",
        "# 指定のURLへアクセス\n",
        "result = requests.get(url)\n",
        "\n",
        "# ファイル(image.png)として保存\n",
        "with open('image.png', 'wb') as fp:\n",
        "  fp.write(result.content)"
      ],
      "metadata": {
        "id": "AGHwd_kBSrca"
      },
      "execution_count": 3,
      "outputs": []
    },
    {
      "cell_type": "markdown",
      "source": [
        "## 2. Beautiful Soupを用いたスクレイピングの基礎"
      ],
      "metadata": {
        "id": "IRiXpOzEeXZL"
      }
    },
    {
      "cell_type": "markdown",
      "source": [
        "### スクレイピングの流れ\n",
        "Step 1: HTMLの構造を理解し，取得する情報のタグ・属性を把握する\n",
        "\n",
        "Step 2: Beautiful Soupを用いて，情報を取得する\n"
      ],
      "metadata": {
        "id": "ltdp7i8olHlu"
      }
    },
    {
      "cell_type": "markdown",
      "source": [
        "### Step 1: HTMLの構造を理解し，取得する情報のタグ・属性を把握する\n",
        "\n",
        "Chromeのデベロッパーツールなどを用いると，ウェブページとHTMLの関係を把握しやすい．それらを用いて，取得したい情報のタグと属性を把握する．\n",
        "\n",
        "ここでは，「電子情報工学特別実験用サンプルページ」の部分を取得したいとすると，\n",
        "\n",
        "```<h1>電子情報工学特別実験用サンプルページ</h1>```\n",
        "\n",
        "となっており，```h1```要素を取得すればよいことがわかる．"
      ],
      "metadata": {
        "id": "-w2NCsjJnGWT"
      }
    },
    {
      "cell_type": "markdown",
      "source": [
        "### Step 2: Beautiful Soupを用いて，情報を取得する\n",
        "\n",
        "Beautiful Soupは，スクレイピングのライブラリである．これを用いて，読み込んだHTMLを解析し，情報を取得できる．"
      ],
      "metadata": {
        "id": "6WlUZFYbwd5w"
      }
    },
    {
      "cell_type": "markdown",
      "source": [
        "#### HTML中に一つだけ存在する要素を取得する（```find()```関数）\n",
        "\n",
        "まず，requestsで取得した結果をBeautifulSoupに入力し，```find()```関数を用いて```h1```要素を取得する．\n",
        "\n",
        "以下のコードを実行すると，```h1```要素を取得し表示する．"
      ],
      "metadata": {
        "id": "tPnWLaLnxqtP"
      }
    },
    {
      "cell_type": "code",
      "source": [
        "# Requests, BeautifulSoupの読み込み\n",
        "import requests\n",
        "from bs4 import BeautifulSoup\n",
        "\n",
        "# 読み込むURLの指定\n",
        "url = 'https://hirotakeyamazoe.jp/lecture/advexp/'\n",
        "\n",
        "# 指定のURLへアクセス\n",
        "result = requests.get(url)\n",
        "\n",
        "# 取得結果から文字コードを推定して設定\n",
        "# この処理を入れないと、結果の出力で文字化けする）\n",
        "result.encoding = result.apparent_encoding\n",
        "\n",
        "# Beautiful Soupを用いて解析\n",
        "soup = BeautifulSoup(result.text, 'html5lib')\n",
        "\n",
        "# h1要素の取得\n",
        "h1 = soup.find('h1')\n",
        "\n",
        "# 取得結果の表示\n",
        "print(h1.text)"
      ],
      "metadata": {
        "colab": {
          "base_uri": "https://localhost:8080/"
        },
        "id": "dSWElKC9l-il",
        "outputId": "fd2568f0-d2e2-4e90-a3b9-24090101b229"
      },
      "execution_count": 4,
      "outputs": [
        {
          "output_type": "stream",
          "name": "stdout",
          "text": [
            "電子情報工学特別実験用サンプルページ\n"
          ]
        }
      ]
    },
    {
      "cell_type": "markdown",
      "source": [
        "```find()```関数を利用する代わりに，```soup.h1```といった形でも要素にアクセスできる．"
      ],
      "metadata": {
        "id": "XE4RLHGzIePg"
      }
    },
    {
      "cell_type": "code",
      "source": [
        "# 別の方法でのh1要素の取得結果の表示\n",
        "print(soup.h1.text)"
      ],
      "metadata": {
        "colab": {
          "base_uri": "https://localhost:8080/"
        },
        "id": "yyuf0CupIqwF",
        "outputId": "aeac3931-3b33-4972-853d-99b271e4ae80"
      },
      "execution_count": 5,
      "outputs": [
        {
          "output_type": "stream",
          "name": "stdout",
          "text": [
            "電子情報工学特別実験用サンプルページ\n"
          ]
        }
      ]
    },
    {
      "cell_type": "markdown",
      "source": [
        "#### 複数存在する要素全てを取得する（```find_all()```関数）\n",
        "サンプルページ中に```h2```は複数存在する．```h2```全てを取得したい場合には，```find_all()```関数を利用する．\n",
        "\n",
        "```find_all()```関数の戻り値はリストであり，```for```文を用いたり，添え字を付けてアクセスすると，各要素にアクセスできる．"
      ],
      "metadata": {
        "id": "wIzkepwM8GMt"
      }
    },
    {
      "cell_type": "code",
      "source": [
        "# h2要素全てを取得\n",
        "h2_list = soup.find_all('h2')\n",
        "\n",
        "for h2 in h2_list:\n",
        "  # 取得結果の表示\n",
        "  print(h2.text)\n",
        "  \n",
        "# リストの1番目を表示\n",
        "print(\"-----\")\n",
        "print(h2_list[1].text)"
      ],
      "metadata": {
        "colab": {
          "base_uri": "https://localhost:8080/"
        },
        "id": "psFTQ_PXndhb",
        "outputId": "3f014108-c802-4cc7-ab12-bd66fa25be3c"
      },
      "execution_count": 6,
      "outputs": [
        {
          "output_type": "stream",
          "name": "stdout",
          "text": [
            "兵庫県立大学工学部\n",
            "電気電子情報工学科\n",
            "機械・材料工学科\n",
            "応用化学工学科\n",
            "-----\n",
            "電気電子情報工学科\n"
          ]
        }
      ]
    },
    {
      "cell_type": "markdown",
      "source": [
        "#### ```id```，```class```を用いて要素を指定・取得する（```select()関数```）\n",
        "\n",
        "HTMLでは，タグに```id```や```class```といった属性を指定できる．これを用いて，取得情報をより細かく指定することができる．\n",
        "\n",
        "例えば，```h2```のうち，学科名のみを取り出したい場合，学科の説明部分が\n",
        "```<div id=\"detail\"> </div>```で囲われていることを利用する．\n",
        "\n",
        "こういった場合，```select()```関数を利用し，```soup.select('div#detail h2')```と指定するとよい．\n",
        "\n",
        "引数の```div#detail h2```は，```<div id=\"detail\"> </div>```の中の```<h2>```を意味する．\n",
        "\n",
        "\n",
        "\n",
        "\n"
      ],
      "metadata": {
        "id": "SSNLeMi29Lw3"
      }
    },
    {
      "cell_type": "code",
      "source": [
        "# id = \"detail\"のh2要素全てを取得\n",
        "h2_list = soup.select('div#detail h2')\n",
        "\n",
        "# 取得結果の表示\n",
        "for h2 in h2_list:\n",
        "  print(h2.text)"
      ],
      "metadata": {
        "colab": {
          "base_uri": "https://localhost:8080/"
        },
        "id": "L69QaMdd-rDj",
        "outputId": "01f79869-baaf-4d06-c7ff-098ac8b3a59c"
      },
      "execution_count": 7,
      "outputs": [
        {
          "output_type": "stream",
          "name": "stdout",
          "text": [
            "電気電子情報工学科\n",
            "機械・材料工学科\n",
            "応用化学工学科\n"
          ]
        }
      ]
    },
    {
      "cell_type": "markdown",
      "source": [
        "```<div class=\"denki\"> </div>```の中の```h3```を指定する場合は，```soup.select('div.denki h3')```と`.`で接続して指定する．"
      ],
      "metadata": {
        "id": "qYgnOOsSAz1X"
      }
    },
    {
      "cell_type": "code",
      "source": [
        "# class = \"denki\"のh3要素を全てを取得\n",
        "h3_list = soup.select('div.denki h3')\n",
        "\n",
        "# 取得結果の表示\n",
        "for h3 in h3_list:\n",
        "  print(h3.text)"
      ],
      "metadata": {
        "colab": {
          "base_uri": "https://localhost:8080/"
        },
        "id": "-h7j7KPqBNVe",
        "outputId": "aecb8c07-8dc9-40a9-9ddf-b31419326305"
      },
      "execution_count": 8,
      "outputs": [
        {
          "output_type": "stream",
          "name": "stdout",
          "text": [
            "電気工学コース\n",
            "電子情報工学コース\n"
          ]
        }
      ]
    },
    {
      "cell_type": "markdown",
      "source": [
        "#### ```select()```関数の指定方法の違い\n",
        "\n",
        "上では，```select('div#detail h2')```と指定していたが，```select('div#detail > h2')```という指定方法もある．この違いについて考える．\n",
        "\n",
        "まず，```select('div#detail div')```と指定したコードを実行すると，以下の結果が得られ，コースへのリンク部分が重複して取得されていることがわかる．\n",
        "\n",
        "これは，```<div id=\"detail\">```内には```<div class=\"denki/kikai/kagaku\">```が含まれるが，その中にさらに```<div class=\"course\">```が含まれ，これらのタグも重複して取得されているためである．"
      ],
      "metadata": {
        "id": "5eqogMyAGsby"
      }
    },
    {
      "cell_type": "code",
      "source": [
        "div_list = soup.select('div#detail div')\n",
        "\n",
        "for div in div_list:\n",
        "  print(\"-----\")\n",
        "  print(div)"
      ],
      "metadata": {
        "colab": {
          "base_uri": "https://localhost:8080/"
        },
        "id": "2X5eIIU1Gbwn",
        "outputId": "d8defb16-a9b6-46bb-c51c-d4e281f487fc"
      },
      "execution_count": 9,
      "outputs": [
        {
          "output_type": "stream",
          "name": "stdout",
          "text": [
            "-----\n",
            "<div class=\"denki\">\n",
            "        <h2>電気電子情報工学科</h2>\n",
            "        <p class=\"desc\">電気電子情報工学科では、技術革新をささえる電気・電子・情報分野の学問を学びます。</p>\n",
            "        <div class=\"course\">\n",
            "          <h3><a href=\"./denki.html\">電気工学コース</a></h3>\n",
            "          <h3><a href=\"./denshi.html\">電子情報工学コース</a></h3>\n",
            "        </div>\n",
            "      </div>\n",
            "-----\n",
            "<div class=\"course\">\n",
            "          <h3><a href=\"./denki.html\">電気工学コース</a></h3>\n",
            "          <h3><a href=\"./denshi.html\">電子情報工学コース</a></h3>\n",
            "        </div>\n",
            "-----\n",
            "<div class=\"kikai\">\n",
            "        <h2>機械・材料工学科</h2>\n",
            "        <p class=\"desc\">機械・材料工学科では、機械工学と材料工学に分かれて、それぞれの分野の高度な専門科目を修得していきます。</p>\n",
            "        <div class=\"course\">\n",
            "          <h3><a href=\"./kikai.html\">機械工学コース</a></h3>\n",
            "          <h3><a href=\"./zairyo.html\">材料工学コース</a></h3>\n",
            "        </div>\n",
            "      </div>\n",
            "-----\n",
            "<div class=\"course\">\n",
            "          <h3><a href=\"./kikai.html\">機械工学コース</a></h3>\n",
            "          <h3><a href=\"./zairyo.html\">材料工学コース</a></h3>\n",
            "        </div>\n",
            "-----\n",
            "<div class=\"kagaku\">\n",
            "        <h2>応用化学工学科</h2>\n",
            "        <p class=\"desc\">応用化学工学科では、応用化学コースと化学工学コースに分かれて、基礎から徐々に専門性を高めて学習します。</p>\n",
            "        <div class=\"course\">\n",
            "          <h3><a href=\"./ouyou.html\">応用化学コース</a></h3>\n",
            "          <h3><a href=\"./kagaku.html\">化学工学コース</a></h3>\n",
            "        </div>\n",
            "      </div>\n",
            "-----\n",
            "<div class=\"course\">\n",
            "          <h3><a href=\"./ouyou.html\">応用化学コース</a></h3>\n",
            "          <h3><a href=\"./kagaku.html\">化学工学コース</a></h3>\n",
            "        </div>\n"
          ]
        }
      ]
    },
    {
      "cell_type": "markdown",
      "source": [
        "次に，```select('div#detail > div')```と指定したコードを実行する．\n",
        "\n",
        "\n",
        "この場合は，```<div class=\"course\">```部分は重複して取得されず，```<div class=\"denki/kikai/kagaku\">```のみが取得される．\n",
        "\n",
        "つまり，```select('div#detail > div')```は，```<div id=\"detail\">```直下の```<div>```タグのみを取得，という意味となる．"
      ],
      "metadata": {
        "id": "KxJhERW9DfNj"
      }
    },
    {
      "cell_type": "code",
      "source": [
        "div_list = soup.select('div#detail > div')\n",
        "\n",
        "for div in div_list:\n",
        "  print(\"-----\")\n",
        "  print(div)"
      ],
      "metadata": {
        "colab": {
          "base_uri": "https://localhost:8080/"
        },
        "id": "0w7QpqbZQHQf",
        "outputId": "f88aa4f7-56d4-4ee2-a023-44294a9578b1"
      },
      "execution_count": 10,
      "outputs": [
        {
          "output_type": "stream",
          "name": "stdout",
          "text": [
            "-----\n",
            "<div class=\"denki\">\n",
            "        <h2>電気電子情報工学科</h2>\n",
            "        <p class=\"desc\">電気電子情報工学科では、技術革新をささえる電気・電子・情報分野の学問を学びます。</p>\n",
            "        <div class=\"course\">\n",
            "          <h3><a href=\"./denki.html\">電気工学コース</a></h3>\n",
            "          <h3><a href=\"./denshi.html\">電子情報工学コース</a></h3>\n",
            "        </div>\n",
            "      </div>\n",
            "-----\n",
            "<div class=\"kikai\">\n",
            "        <h2>機械・材料工学科</h2>\n",
            "        <p class=\"desc\">機械・材料工学科では、機械工学と材料工学に分かれて、それぞれの分野の高度な専門科目を修得していきます。</p>\n",
            "        <div class=\"course\">\n",
            "          <h3><a href=\"./kikai.html\">機械工学コース</a></h3>\n",
            "          <h3><a href=\"./zairyo.html\">材料工学コース</a></h3>\n",
            "        </div>\n",
            "      </div>\n",
            "-----\n",
            "<div class=\"kagaku\">\n",
            "        <h2>応用化学工学科</h2>\n",
            "        <p class=\"desc\">応用化学工学科では、応用化学コースと化学工学コースに分かれて、基礎から徐々に専門性を高めて学習します。</p>\n",
            "        <div class=\"course\">\n",
            "          <h3><a href=\"./ouyou.html\">応用化学コース</a></h3>\n",
            "          <h3><a href=\"./kagaku.html\">化学工学コース</a></h3>\n",
            "        </div>\n",
            "      </div>\n"
          ]
        }
      ]
    },
    {
      "cell_type": "markdown",
      "source": [
        "#### 取得結果をCSVファイルに保存\n",
        "\n",
        "以上を踏まえて，学科名と説明文を取得し，CSVファイルに保存する．\n",
        "\n",
        "```<div id=\"detail\"> </div>```内に```<div class=\"denki/kikai/kagaku\">```が並んでおり，その中に学科名(```h2```）と説明文（```p```）が書かれている．\n",
        "これらを取得し，リストに代入後，CSVファイルに保存する．"
      ],
      "metadata": {
        "id": "4fLZ0BA1Hx3O"
      }
    },
    {
      "cell_type": "code",
      "source": [
        "div_list = soup.select('div#detail > div')\n",
        "\n",
        "res_list = []\n",
        "for div in div_list:\n",
        "  name = div.h2.text\n",
        "  desc = div.p.text\n",
        "  print(name, desc)\n",
        "  res_list.append([name, desc])\n",
        "\n",
        "import csv\n",
        "with open('gakka.csv', 'wt', encoding='sjis', newline='') as fp:\n",
        "  csv.writer(fp).writerows(res_list)"
      ],
      "metadata": {
        "colab": {
          "base_uri": "https://localhost:8080/"
        },
        "outputId": "01254ce7-a8e6-4734-8687-a6f17ce98760",
        "id": "nGA3oKLR-wwx"
      },
      "execution_count": 11,
      "outputs": [
        {
          "output_type": "stream",
          "name": "stdout",
          "text": [
            "電気電子情報工学科 電気電子情報工学科では、技術革新をささえる電気・電子・情報分野の学問を学びます。\n",
            "機械・材料工学科 機械・材料工学科では、機械工学と材料工学に分かれて、それぞれの分野の高度な専門科目を修得していきます。\n",
            "応用化学工学科 応用化学工学科では、応用化学コースと化学工学コースに分かれて、基礎から徐々に専門性を高めて学習します。\n"
          ]
        }
      ]
    },
    {
      "cell_type": "markdown",
      "source": [
        "##参考文献\n",
        "*   クジラ飛行机 (著)，シゴトがはかどる Python自動処理の教科書，2020\n",
        "*   齊藤 貴義 (著)，スクレイピング・ハッキング・ラボ　Pythonで自動化する未来型生活，2020\n",
        "\n"
      ],
      "metadata": {
        "id": "1YlgZ7ZQvyPV"
      }
    }
  ]
}
