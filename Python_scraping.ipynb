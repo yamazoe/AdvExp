{
  "nbformat": 4,
  "nbformat_minor": 0,
  "metadata": {
    "colab": {
      "provenance": [],
      "collapsed_sections": [
        "zNN-_VPSU02L",
        "5uwsUX2EXMrO",
        "ltdp7i8olHlu",
        "-w2NCsjJnGWT"
      ],
      "toc_visible": true
    },
    "kernelspec": {
      "name": "python3",
      "display_name": "Python 3"
    },
    "language_info": {
      "name": "python"
    }
  },
  "cells": [
    {
      "cell_type": "markdown",
      "source": [
        "# PythonによるWebスクレイピング\n",
        "\n",
        "以下では，サンプルページ\n",
        "\n",
        "https://hirotakeyamazoe.jp/lecture/advexp/\n",
        "\n",
        "に対して，スクレイピングを行う例を示す．"
      ],
      "metadata": {
        "id": "siXWChwc9c6A"
      }
    },
    {
      "cell_type": "markdown",
      "source": [
        "## 1. Requestsライブラリを用いたHTMLファイルの取得"
      ],
      "metadata": {
        "id": "9q8WdzNgdGTz"
      }
    },
    {
      "cell_type": "markdown",
      "source": [
        "### 以下で使用するライブラリの読み込み"
      ],
      "metadata": {
        "id": "TGtysvWr7_5q"
      }
    },
    {
      "cell_type": "code",
      "source": [
        "# Requests, BeautifulSoupの読み込み\n",
        "import requests\n",
        "from bs4 import BeautifulSoup\n",
        "\n",
        "# 画像表示用\n",
        "import cv2\n",
        "import matplotlib.pyplot as plt"
      ],
      "metadata": {
        "id": "SEyZAKHayZHF"
      },
      "execution_count": 1,
      "outputs": []
    },
    {
      "cell_type": "markdown",
      "source": [
        "### HTMLファイルの内容の取得\n",
        "以下のコードを実行すると，サンプルのウェブページのhtmlの内容が取得，表示される．"
      ],
      "metadata": {
        "id": "l8ZBB7VaXBjG"
      }
    },
    {
      "cell_type": "code",
      "execution_count": 2,
      "metadata": {
        "colab": {
          "base_uri": "https://localhost:8080/"
        },
        "id": "uu2VRqBq8faD",
        "outputId": "335b1a79-ff27-4660-f79c-2db80c787018"
      },
      "outputs": [
        {
          "output_type": "stream",
          "name": "stdout",
          "text": [
            "<html>\r\n",
            "  <head>\r\n",
            "    <meta charset=\"utf-8\">\r\n",
            "    <title>電子情報工学特別実験用サンプルページ</title>\r\n",
            "    <link rel=\"stylesheet\" href=\"main.css\">\r\n",
            "  </head>\r\n",
            "  <body>\r\n",
            "    <div id=\"title\">\r\n",
            "      <h1>電子情報工学特別実験用サンプルページ</h1>\r\n",
            "      <h2>兵庫県立大学工学部</h2>\r\n",
            "      <p>「ものづくり」に主眼を置いた教育・研究を通して、真に人類の利益と安全に貢献できる有能な人材の育成を図ります。\r\n",
            "    </div>\r\n",
            "    <div id=\"detail\">\r\n",
            "      <div class=\"denki\">\r\n",
            "        <h2>電気電子情報工学科</h2>\r\n",
            "        <p class=\"desc\">電気電子情報工学科では、技術革新をささえる電気・電子・情報分野の学問を学びます。</p>\r\n",
            "        <div class=\"course\">\r\n",
            "          <h3><a href=\"./denki.html\">電気工学コース</a></h3>\r\n",
            "          <h3><a href=\"./denshi.html\">電子情報工学コース</a></h3>\r\n",
            "        </div>\r\n",
            "      </div>\r\n",
            "      <div class=\"kikai\">\r\n",
            "        <h2>機械・材料工学科</h2>\r\n",
            "        <p class=\"desc\">機械・材料工学科では、機械工学と材料工学に分かれて、それぞれの分野の高度な専門科目を修得していきます。</p>\r\n",
            "        <div class=\"course\">\r\n",
            "          <h3><a href=\"./kikai.html\">機械工学コース</a></h3>\r\n",
            "          <h3><a href=\"./zairyo.html\">材料工学コース</a></h3>\r\n",
            "        </div>\r\n",
            "      </div>\r\n",
            "      <div class=\"kagaku\">\r\n",
            "        <h2>応用化学工学科</h2>\r\n",
            "        <p class=\"desc\">応用化学工学科では、応用化学コースと化学工学コースに分かれて、基礎から徐々に専門性を高めて学習します。</p>\r\n",
            "        <div class=\"course\">\r\n",
            "          <h3><a href=\"./ouyou.html\">応用化学コース</a></h3>\r\n",
            "          <h3><a href=\"./kagaku.html\">化学工学コース</a></h3>\r\n",
            "        </div>\r\n",
            "      </div>\r\n",
            "      <img src=\"img/gakubu.png\" width=\"200\" >\r\n",
            "    </div>\r\n",
            "  </body>\r\n",
            "</html>\r\n",
            "\r\n",
            "\n"
          ]
        }
      ],
      "source": [
        "# 読み込むURLの指定\n",
        "url = 'https://hirotakeyamazoe.jp/lecture/advexp/'\n",
        "\n",
        "# 指定のURLへアクセス\n",
        "result = requests.get(url)\n",
        "\n",
        "# 取得結果から文字コードを推定して設定\n",
        "# この処理を入れないと、結果の出力で文字化けする）\n",
        "result.encoding = result.apparent_encoding\n",
        "\n",
        "# 取得結果の表示\n",
        "print(result.text)"
      ]
    },
    {
      "cell_type": "markdown",
      "source": [
        "### アクセス状況の取得（今回の課題では考えなくてもOK）\n",
        "アクセスの成功／失敗は，```result.ok```で取得できる．\n",
        "\n",
        "アクセス状況（ステータスコード）は，```result.status_code```で取得できる．\n",
        "*   成功の場合，200となる．\n",
        "*   失敗の場合，200以外の値となる．404 (not found) が有名．\n",
        "\n"
      ],
      "metadata": {
        "id": "zNN-_VPSU02L"
      }
    },
    {
      "cell_type": "code",
      "source": [
        "print(result.ok)\n",
        "print(result.status_code)"
      ],
      "metadata": {
        "colab": {
          "base_uri": "https://localhost:8080/"
        },
        "id": "IuomRSdgPdOV",
        "outputId": "4cec4b7b-db6c-4b75-c78f-9f82c23ca222"
      },
      "execution_count": 3,
      "outputs": [
        {
          "output_type": "stream",
          "name": "stdout",
          "text": [
            "True\n",
            "200\n"
          ]
        }
      ]
    },
    {
      "cell_type": "markdown",
      "source": [
        "### 画像ファイルの取得\n",
        "サンプルのウェブページには画像が含まれている．\n",
        "\n",
        "アドレスは，\n",
        "https://hirotakeyamazoe.jp/lecture/advexp/img/gakubu.png\n",
        "である．\n",
        "\n",
        "以下のコードを実行すると，その画像が```image.png```というファイルとしてダウンロードされる．"
      ],
      "metadata": {
        "id": "5uwsUX2EXMrO"
      }
    },
    {
      "cell_type": "code",
      "source": [
        "# 読み込むURLの指定\n",
        "url = 'https://hirotakeyamazoe.jp/lecture/advexp/img/gakubu.png'\n",
        "\n",
        "# 指定のURLへアクセス\n",
        "result = requests.get(url)\n",
        "\n",
        "# ファイル(image.png)として保存\n",
        "with open('image.png', 'wb') as fp:\n",
        "  fp.write(result.content)"
      ],
      "metadata": {
        "id": "AGHwd_kBSrca"
      },
      "execution_count": 4,
      "outputs": []
    },
    {
      "cell_type": "markdown",
      "source": [
        "**保存したファイルの表示**"
      ],
      "metadata": {
        "id": "sovraBPWl6Mt"
      }
    },
    {
      "cell_type": "code",
      "source": [
        "img = cv2.imread('image.png', cv2.IMREAD_UNCHANGED)  # カラー画像として読み込み\n",
        "img = cv2.cvtColor(img, cv2.COLOR_BGRA2RGBA)\n",
        "plt.imshow(img, vmin = 0, vmax = 255)"
      ],
      "metadata": {
        "id": "W69GeLq9mSWz",
        "outputId": "c47ca8b3-fa79-4b8b-c1d3-ea4b1504c65e",
        "colab": {
          "base_uri": "https://localhost:8080/",
          "height": 0
        }
      },
      "execution_count": 5,
      "outputs": [
        {
          "output_type": "execute_result",
          "data": {
            "text/plain": [
              "<matplotlib.image.AxesImage at 0x7d32e0f3a740>"
            ]
          },
          "metadata": {},
          "execution_count": 5
        },
        {
          "output_type": "display_data",
          "data": {
            "text/plain": [
              "<Figure size 640x480 with 1 Axes>"
            ],
            "image/png": "[encoded data removed]"
          },
          "metadata": {}
        }
      ]
    },
    {
      "cell_type": "markdown",
      "source": [
        "## 2. Beautiful Soupを用いたスクレイピングの基礎"
      ],
      "metadata": {
        "id": "IRiXpOzEeXZL"
      }
    },
    {
      "cell_type": "markdown",
      "source": [
        "### スクレイピングの流れ\n",
        "Step 1: HTMLの構造を理解し，取得する情報のタグ・属性を把握する\n",
        "\n",
        "Step 2: Beautiful Soupを用いて，情報を取得する\n"
      ],
      "metadata": {
        "id": "ltdp7i8olHlu"
      }
    },
    {
      "cell_type": "markdown",
      "source": [
        "### Step 1: HTMLの構造を理解し，取得する情報のタグ・属性を把握する\n",
        "\n",
        "Chromeのデベロッパーツールなどを用いると，ウェブページとHTMLの関係を把握しやすい．それらを用いて，取得したい情報のタグと属性を把握する．\n",
        "\n",
        "ここでは，「電子情報工学特別実験用サンプルページ」の部分を取得したいとすると，\n",
        "\n",
        "```<h1>電子情報工学特別実験用サンプルページ</h1>```\n",
        "\n",
        "となっており，```h1```要素を取得すればよいことがわかる．"
      ],
      "metadata": {
        "id": "-w2NCsjJnGWT"
      }
    },
    {
      "cell_type": "markdown",
      "source": [
        "### Step 2: Beautiful Soupを用いて，情報を取得する\n",
        "\n",
        "Beautiful Soupは，スクレイピングのライブラリである．これを用いて，読み込んだHTMLを解析し，情報を取得できる．"
      ],
      "metadata": {
        "id": "6WlUZFYbwd5w"
      }
    },
    {
      "cell_type": "markdown",
      "source": [
        "#### HTML中に一つだけ存在する要素を取得する（```find()```関数）\n",
        "\n",
        "まず，requestsで取得した結果をBeautifulSoupに入力し，```find()```関数を用いて```h1```要素を取得する．\n",
        "\n",
        "以下のコードを実行すると，```h1```要素を取得し表示する．"
      ],
      "metadata": {
        "id": "tPnWLaLnxqtP"
      }
    },
    {
      "cell_type": "code",
      "source": [
        "# 読み込むURLの指定\n",
        "url = 'https://hirotakeyamazoe.jp/lecture/advexp/'\n",
        "\n",
        "# 指定のURLへアクセス\n",
        "result = requests.get(url)\n",
        "\n",
        "# 取得結果から文字コードを推定して設定\n",
        "# この処理を入れないと、結果の出力で文字化けする）\n",
        "result.encoding = result.apparent_encoding\n",
        "\n",
        "# Beautiful Soupを用いて解析\n",
        "soup = BeautifulSoup(result.text, 'html5lib')\n",
        "\n",
        "# h1要素の取得\n",
        "h1 = soup.find('h1')\n",
        "\n",
        "# 取得結果の表示\n",
        "print(h1.text)"
      ],
      "metadata": {
        "colab": {
          "base_uri": "https://localhost:8080/"
        },
        "id": "dSWElKC9l-il",
        "outputId": "9276c510-c82f-4bdf-b696-81dc63a21af8"
      },
      "execution_count": 6,
      "outputs": [
        {
          "output_type": "stream",
          "name": "stdout",
          "text": [
            "電子情報工学特別実験用サンプルページ\n"
          ]
        }
      ]
    },
    {
      "cell_type": "markdown",
      "source": [
        "```find()```関数を利用する代わりに，```soup.h1```といった形でも要素にアクセスできる．"
      ],
      "metadata": {
        "id": "XE4RLHGzIePg"
      }
    },
    {
      "cell_type": "code",
      "source": [
        "# 別の方法でのh1要素の取得結果の表示\n",
        "print(soup.h1.text)"
      ],
      "metadata": {
        "colab": {
          "base_uri": "https://localhost:8080/"
        },
        "id": "yyuf0CupIqwF",
        "outputId": "6062a965-b2f3-47c2-d9cf-adb51111b817"
      },
      "execution_count": 7,
      "outputs": [
        {
          "output_type": "stream",
          "name": "stdout",
          "text": [
            "電子情報工学特別実験用サンプルページ\n"
          ]
        }
      ]
    },
    {
      "cell_type": "markdown",
      "source": [
        "#### 複数存在する要素全てを取得する（```find_all()```関数）\n",
        "サンプルページ中に```h2```は複数存在する．```h2```全てを取得したい場合には，```find_all()```関数を利用する．\n",
        "\n",
        "```find_all()```関数の戻り値はリストであり，```for```文を用いたり，添え字を付けてアクセスすると，各要素にアクセスできる．"
      ],
      "metadata": {
        "id": "wIzkepwM8GMt"
      }
    },
    {
      "cell_type": "code",
      "source": [
        "# h2要素全てを取得\n",
        "h2_list = soup.find_all('h2')\n",
        "\n",
        "for h2 in h2_list:\n",
        "  # 取得結果の表示\n",
        "  print(h2.text)\n",
        "\n",
        "# リストの1番目を表示\n",
        "print(\"-----\")\n",
        "print(h2_list[1].text)"
      ],
      "metadata": {
        "colab": {
          "base_uri": "https://localhost:8080/"
        },
        "id": "psFTQ_PXndhb",
        "outputId": "2f1e4fcf-040c-4b7a-be52-e9d530200c6f"
      },
      "execution_count": 8,
      "outputs": [
        {
          "output_type": "stream",
          "name": "stdout",
          "text": [
            "兵庫県立大学工学部\n",
            "電気電子情報工学科\n",
            "機械・材料工学科\n",
            "応用化学工学科\n",
            "-----\n",
            "電気電子情報工学科\n"
          ]
        }
      ]
    },
    {
      "cell_type": "markdown",
      "source": [
        "#### ```id```，```class```を用いて要素を指定・取得する（```select()関数```）\n",
        "\n",
        "HTMLでは，タグに```id```や```class```といった属性を指定できる．これを用いて，取得情報をより細かく指定することができる．\n",
        "\n",
        "例えば，```h2```のうち，学科名のみを取り出したい場合，学科の説明部分が\n",
        "```<div id=\"detail\"> </div>```で囲われていることを利用する．\n",
        "\n",
        "こういった場合，```select()```関数を利用し，```soup.select('div#detail h2')```と指定するとよい．\n",
        "\n",
        "引数の```div#detail h2```は，```<div id=\"detail\"> </div>```の中の```<h2>```を意味する．\n",
        "\n",
        "\n",
        "\n",
        "\n"
      ],
      "metadata": {
        "id": "SSNLeMi29Lw3"
      }
    },
    {
      "cell_type": "code",
      "source": [
        "# id = \"detail\"のh2要素全てを取得\n",
        "h2_list = soup.select('div#detail h2')\n",
        "\n",
        "# 取得結果の表示\n",
        "for h2 in h2_list:\n",
        "  print(h2.text)"
      ],
      "metadata": {
        "id": "L69QaMdd-rDj",
        "outputId": "bd447993-b06c-4f4e-9e19-a535c75bbdfe",
        "colab": {
          "base_uri": "https://localhost:8080/"
        }
      },
      "execution_count": 9,
      "outputs": [
        {
          "output_type": "stream",
          "name": "stdout",
          "text": [
            "電気電子情報工学科\n",
            "機械・材料工学科\n",
            "応用化学工学科\n"
          ]
        }
      ]
    },
    {
      "cell_type": "markdown",
      "source": [
        "```<div class=\"denki\"> </div>```の中の```h3```を指定する場合は，```soup.select('div.denki h3')```と`.`で接続して指定する．"
      ],
      "metadata": {
        "id": "qYgnOOsSAz1X"
      }
    },
    {
      "cell_type": "code",
      "source": [
        "# class = \"denki\"のh3要素を全てを取得\n",
        "h3_list = soup.select('div.denki h3')\n",
        "\n",
        "# 取得結果の表示\n",
        "for h3 in h3_list:\n",
        "  print(h3.text)"
      ],
      "metadata": {
        "id": "-h7j7KPqBNVe",
        "outputId": "6dab9604-7b34-49a1-fe64-7e39e7491a34",
        "colab": {
          "base_uri": "https://localhost:8080/"
        }
      },
      "execution_count": 10,
      "outputs": [
        {
          "output_type": "stream",
          "name": "stdout",
          "text": [
            "電気工学コース\n",
            "電子情報工学コース\n"
          ]
        }
      ]
    },
    {
      "cell_type": "markdown",
      "source": [
        "#### ```select()```関数の指定方法の違い\n",
        "\n",
        "上では，```select('div#detail h2')```と指定していたが，```select('div#detail > h2')```という指定方法もある．この違いについて考える．\n",
        "\n",
        "まず，```select('div#detail div')```と指定したコードを実行すると，以下の結果が得られ，コースへのリンク部分が重複して取得されていることがわかる．\n",
        "\n",
        "これは，```<div id=\"detail\">```内には```<div class=\"denki/kikai/kagaku\">```が含まれるが，その中にさらに```<div class=\"course\">```が含まれ，これらのタグも重複して取得されているためである．"
      ],
      "metadata": {
        "id": "5eqogMyAGsby"
      }
    },
    {
      "cell_type": "code",
      "source": [
        "div_list = soup.select('div#detail div')\n",
        "\n",
        "for div in div_list:\n",
        "  print(\"-----\")\n",
        "  print(div)"
      ],
      "metadata": {
        "id": "2X5eIIU1Gbwn",
        "outputId": "f0cf6b34-60bd-436c-f57c-6f72589edd3a",
        "colab": {
          "base_uri": "https://localhost:8080/"
        }
      },
      "execution_count": 11,
      "outputs": [
        {
          "output_type": "stream",
          "name": "stdout",
          "text": [
            "-----\n",
            "<div class=\"denki\">\n",
            "        <h2>電気電子情報工学科</h2>\n",
            "        <p class=\"desc\">電気電子情報工学科では、技術革新をささえる電気・電子・情報分野の学問を学びます。</p>\n",
            "        <div class=\"course\">\n",
            "          <h3><a href=\"./denki.html\">電気工学コース</a></h3>\n",
            "          <h3><a href=\"./denshi.html\">電子情報工学コース</a></h3>\n",
            "        </div>\n",
            "      </div>\n",
            "-----\n",
            "<div class=\"course\">\n",
            "          <h3><a href=\"./denki.html\">電気工学コース</a></h3>\n",
            "          <h3><a href=\"./denshi.html\">電子情報工学コース</a></h3>\n",
            "        </div>\n",
            "-----\n",
            "<div class=\"kikai\">\n",
            "        <h2>機械・材料工学科</h2>\n",
            "        <p class=\"desc\">機械・材料工学科では、機械工学と材料工学に分かれて、それぞれの分野の高度な専門科目を修得していきます。</p>\n",
            "        <div class=\"course\">\n",
            "          <h3><a href=\"./kikai.html\">機械工学コース</a></h3>\n",
            "          <h3><a href=\"./zairyo.html\">材料工学コース</a></h3>\n",
            "        </div>\n",
            "      </div>\n",
            "-----\n",
            "<div class=\"course\">\n",
            "          <h3><a href=\"./kikai.html\">機械工学コース</a></h3>\n",
            "          <h3><a href=\"./zairyo.html\">材料工学コース</a></h3>\n",
            "        </div>\n",
            "-----\n",
            "<div class=\"kagaku\">\n",
            "        <h2>応用化学工学科</h2>\n",
            "        <p class=\"desc\">応用化学工学科では、応用化学コースと化学工学コースに分かれて、基礎から徐々に専門性を高めて学習します。</p>\n",
            "        <div class=\"course\">\n",
            "          <h3><a href=\"./ouyou.html\">応用化学コース</a></h3>\n",
            "          <h3><a href=\"./kagaku.html\">化学工学コース</a></h3>\n",
            "        </div>\n",
            "      </div>\n",
            "-----\n",
            "<div class=\"course\">\n",
            "          <h3><a href=\"./ouyou.html\">応用化学コース</a></h3>\n",
            "          <h3><a href=\"./kagaku.html\">化学工学コース</a></h3>\n",
            "        </div>\n"
          ]
        }
      ]
    },
    {
      "cell_type": "markdown",
      "source": [
        "次に，```select('div#detail > div')```と指定したコードを実行する．\n",
        "\n",
        "\n",
        "この場合は，```<div class=\"course\">```部分は重複して取得されず，```<div class=\"denki/kikai/kagaku\">```のみが取得される．\n",
        "\n",
        "つまり，```select('div#detail > div')```は，```<div id=\"detail\">```直下の```<div>```タグのみを取得，という意味となる．"
      ],
      "metadata": {
        "id": "KxJhERW9DfNj"
      }
    },
    {
      "cell_type": "code",
      "source": [
        "div_list = soup.select('div#detail > div')\n",
        "\n",
        "for div in div_list:\n",
        "  print(\"-----\")\n",
        "  print(div)"
      ],
      "metadata": {
        "id": "0w7QpqbZQHQf",
        "outputId": "6e5274ca-4c90-4079-8103-1a6e053b3a96",
        "colab": {
          "base_uri": "https://localhost:8080/"
        }
      },
      "execution_count": 12,
      "outputs": [
        {
          "output_type": "stream",
          "name": "stdout",
          "text": [
            "-----\n",
            "<div class=\"denki\">\n",
            "        <h2>電気電子情報工学科</h2>\n",
            "        <p class=\"desc\">電気電子情報工学科では、技術革新をささえる電気・電子・情報分野の学問を学びます。</p>\n",
            "        <div class=\"course\">\n",
            "          <h3><a href=\"./denki.html\">電気工学コース</a></h3>\n",
            "          <h3><a href=\"./denshi.html\">電子情報工学コース</a></h3>\n",
            "        </div>\n",
            "      </div>\n",
            "-----\n",
            "<div class=\"kikai\">\n",
            "        <h2>機械・材料工学科</h2>\n",
            "        <p class=\"desc\">機械・材料工学科では、機械工学と材料工学に分かれて、それぞれの分野の高度な専門科目を修得していきます。</p>\n",
            "        <div class=\"course\">\n",
            "          <h3><a href=\"./kikai.html\">機械工学コース</a></h3>\n",
            "          <h3><a href=\"./zairyo.html\">材料工学コース</a></h3>\n",
            "        </div>\n",
            "      </div>\n",
            "-----\n",
            "<div class=\"kagaku\">\n",
            "        <h2>応用化学工学科</h2>\n",
            "        <p class=\"desc\">応用化学工学科では、応用化学コースと化学工学コースに分かれて、基礎から徐々に専門性を高めて学習します。</p>\n",
            "        <div class=\"course\">\n",
            "          <h3><a href=\"./ouyou.html\">応用化学コース</a></h3>\n",
            "          <h3><a href=\"./kagaku.html\">化学工学コース</a></h3>\n",
            "        </div>\n",
            "      </div>\n"
          ]
        }
      ]
    },
    {
      "cell_type": "markdown",
      "source": [
        "#### 取得結果をCSVファイルに保存\n",
        "\n",
        "以上を踏まえて，学科名と説明文を取得し，CSVファイルに保存する．\n",
        "\n",
        "```<div id=\"detail\"> </div>```内に```<div class=\"denki/kikai/kagaku\">```が並んでおり，その中に学科名(```h2```）と説明文（```p```）が書かれている．\n",
        "これらを取得し，リストに代入後，CSVファイルに保存する．"
      ],
      "metadata": {
        "id": "4fLZ0BA1Hx3O"
      }
    },
    {
      "cell_type": "code",
      "source": [
        "div_list = soup.select('div#detail > div')\n",
        "\n",
        "res_list = []\n",
        "for div in div_list:\n",
        "  name = div.h2.text\n",
        "  desc = div.p.text\n",
        "  print(name, desc)\n",
        "  res_list.append([name, desc])\n",
        "\n",
        "import csv\n",
        "with open('gakka.csv', 'wt', encoding='sjis', newline='') as fp:\n",
        "  csv.writer(fp).writerows(res_list)"
      ],
      "metadata": {
        "id": "nGA3oKLR-wwx",
        "outputId": "7ba5e866-de0f-466b-be5c-cde088639908",
        "colab": {
          "base_uri": "https://localhost:8080/"
        }
      },
      "execution_count": 13,
      "outputs": [
        {
          "output_type": "stream",
          "name": "stdout",
          "text": [
            "電気電子情報工学科 電気電子情報工学科では、技術革新をささえる電気・電子・情報分野の学問を学びます。\n",
            "機械・材料工学科 機械・材料工学科では、機械工学と材料工学に分かれて、それぞれの分野の高度な専門科目を修得していきます。\n",
            "応用化学工学科 応用化学工学科では、応用化学コースと化学工学コースに分かれて、基礎から徐々に専門性を高めて学習します。\n"
          ]
        }
      ]
    },
    {
      "cell_type": "markdown",
      "source": [
        "## 3. 別ページでの例\n",
        "\n",
        "別ページでの例として，\n",
        "\n",
        "https://hirotakeyamazoe.jp/publication-ja.html\n",
        "\n",
        "に対して，スクレイピングを行う例を示す．"
      ],
      "metadata": {
        "id": "qrI2TI85nfGY"
      }
    },
    {
      "cell_type": "markdown",
      "source": [
        "### Step 1: HTMLの構造を理解し，取得する情報のタグ・属性を把握する\n",
        "\n",
        "Chromeのデベロッパーツールなどを用いると，ウェブページとHTMLの関係を把握しやすい．それらを用いて，取得したい情報のタグと属性を把握する．\n",
        "\n",
        "ここでは，「論文誌」内の文献リストを取得したいとすると，\n",
        "\n",
        "```<div id=\"journal\">```内の```<li>```要素を取得すれば良いことがわかる．"
      ],
      "metadata": {
        "id": "J8f86Yton2IO"
      }
    },
    {
      "cell_type": "markdown",
      "source": [
        "### Step 2: Beautiful Soupを用いて，情報を取得する\n",
        "\n",
        "Beautiful Soupは，スクレイピングのライブラリである．これを用いて，読み込んだHTMLを解析し，情報を取得できる．"
      ],
      "metadata": {
        "id": "pWPNlA83n4je"
      }
    },
    {
      "cell_type": "code",
      "source": [
        "# 読み込むURLの指定\n",
        "url = 'https://hirotakeyamazoe.jp/publication-ja.html'\n",
        "\n",
        "# 指定のURLへアクセス\n",
        "result = requests.get(url)\n",
        "\n",
        "# 取得結果から文字コードを推定して設定\n",
        "# この処理を入れないと、結果の出力で文字化けする）\n",
        "result.encoding = result.apparent_encoding\n",
        "\n",
        "# Beautiful Soupを用いて解析\n",
        "soup = BeautifulSoup(result.text, 'html5lib')\n",
        "\n",
        "# id = \"journal\"のh2要素全てを取得\n",
        "li_list = soup.select('div#journal li')\n",
        "\n",
        "# 先頭から３件を表示\n",
        "for i in range(3):\n",
        "  print(\"{}件目\".format(i))\n",
        "  # 途中に改行が含まれるため，改行を取り除く\n",
        "  print(li_list[i].text.replace('\\n',''))"
      ],
      "metadata": {
        "colab": {
          "base_uri": "https://localhost:8080/"
        },
        "id": "sntk_AIQn6qs",
        "outputId": "1d3d02b4-b840-4204-91e4-69f8376a01e8"
      },
      "execution_count": 14,
      "outputs": [
        {
          "output_type": "stream",
          "name": "stdout",
          "text": [
            "0件目\n",
            "事前定義計算モジュールの組込みによる隠れパラメータの誘導と深層学習の性能向上    施真琴,     内海章,     山添大丈,    李周浩,         電子情報通信学会論文誌D,    Vol.J106-D, No.4, pp.268-276,    2023    [link]    \n",
            "1件目\n",
            "Analysis of impressions of robot by changing its motion and trajectory parameters for designing parameterized behaviors of home-service robots    Hirotake Yamazoe,    Jaemin Chun,     Youngsun Kim,     Kenta Miki,     Takuya Imazaike,     Yume Matsushita and Joo-Ho Lee ,         Intelligent Service Robotics,    Vol. 16, pp.3-18,    2023    [link]    \n",
            "2件目\n",
            "Personalized Face-Pose Estimation Network Using Incrementally Updated Face Shape Parameters    Makoto Sei,     Akira Utsumi,     Hirotake Yamazoe,    Joo-Ho Lee,         Applied Intelligence,    Vol. 52, pp.11506-11516,    2022    [link]    \n"
          ]
        }
      ]
    },
    {
      "cell_type": "markdown",
      "source": [
        "#参考文献\n",
        "*   クジラ飛行机 (著)，シゴトがはかどる Python自動処理の教科書，2020\n",
        "*   齊藤 貴義 (著)，スクレイピング・ハッキング・ラボ　Pythonで自動化する未来型生活，2020\n",
        "\n"
      ],
      "metadata": {
        "id": "1YlgZ7ZQvyPV"
      }
    }
  ]
}