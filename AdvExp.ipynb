{
  "nbformat": 4,
  "nbformat_minor": 0,
  "metadata": {
    "colab": {
      "name": "AdvExp.ipynb",
      "provenance": [],
      "collapsed_sections": [
        "9S3d6_GUyP3J"
      ],
      "toc_visible": true
    },
    "kernelspec": {
      "name": "ir",
      "display_name": "R"
    }
  },
  "cells": [
    {
      "cell_type": "markdown",
      "metadata": {
        "id": "Vdmp3AHhbtYW"
      },
      "source": [
        "# Ｒによるデータ分析と可視化"
      ]
    },
    {
      "cell_type": "markdown",
      "metadata": {
        "id": "s1xMNUTvxWgf"
      },
      "source": [
        "## ライブラリ（tidyverse）の読み込み\n",
        "```dplyr```を用いたデータ分析と，```ggplot2```を用いたデータの可視化を行うためのライブラリの読み込み\n",
        "\n",
        "結果からわかるように，以下で利用する```filter()```のみ，conflictが発生している．そのため，```dplyr::filter()```としないといけないことに注意．"
      ]
    },
    {
      "cell_type": "markdown",
      "metadata": {
        "id": "zQ0-zLDAMV9o"
      },
      "source": [
        ""
      ]
    },
    {
      "cell_type": "code",
      "metadata": {
        "colab": {
          "base_uri": "https://localhost:8080/"
        },
        "id": "yDeSBsW2D5Kf",
        "outputId": "0702ca45-ce9c-424e-9349-ce8c640aa149"
      },
      "source": [
        "library(\"tidyverse\")"
      ],
      "execution_count": 1,
      "outputs": [
        {
          "output_type": "stream",
          "name": "stderr",
          "text": [
            "Warning message in system(\"timedatectl\", intern = TRUE):\n",
            "“running command 'timedatectl' had status 1”\n",
            "── \u001b[1mAttaching packages\u001b[22m ─────────────────────────────────────── tidyverse 1.3.1 ──\n",
            "\n",
            "\u001b[32m✔\u001b[39m \u001b[34mggplot2\u001b[39m 3.3.5     \u001b[32m✔\u001b[39m \u001b[34mpurrr  \u001b[39m 0.3.4\n",
            "\u001b[32m✔\u001b[39m \u001b[34mtibble \u001b[39m 3.1.4     \u001b[32m✔\u001b[39m \u001b[34mdplyr  \u001b[39m 1.0.7\n",
            "\u001b[32m✔\u001b[39m \u001b[34mtidyr  \u001b[39m 1.1.3     \u001b[32m✔\u001b[39m \u001b[34mstringr\u001b[39m 1.4.0\n",
            "\u001b[32m✔\u001b[39m \u001b[34mreadr  \u001b[39m 2.0.1     \u001b[32m✔\u001b[39m \u001b[34mforcats\u001b[39m 0.5.1\n",
            "\n",
            "── \u001b[1mConflicts\u001b[22m ────────────────────────────────────────── tidyverse_conflicts() ──\n",
            "\u001b[31m✖\u001b[39m \u001b[34mdplyr\u001b[39m::\u001b[32mfilter()\u001b[39m masks \u001b[34mstats\u001b[39m::filter()\n",
            "\u001b[31m✖\u001b[39m \u001b[34mdplyr\u001b[39m::\u001b[32mlag()\u001b[39m    masks \u001b[34mstats\u001b[39m::lag()\n",
            "\n"
          ]
        }
      ]
    },
    {
      "cell_type": "markdown",
      "metadata": {
        "id": "t6k6LSWVq3st"
      },
      "source": [
        "## データセットの読み込み"
      ]
    },
    {
      "cell_type": "markdown",
      "metadata": {
        "id": "9S3d6_GUyP3J"
      },
      "source": [
        "### 利用するデータセット（Lahmanデータセット）の準備\n",
        "Lahmanパッケージをインストールし，読み込むとLahmanデータセットが利用できるようになる．"
      ]
    },
    {
      "cell_type": "code",
      "metadata": {
        "id": "nSfG2E2B1jYa",
        "colab": {
          "base_uri": "https://localhost:8080/"
        },
        "outputId": "c229f391-00c7-4c42-ea73-634d619fdd1b"
      },
      "source": [
        "install.packages(\"Lahman\")\n",
        "library(\"Lahman\")"
      ],
      "execution_count": 2,
      "outputs": [
        {
          "output_type": "stream",
          "name": "stderr",
          "text": [
            "Installing package into ‘/usr/local/lib/R/site-library’\n",
            "(as ‘lib’ is unspecified)\n",
            "\n"
          ]
        }
      ]
    },
    {
      "cell_type": "markdown",
      "metadata": {
        "id": "UrESVHlSW_6k"
      },
      "source": [
        "### Lahmanデータセット\n",
        "Lahmanパッケージに含まれるデータセットの例（データフレーム型）\n",
        "\n",
        "\n",
        "|  変数（データ）名  |    |\n",
        "| ---- | ---- |\n",
        "|  People  | プレイヤーに関するデータ  |\n",
        "|  Batting | シーズンの打撃成績 |\n",
        "|  Fielding | シーズンの守備成績 |\n",
        "|  Pitching | シーズンの投球成績 |\n",
        "|  Salaries | プレイヤーの各シーズンの年俸 |\n",
        "|  Teams | シーズンごとのチーム成績 |\n",
        "\n",
        "上記以外のデータや，データセットの詳細については，以下を参照のこと．\n",
        "\n",
        "http://www.seanlahman.com/baseball-archive/statistics/\n",
        "\n",
        "http://www.seanlahman.com/files/database/readme2017.txt"
      ]
    },
    {
      "cell_type": "markdown",
      "metadata": {
        "id": "xmFFKvL2NSU6"
      },
      "source": [
        "例えば，Peopleデータセットを表示すると"
      ]
    },
    {
      "cell_type": "code",
      "metadata": {
        "colab": {
          "base_uri": "https://localhost:8080/",
          "height": 402
        },
        "id": "aymbLm3aNNfx",
        "outputId": "cc2a619f-c8df-4223-8f3c-aeca5deec90d"
      },
      "source": [
        "head(People)"
      ],
      "execution_count": 3,
      "outputs": [
        {
          "output_type": "display_data",
          "data": {
            "text/plain": [
              "  playerID  birthYear birthMonth birthDay birthCountry birthState birthCity \n",
              "1 aardsda01 1981      12         27       USA          CO         Denver    \n",
              "2 aaronha01 1934       2          5       USA          AL         Mobile    \n",
              "3 aaronto01 1939       8          5       USA          AL         Mobile    \n",
              "4 aasedo01  1954       9          8       USA          CA         Orange    \n",
              "5 abadan01  1972       8         25       USA          FL         Palm Beach\n",
              "6 abadfe01  1985      12         17       D.R.         La Romana  La Romana \n",
              "  deathYear deathMonth deathDay ⋯ weight height bats throws debut     \n",
              "1   NA      NA         NA       ⋯ 215    75     R    R      2004-04-06\n",
              "2 2021       1         22       ⋯ 180    72     R    R      1954-04-13\n",
              "3 1984       8         16       ⋯ 190    75     R    R      1962-04-10\n",
              "4   NA      NA         NA       ⋯ 190    75     R    R      1977-07-26\n",
              "5   NA      NA         NA       ⋯ 184    73     L    L      2001-09-10\n",
              "6   NA      NA         NA       ⋯ 235    74     L    L      2010-07-28\n",
              "  finalGame  retroID  bbrefID   deathDate  birthDate \n",
              "1 2015-08-23 aardd001 aardsda01 <NA>       1981-12-27\n",
              "2 1976-10-03 aaroh101 aaronha01 2021-01-22 1934-02-05\n",
              "3 1971-09-26 aarot101 aaronto01 1984-08-16 1939-08-05\n",
              "4 1990-10-03 aased001 aasedo01  <NA>       1954-09-08\n",
              "5 2006-04-13 abada001 abadan01  <NA>       1972-08-25\n",
              "6 2019-09-28 abadf001 abadfe01  <NA>       1985-12-17"
            ],
            "text/latex": "A data.frame: 6 × 26\n\\begin{tabular}{r|lllllllllllllllllllll}\n  & playerID & birthYear & birthMonth & birthDay & birthCountry & birthState & birthCity & deathYear & deathMonth & deathDay & ⋯ & weight & height & bats & throws & debut & finalGame & retroID & bbrefID & deathDate & birthDate\\\\\n  & <chr> & <int> & <int> & <int> & <chr> & <chr> & <chr> & <int> & <int> & <int> & ⋯ & <int> & <int> & <fct> & <fct> & <chr> & <chr> & <chr> & <chr> & <date> & <date>\\\\\n\\hline\n\t1 & aardsda01 & 1981 & 12 & 27 & USA  & CO        & Denver     &   NA & NA & NA & ⋯ & 215 & 75 & R & R & 2004-04-06 & 2015-08-23 & aardd001 & aardsda01 & NA & 1981-12-27\\\\\n\t2 & aaronha01 & 1934 &  2 &  5 & USA  & AL        & Mobile     & 2021 &  1 & 22 & ⋯ & 180 & 72 & R & R & 1954-04-13 & 1976-10-03 & aaroh101 & aaronha01 & 2021-01-22 & 1934-02-05\\\\\n\t3 & aaronto01 & 1939 &  8 &  5 & USA  & AL        & Mobile     & 1984 &  8 & 16 & ⋯ & 190 & 75 & R & R & 1962-04-10 & 1971-09-26 & aarot101 & aaronto01 & 1984-08-16 & 1939-08-05\\\\\n\t4 & aasedo01  & 1954 &  9 &  8 & USA  & CA        & Orange     &   NA & NA & NA & ⋯ & 190 & 75 & R & R & 1977-07-26 & 1990-10-03 & aased001 & aasedo01  & NA & 1954-09-08\\\\\n\t5 & abadan01  & 1972 &  8 & 25 & USA  & FL        & Palm Beach &   NA & NA & NA & ⋯ & 184 & 73 & L & L & 2001-09-10 & 2006-04-13 & abada001 & abadan01  & NA & 1972-08-25\\\\\n\t6 & abadfe01  & 1985 & 12 & 17 & D.R. & La Romana & La Romana  &   NA & NA & NA & ⋯ & 235 & 74 & L & L & 2010-07-28 & 2019-09-28 & abadf001 & abadfe01  & NA & 1985-12-17\\\\\n\\end{tabular}\n",
            "text/markdown": "\nA data.frame: 6 × 26\n\n| <!--/--> | playerID &lt;chr&gt; | birthYear &lt;int&gt; | birthMonth &lt;int&gt; | birthDay &lt;int&gt; | birthCountry &lt;chr&gt; | birthState &lt;chr&gt; | birthCity &lt;chr&gt; | deathYear &lt;int&gt; | deathMonth &lt;int&gt; | deathDay &lt;int&gt; | ⋯ ⋯ | weight &lt;int&gt; | height &lt;int&gt; | bats &lt;fct&gt; | throws &lt;fct&gt; | debut &lt;chr&gt; | finalGame &lt;chr&gt; | retroID &lt;chr&gt; | bbrefID &lt;chr&gt; | deathDate &lt;date&gt; | birthDate &lt;date&gt; |\n|---|---|---|---|---|---|---|---|---|---|---|---|---|---|---|---|---|---|---|---|---|---|\n| 1 | aardsda01 | 1981 | 12 | 27 | USA  | CO        | Denver     |   NA | NA | NA | ⋯ | 215 | 75 | R | R | 2004-04-06 | 2015-08-23 | aardd001 | aardsda01 | NA | 1981-12-27 |\n| 2 | aaronha01 | 1934 |  2 |  5 | USA  | AL        | Mobile     | 2021 |  1 | 22 | ⋯ | 180 | 72 | R | R | 1954-04-13 | 1976-10-03 | aaroh101 | aaronha01 | 2021-01-22 | 1934-02-05 |\n| 3 | aaronto01 | 1939 |  8 |  5 | USA  | AL        | Mobile     | 1984 |  8 | 16 | ⋯ | 190 | 75 | R | R | 1962-04-10 | 1971-09-26 | aarot101 | aaronto01 | 1984-08-16 | 1939-08-05 |\n| 4 | aasedo01  | 1954 |  9 |  8 | USA  | CA        | Orange     |   NA | NA | NA | ⋯ | 190 | 75 | R | R | 1977-07-26 | 1990-10-03 | aased001 | aasedo01  | NA | 1954-09-08 |\n| 5 | abadan01  | 1972 |  8 | 25 | USA  | FL        | Palm Beach |   NA | NA | NA | ⋯ | 184 | 73 | L | L | 2001-09-10 | 2006-04-13 | abada001 | abadan01  | NA | 1972-08-25 |\n| 6 | abadfe01  | 1985 | 12 | 17 | D.R. | La Romana | La Romana  |   NA | NA | NA | ⋯ | 235 | 74 | L | L | 2010-07-28 | 2019-09-28 | abadf001 | abadfe01  | NA | 1985-12-17 |\n\n",
            "text/html": [
              "<table class=\"dataframe\">\n",
              "<caption>A data.frame: 6 × 26</caption>\n",
              "<thead>\n",
              "\t<tr><th></th><th scope=col>playerID</th><th scope=col>birthYear</th><th scope=col>birthMonth</th><th scope=col>birthDay</th><th scope=col>birthCountry</th><th scope=col>birthState</th><th scope=col>birthCity</th><th scope=col>deathYear</th><th scope=col>deathMonth</th><th scope=col>deathDay</th><th scope=col>⋯</th><th scope=col>weight</th><th scope=col>height</th><th scope=col>bats</th><th scope=col>throws</th><th scope=col>debut</th><th scope=col>finalGame</th><th scope=col>retroID</th><th scope=col>bbrefID</th><th scope=col>deathDate</th><th scope=col>birthDate</th></tr>\n",
              "\t<tr><th></th><th scope=col>&lt;chr&gt;</th><th scope=col>&lt;int&gt;</th><th scope=col>&lt;int&gt;</th><th scope=col>&lt;int&gt;</th><th scope=col>&lt;chr&gt;</th><th scope=col>&lt;chr&gt;</th><th scope=col>&lt;chr&gt;</th><th scope=col>&lt;int&gt;</th><th scope=col>&lt;int&gt;</th><th scope=col>&lt;int&gt;</th><th scope=col>⋯</th><th scope=col>&lt;int&gt;</th><th scope=col>&lt;int&gt;</th><th scope=col>&lt;fct&gt;</th><th scope=col>&lt;fct&gt;</th><th scope=col>&lt;chr&gt;</th><th scope=col>&lt;chr&gt;</th><th scope=col>&lt;chr&gt;</th><th scope=col>&lt;chr&gt;</th><th scope=col>&lt;date&gt;</th><th scope=col>&lt;date&gt;</th></tr>\n",
              "</thead>\n",
              "<tbody>\n",
              "\t<tr><th scope=row>1</th><td>aardsda01</td><td>1981</td><td>12</td><td>27</td><td>USA </td><td>CO       </td><td>Denver    </td><td>  NA</td><td>NA</td><td>NA</td><td>⋯</td><td>215</td><td>75</td><td>R</td><td>R</td><td>2004-04-06</td><td>2015-08-23</td><td>aardd001</td><td>aardsda01</td><td>NA</td><td>1981-12-27</td></tr>\n",
              "\t<tr><th scope=row>2</th><td>aaronha01</td><td>1934</td><td> 2</td><td> 5</td><td>USA </td><td>AL       </td><td>Mobile    </td><td>2021</td><td> 1</td><td>22</td><td>⋯</td><td>180</td><td>72</td><td>R</td><td>R</td><td>1954-04-13</td><td>1976-10-03</td><td>aaroh101</td><td>aaronha01</td><td>2021-01-22</td><td>1934-02-05</td></tr>\n",
              "\t<tr><th scope=row>3</th><td>aaronto01</td><td>1939</td><td> 8</td><td> 5</td><td>USA </td><td>AL       </td><td>Mobile    </td><td>1984</td><td> 8</td><td>16</td><td>⋯</td><td>190</td><td>75</td><td>R</td><td>R</td><td>1962-04-10</td><td>1971-09-26</td><td>aarot101</td><td>aaronto01</td><td>1984-08-16</td><td>1939-08-05</td></tr>\n",
              "\t<tr><th scope=row>4</th><td>aasedo01 </td><td>1954</td><td> 9</td><td> 8</td><td>USA </td><td>CA       </td><td>Orange    </td><td>  NA</td><td>NA</td><td>NA</td><td>⋯</td><td>190</td><td>75</td><td>R</td><td>R</td><td>1977-07-26</td><td>1990-10-03</td><td>aased001</td><td>aasedo01 </td><td>NA</td><td>1954-09-08</td></tr>\n",
              "\t<tr><th scope=row>5</th><td>abadan01 </td><td>1972</td><td> 8</td><td>25</td><td>USA </td><td>FL       </td><td>Palm Beach</td><td>  NA</td><td>NA</td><td>NA</td><td>⋯</td><td>184</td><td>73</td><td>L</td><td>L</td><td>2001-09-10</td><td>2006-04-13</td><td>abada001</td><td>abadan01 </td><td>NA</td><td>1972-08-25</td></tr>\n",
              "\t<tr><th scope=row>6</th><td>abadfe01 </td><td>1985</td><td>12</td><td>17</td><td>D.R.</td><td>La Romana</td><td>La Romana </td><td>  NA</td><td>NA</td><td>NA</td><td>⋯</td><td>235</td><td>74</td><td>L</td><td>L</td><td>2010-07-28</td><td>2019-09-28</td><td>abadf001</td><td>abadfe01 </td><td>NA</td><td>1985-12-17</td></tr>\n",
              "</tbody>\n",
              "</table>\n"
            ]
          },
          "metadata": {}
        }
      ]
    },
    {
      "cell_type": "markdown",
      "metadata": {
        "id": "lafUE3QV_Eq_"
      },
      "source": [
        "```str()```とすると，構造（列の名前，型の一覧）が表示される．"
      ]
    },
    {
      "cell_type": "code",
      "metadata": {
        "colab": {
          "base_uri": "https://localhost:8080/"
        },
        "id": "CTgnuSH1-_xz",
        "outputId": "d455f1b4-5da8-4210-ff0b-07dadaaeeb05"
      },
      "source": [
        "str(People)"
      ],
      "execution_count": 4,
      "outputs": [
        {
          "output_type": "stream",
          "name": "stdout",
          "text": [
            "'data.frame':\t20093 obs. of  26 variables:\n",
            " $ playerID    : chr  \"aardsda01\" \"aaronha01\" \"aaronto01\" \"aasedo01\" ...\n",
            " $ birthYear   : int  1981 1934 1939 1954 1972 1985 1850 1877 1869 1866 ...\n",
            " $ birthMonth  : int  12 2 8 9 8 12 11 4 11 10 ...\n",
            " $ birthDay    : int  27 5 5 8 25 17 4 15 11 14 ...\n",
            " $ birthCountry: chr  \"USA\" \"USA\" \"USA\" \"USA\" ...\n",
            " $ birthState  : chr  \"CO\" \"AL\" \"AL\" \"CA\" ...\n",
            " $ birthCity   : chr  \"Denver\" \"Mobile\" \"Mobile\" \"Orange\" ...\n",
            " $ deathYear   : int  NA 2021 1984 NA NA NA 1905 1957 1962 1926 ...\n",
            " $ deathMonth  : int  NA 1 8 NA NA NA 5 1 6 4 ...\n",
            " $ deathDay    : int  NA 22 16 NA NA NA 17 6 11 27 ...\n",
            " $ deathCountry: chr  NA \"USA\" \"USA\" NA ...\n",
            " $ deathState  : chr  NA \"GA\" \"GA\" NA ...\n",
            " $ deathCity   : chr  NA \"Atlanta\" \"Atlanta\" NA ...\n",
            " $ nameFirst   : chr  \"David\" \"Hank\" \"Tommie\" \"Don\" ...\n",
            " $ nameLast    : chr  \"Aardsma\" \"Aaron\" \"Aaron\" \"Aase\" ...\n",
            " $ nameGiven   : chr  \"David Allan\" \"Henry Louis\" \"Tommie Lee\" \"Donald William\" ...\n",
            " $ weight      : int  215 180 190 190 184 235 192 170 175 169 ...\n",
            " $ height      : int  75 72 75 75 73 74 72 71 71 68 ...\n",
            " $ bats        : Factor w/ 3 levels \"B\",\"L\",\"R\": 3 3 3 3 2 2 3 3 3 2 ...\n",
            " $ throws      : Factor w/ 3 levels \"L\",\"R\",\"S\": 2 2 2 2 1 1 2 2 2 1 ...\n",
            " $ debut       : chr  \"2004-04-06\" \"1954-04-13\" \"1962-04-10\" \"1977-07-26\" ...\n",
            " $ finalGame   : chr  \"2015-08-23\" \"1976-10-03\" \"1971-09-26\" \"1990-10-03\" ...\n",
            " $ retroID     : chr  \"aardd001\" \"aaroh101\" \"aarot101\" \"aased001\" ...\n",
            " $ bbrefID     : chr  \"aardsda01\" \"aaronha01\" \"aaronto01\" \"aasedo01\" ...\n",
            " $ deathDate   : Date, format: NA \"2021-01-22\" ...\n",
            " $ birthDate   : Date, format: \"1981-12-27\" \"1934-02-05\" ...\n"
          ]
        }
      ]
    },
    {
      "cell_type": "markdown",
      "metadata": {
        "id": "4AMgmi4KO33s"
      },
      "source": [
        "## データ操作の例\n",
        "ここでは，以下の```dplyr```の関数を紹介するが，これ以外にも様々なデータ操作用の関数が用意されている．\n",
        "\n",
        "*   ```select```関数: 列番号・列名での列の選択\n",
        "*   ```slice```関数: 行番号での行の選択\n",
        "*   ```filter```関数: 条件に応じた行の選択（関数名のコンフリクトのため```dplyr::filter()```として利用）\n",
        "*   ```summarise```関数，```group_by```関数: グループごとの集計に利用\n",
        "\n"
      ]
    },
    {
      "cell_type": "markdown",
      "metadata": {
        "id": "VtN-JD1H7BbV"
      },
      "source": [
        "### 行の選択（行番号の場合）\n",
        "```People```データセットの1-3行目を選択する．"
      ]
    },
    {
      "cell_type": "code",
      "metadata": {
        "colab": {
          "base_uri": "https://localhost:8080/",
          "height": 259
        },
        "id": "N8Bn2Yc17Nji",
        "outputId": "14be6fd2-3397-42b8-995f-408e4a2c1318"
      },
      "source": [
        "slice(People, 1:3)"
      ],
      "execution_count": 5,
      "outputs": [
        {
          "output_type": "display_data",
          "data": {
            "text/plain": [
              "  playerID  birthYear birthMonth birthDay birthCountry birthState birthCity\n",
              "1 aardsda01 1981      12         27       USA          CO         Denver   \n",
              "2 aaronha01 1934       2          5       USA          AL         Mobile   \n",
              "3 aaronto01 1939       8          5       USA          AL         Mobile   \n",
              "  deathYear deathMonth deathDay ⋯ weight height bats throws debut     \n",
              "1   NA      NA         NA       ⋯ 215    75     R    R      2004-04-06\n",
              "2 2021       1         22       ⋯ 180    72     R    R      1954-04-13\n",
              "3 1984       8         16       ⋯ 190    75     R    R      1962-04-10\n",
              "  finalGame  retroID  bbrefID   deathDate  birthDate \n",
              "1 2015-08-23 aardd001 aardsda01 <NA>       1981-12-27\n",
              "2 1976-10-03 aaroh101 aaronha01 2021-01-22 1934-02-05\n",
              "3 1971-09-26 aarot101 aaronto01 1984-08-16 1939-08-05"
            ],
            "text/latex": "A data.frame: 3 × 26\n\\begin{tabular}{lllllllllllllllllllll}\n playerID & birthYear & birthMonth & birthDay & birthCountry & birthState & birthCity & deathYear & deathMonth & deathDay & ⋯ & weight & height & bats & throws & debut & finalGame & retroID & bbrefID & deathDate & birthDate\\\\\n <chr> & <int> & <int> & <int> & <chr> & <chr> & <chr> & <int> & <int> & <int> & ⋯ & <int> & <int> & <fct> & <fct> & <chr> & <chr> & <chr> & <chr> & <date> & <date>\\\\\n\\hline\n\t aardsda01 & 1981 & 12 & 27 & USA & CO & Denver &   NA & NA & NA & ⋯ & 215 & 75 & R & R & 2004-04-06 & 2015-08-23 & aardd001 & aardsda01 & NA & 1981-12-27\\\\\n\t aaronha01 & 1934 &  2 &  5 & USA & AL & Mobile & 2021 &  1 & 22 & ⋯ & 180 & 72 & R & R & 1954-04-13 & 1976-10-03 & aaroh101 & aaronha01 & 2021-01-22 & 1934-02-05\\\\\n\t aaronto01 & 1939 &  8 &  5 & USA & AL & Mobile & 1984 &  8 & 16 & ⋯ & 190 & 75 & R & R & 1962-04-10 & 1971-09-26 & aarot101 & aaronto01 & 1984-08-16 & 1939-08-05\\\\\n\\end{tabular}\n",
            "text/markdown": "\nA data.frame: 3 × 26\n\n| playerID &lt;chr&gt; | birthYear &lt;int&gt; | birthMonth &lt;int&gt; | birthDay &lt;int&gt; | birthCountry &lt;chr&gt; | birthState &lt;chr&gt; | birthCity &lt;chr&gt; | deathYear &lt;int&gt; | deathMonth &lt;int&gt; | deathDay &lt;int&gt; | ⋯ ⋯ | weight &lt;int&gt; | height &lt;int&gt; | bats &lt;fct&gt; | throws &lt;fct&gt; | debut &lt;chr&gt; | finalGame &lt;chr&gt; | retroID &lt;chr&gt; | bbrefID &lt;chr&gt; | deathDate &lt;date&gt; | birthDate &lt;date&gt; |\n|---|---|---|---|---|---|---|---|---|---|---|---|---|---|---|---|---|---|---|---|---|\n| aardsda01 | 1981 | 12 | 27 | USA | CO | Denver |   NA | NA | NA | ⋯ | 215 | 75 | R | R | 2004-04-06 | 2015-08-23 | aardd001 | aardsda01 | NA | 1981-12-27 |\n| aaronha01 | 1934 |  2 |  5 | USA | AL | Mobile | 2021 |  1 | 22 | ⋯ | 180 | 72 | R | R | 1954-04-13 | 1976-10-03 | aaroh101 | aaronha01 | 2021-01-22 | 1934-02-05 |\n| aaronto01 | 1939 |  8 |  5 | USA | AL | Mobile | 1984 |  8 | 16 | ⋯ | 190 | 75 | R | R | 1962-04-10 | 1971-09-26 | aarot101 | aaronto01 | 1984-08-16 | 1939-08-05 |\n\n",
            "text/html": [
              "<table class=\"dataframe\">\n",
              "<caption>A data.frame: 3 × 26</caption>\n",
              "<thead>\n",
              "\t<tr><th scope=col>playerID</th><th scope=col>birthYear</th><th scope=col>birthMonth</th><th scope=col>birthDay</th><th scope=col>birthCountry</th><th scope=col>birthState</th><th scope=col>birthCity</th><th scope=col>deathYear</th><th scope=col>deathMonth</th><th scope=col>deathDay</th><th scope=col>⋯</th><th scope=col>weight</th><th scope=col>height</th><th scope=col>bats</th><th scope=col>throws</th><th scope=col>debut</th><th scope=col>finalGame</th><th scope=col>retroID</th><th scope=col>bbrefID</th><th scope=col>deathDate</th><th scope=col>birthDate</th></tr>\n",
              "\t<tr><th scope=col>&lt;chr&gt;</th><th scope=col>&lt;int&gt;</th><th scope=col>&lt;int&gt;</th><th scope=col>&lt;int&gt;</th><th scope=col>&lt;chr&gt;</th><th scope=col>&lt;chr&gt;</th><th scope=col>&lt;chr&gt;</th><th scope=col>&lt;int&gt;</th><th scope=col>&lt;int&gt;</th><th scope=col>&lt;int&gt;</th><th scope=col>⋯</th><th scope=col>&lt;int&gt;</th><th scope=col>&lt;int&gt;</th><th scope=col>&lt;fct&gt;</th><th scope=col>&lt;fct&gt;</th><th scope=col>&lt;chr&gt;</th><th scope=col>&lt;chr&gt;</th><th scope=col>&lt;chr&gt;</th><th scope=col>&lt;chr&gt;</th><th scope=col>&lt;date&gt;</th><th scope=col>&lt;date&gt;</th></tr>\n",
              "</thead>\n",
              "<tbody>\n",
              "\t<tr><td>aardsda01</td><td>1981</td><td>12</td><td>27</td><td>USA</td><td>CO</td><td>Denver</td><td>  NA</td><td>NA</td><td>NA</td><td>⋯</td><td>215</td><td>75</td><td>R</td><td>R</td><td>2004-04-06</td><td>2015-08-23</td><td>aardd001</td><td>aardsda01</td><td>NA</td><td>1981-12-27</td></tr>\n",
              "\t<tr><td>aaronha01</td><td>1934</td><td> 2</td><td> 5</td><td>USA</td><td>AL</td><td>Mobile</td><td>2021</td><td> 1</td><td>22</td><td>⋯</td><td>180</td><td>72</td><td>R</td><td>R</td><td>1954-04-13</td><td>1976-10-03</td><td>aaroh101</td><td>aaronha01</td><td>2021-01-22</td><td>1934-02-05</td></tr>\n",
              "\t<tr><td>aaronto01</td><td>1939</td><td> 8</td><td> 5</td><td>USA</td><td>AL</td><td>Mobile</td><td>1984</td><td> 8</td><td>16</td><td>⋯</td><td>190</td><td>75</td><td>R</td><td>R</td><td>1962-04-10</td><td>1971-09-26</td><td>aarot101</td><td>aaronto01</td><td>1984-08-16</td><td>1939-08-05</td></tr>\n",
              "</tbody>\n",
              "</table>\n"
            ]
          },
          "metadata": {}
        }
      ]
    },
    {
      "cell_type": "markdown",
      "metadata": {
        "id": "mlO5_87i7nV3"
      },
      "source": [
        "### パイプ演算子```%>%```\n",
        "データ処理においては，複数の処理を順番に行うことが多く，そういった場合にはパイプ演算子```%>%```を用いて処理を行う方が便利である．\n",
        "\n",
        "パイプ演算子を用いることで，上で述べた行の取り出しは，以下のように書くこともできる．パイプ演算子```%>%```の意味は，結果をパイプ後の関数の第１引数に渡すという意味である（linuxのパイプと同じ）．\n"
      ]
    },
    {
      "cell_type": "code",
      "metadata": {
        "colab": {
          "base_uri": "https://localhost:8080/",
          "height": 259
        },
        "id": "OnQ1djGPA7LZ",
        "outputId": "82c6c730-4034-4855-f6fb-ac77a89b4f0f"
      },
      "source": [
        "People %>% slice(1:3)"
      ],
      "execution_count": 6,
      "outputs": [
        {
          "output_type": "display_data",
          "data": {
            "text/plain": [
              "  playerID  birthYear birthMonth birthDay birthCountry birthState birthCity\n",
              "1 aardsda01 1981      12         27       USA          CO         Denver   \n",
              "2 aaronha01 1934       2          5       USA          AL         Mobile   \n",
              "3 aaronto01 1939       8          5       USA          AL         Mobile   \n",
              "  deathYear deathMonth deathDay ⋯ weight height bats throws debut     \n",
              "1   NA      NA         NA       ⋯ 215    75     R    R      2004-04-06\n",
              "2 2021       1         22       ⋯ 180    72     R    R      1954-04-13\n",
              "3 1984       8         16       ⋯ 190    75     R    R      1962-04-10\n",
              "  finalGame  retroID  bbrefID   deathDate  birthDate \n",
              "1 2015-08-23 aardd001 aardsda01 <NA>       1981-12-27\n",
              "2 1976-10-03 aaroh101 aaronha01 2021-01-22 1934-02-05\n",
              "3 1971-09-26 aarot101 aaronto01 1984-08-16 1939-08-05"
            ],
            "text/latex": "A data.frame: 3 × 26\n\\begin{tabular}{lllllllllllllllllllll}\n playerID & birthYear & birthMonth & birthDay & birthCountry & birthState & birthCity & deathYear & deathMonth & deathDay & ⋯ & weight & height & bats & throws & debut & finalGame & retroID & bbrefID & deathDate & birthDate\\\\\n <chr> & <int> & <int> & <int> & <chr> & <chr> & <chr> & <int> & <int> & <int> & ⋯ & <int> & <int> & <fct> & <fct> & <chr> & <chr> & <chr> & <chr> & <date> & <date>\\\\\n\\hline\n\t aardsda01 & 1981 & 12 & 27 & USA & CO & Denver &   NA & NA & NA & ⋯ & 215 & 75 & R & R & 2004-04-06 & 2015-08-23 & aardd001 & aardsda01 & NA & 1981-12-27\\\\\n\t aaronha01 & 1934 &  2 &  5 & USA & AL & Mobile & 2021 &  1 & 22 & ⋯ & 180 & 72 & R & R & 1954-04-13 & 1976-10-03 & aaroh101 & aaronha01 & 2021-01-22 & 1934-02-05\\\\\n\t aaronto01 & 1939 &  8 &  5 & USA & AL & Mobile & 1984 &  8 & 16 & ⋯ & 190 & 75 & R & R & 1962-04-10 & 1971-09-26 & aarot101 & aaronto01 & 1984-08-16 & 1939-08-05\\\\\n\\end{tabular}\n",
            "text/markdown": "\nA data.frame: 3 × 26\n\n| playerID &lt;chr&gt; | birthYear &lt;int&gt; | birthMonth &lt;int&gt; | birthDay &lt;int&gt; | birthCountry &lt;chr&gt; | birthState &lt;chr&gt; | birthCity &lt;chr&gt; | deathYear &lt;int&gt; | deathMonth &lt;int&gt; | deathDay &lt;int&gt; | ⋯ ⋯ | weight &lt;int&gt; | height &lt;int&gt; | bats &lt;fct&gt; | throws &lt;fct&gt; | debut &lt;chr&gt; | finalGame &lt;chr&gt; | retroID &lt;chr&gt; | bbrefID &lt;chr&gt; | deathDate &lt;date&gt; | birthDate &lt;date&gt; |\n|---|---|---|---|---|---|---|---|---|---|---|---|---|---|---|---|---|---|---|---|---|\n| aardsda01 | 1981 | 12 | 27 | USA | CO | Denver |   NA | NA | NA | ⋯ | 215 | 75 | R | R | 2004-04-06 | 2015-08-23 | aardd001 | aardsda01 | NA | 1981-12-27 |\n| aaronha01 | 1934 |  2 |  5 | USA | AL | Mobile | 2021 |  1 | 22 | ⋯ | 180 | 72 | R | R | 1954-04-13 | 1976-10-03 | aaroh101 | aaronha01 | 2021-01-22 | 1934-02-05 |\n| aaronto01 | 1939 |  8 |  5 | USA | AL | Mobile | 1984 |  8 | 16 | ⋯ | 190 | 75 | R | R | 1962-04-10 | 1971-09-26 | aarot101 | aaronto01 | 1984-08-16 | 1939-08-05 |\n\n",
            "text/html": [
              "<table class=\"dataframe\">\n",
              "<caption>A data.frame: 3 × 26</caption>\n",
              "<thead>\n",
              "\t<tr><th scope=col>playerID</th><th scope=col>birthYear</th><th scope=col>birthMonth</th><th scope=col>birthDay</th><th scope=col>birthCountry</th><th scope=col>birthState</th><th scope=col>birthCity</th><th scope=col>deathYear</th><th scope=col>deathMonth</th><th scope=col>deathDay</th><th scope=col>⋯</th><th scope=col>weight</th><th scope=col>height</th><th scope=col>bats</th><th scope=col>throws</th><th scope=col>debut</th><th scope=col>finalGame</th><th scope=col>retroID</th><th scope=col>bbrefID</th><th scope=col>deathDate</th><th scope=col>birthDate</th></tr>\n",
              "\t<tr><th scope=col>&lt;chr&gt;</th><th scope=col>&lt;int&gt;</th><th scope=col>&lt;int&gt;</th><th scope=col>&lt;int&gt;</th><th scope=col>&lt;chr&gt;</th><th scope=col>&lt;chr&gt;</th><th scope=col>&lt;chr&gt;</th><th scope=col>&lt;int&gt;</th><th scope=col>&lt;int&gt;</th><th scope=col>&lt;int&gt;</th><th scope=col>⋯</th><th scope=col>&lt;int&gt;</th><th scope=col>&lt;int&gt;</th><th scope=col>&lt;fct&gt;</th><th scope=col>&lt;fct&gt;</th><th scope=col>&lt;chr&gt;</th><th scope=col>&lt;chr&gt;</th><th scope=col>&lt;chr&gt;</th><th scope=col>&lt;chr&gt;</th><th scope=col>&lt;date&gt;</th><th scope=col>&lt;date&gt;</th></tr>\n",
              "</thead>\n",
              "<tbody>\n",
              "\t<tr><td>aardsda01</td><td>1981</td><td>12</td><td>27</td><td>USA</td><td>CO</td><td>Denver</td><td>  NA</td><td>NA</td><td>NA</td><td>⋯</td><td>215</td><td>75</td><td>R</td><td>R</td><td>2004-04-06</td><td>2015-08-23</td><td>aardd001</td><td>aardsda01</td><td>NA</td><td>1981-12-27</td></tr>\n",
              "\t<tr><td>aaronha01</td><td>1934</td><td> 2</td><td> 5</td><td>USA</td><td>AL</td><td>Mobile</td><td>2021</td><td> 1</td><td>22</td><td>⋯</td><td>180</td><td>72</td><td>R</td><td>R</td><td>1954-04-13</td><td>1976-10-03</td><td>aaroh101</td><td>aaronha01</td><td>2021-01-22</td><td>1934-02-05</td></tr>\n",
              "\t<tr><td>aaronto01</td><td>1939</td><td> 8</td><td> 5</td><td>USA</td><td>AL</td><td>Mobile</td><td>1984</td><td> 8</td><td>16</td><td>⋯</td><td>190</td><td>75</td><td>R</td><td>R</td><td>1962-04-10</td><td>1971-09-26</td><td>aarot101</td><td>aaronto01</td><td>1984-08-16</td><td>1939-08-05</td></tr>\n",
              "</tbody>\n",
              "</table>\n"
            ]
          },
          "metadata": {}
        }
      ]
    },
    {
      "cell_type": "markdown",
      "metadata": {
        "id": "nOeqNbzTk-Hg"
      },
      "source": [
        "### 行・列の選択（行・列番号の場合）\n",
        "```People```データセットの1-3行目，1-5列目を選択する．"
      ]
    },
    {
      "cell_type": "code",
      "metadata": {
        "colab": {
          "base_uri": "https://localhost:8080/",
          "height": 189
        },
        "id": "ILBc9xYNyvm8",
        "outputId": "afaa9921-f38e-424d-9948-41108d43e9e6"
      },
      "source": [
        "People %>% slice(1:3) %>% select(1:5)"
      ],
      "execution_count": 7,
      "outputs": [
        {
          "output_type": "display_data",
          "data": {
            "text/plain": [
              "  playerID  birthYear birthMonth birthDay birthCountry\n",
              "1 aardsda01 1981      12         27       USA         \n",
              "2 aaronha01 1934       2          5       USA         \n",
              "3 aaronto01 1939       8          5       USA         "
            ],
            "text/latex": "A data.frame: 3 × 5\n\\begin{tabular}{lllll}\n playerID & birthYear & birthMonth & birthDay & birthCountry\\\\\n <chr> & <int> & <int> & <int> & <chr>\\\\\n\\hline\n\t aardsda01 & 1981 & 12 & 27 & USA\\\\\n\t aaronha01 & 1934 &  2 &  5 & USA\\\\\n\t aaronto01 & 1939 &  8 &  5 & USA\\\\\n\\end{tabular}\n",
            "text/markdown": "\nA data.frame: 3 × 5\n\n| playerID &lt;chr&gt; | birthYear &lt;int&gt; | birthMonth &lt;int&gt; | birthDay &lt;int&gt; | birthCountry &lt;chr&gt; |\n|---|---|---|---|---|\n| aardsda01 | 1981 | 12 | 27 | USA |\n| aaronha01 | 1934 |  2 |  5 | USA |\n| aaronto01 | 1939 |  8 |  5 | USA |\n\n",
            "text/html": [
              "<table class=\"dataframe\">\n",
              "<caption>A data.frame: 3 × 5</caption>\n",
              "<thead>\n",
              "\t<tr><th scope=col>playerID</th><th scope=col>birthYear</th><th scope=col>birthMonth</th><th scope=col>birthDay</th><th scope=col>birthCountry</th></tr>\n",
              "\t<tr><th scope=col>&lt;chr&gt;</th><th scope=col>&lt;int&gt;</th><th scope=col>&lt;int&gt;</th><th scope=col>&lt;int&gt;</th><th scope=col>&lt;chr&gt;</th></tr>\n",
              "</thead>\n",
              "<tbody>\n",
              "\t<tr><td>aardsda01</td><td>1981</td><td>12</td><td>27</td><td>USA</td></tr>\n",
              "\t<tr><td>aaronha01</td><td>1934</td><td> 2</td><td> 5</td><td>USA</td></tr>\n",
              "\t<tr><td>aaronto01</td><td>1939</td><td> 8</td><td> 5</td><td>USA</td></tr>\n",
              "</tbody>\n",
              "</table>\n"
            ]
          },
          "metadata": {}
        }
      ]
    },
    {
      "cell_type": "markdown",
      "metadata": {
        "id": "GcsttGUI0jZ6"
      },
      "source": [
        "### 行・列の選択（列名の場合）\n",
        "列の取り出しは列名でも行うことができる．"
      ]
    },
    {
      "cell_type": "code",
      "metadata": {
        "colab": {
          "base_uri": "https://localhost:8080/",
          "height": 189
        },
        "id": "i_4lrzPm0jGt",
        "outputId": "eaaffa25-06f0-4027-9659-871cda59433a"
      },
      "source": [
        "People %>% slice(1:3) %>% select(playerID, birthMonth, birthDay)"
      ],
      "execution_count": 8,
      "outputs": [
        {
          "output_type": "display_data",
          "data": {
            "text/plain": [
              "  playerID  birthMonth birthDay\n",
              "1 aardsda01 12         27      \n",
              "2 aaronha01  2          5      \n",
              "3 aaronto01  8          5      "
            ],
            "text/latex": "A data.frame: 3 × 3\n\\begin{tabular}{lll}\n playerID & birthMonth & birthDay\\\\\n <chr> & <int> & <int>\\\\\n\\hline\n\t aardsda01 & 12 & 27\\\\\n\t aaronha01 &  2 &  5\\\\\n\t aaronto01 &  8 &  5\\\\\n\\end{tabular}\n",
            "text/markdown": "\nA data.frame: 3 × 3\n\n| playerID &lt;chr&gt; | birthMonth &lt;int&gt; | birthDay &lt;int&gt; |\n|---|---|---|\n| aardsda01 | 12 | 27 |\n| aaronha01 |  2 |  5 |\n| aaronto01 |  8 |  5 |\n\n",
            "text/html": [
              "<table class=\"dataframe\">\n",
              "<caption>A data.frame: 3 × 3</caption>\n",
              "<thead>\n",
              "\t<tr><th scope=col>playerID</th><th scope=col>birthMonth</th><th scope=col>birthDay</th></tr>\n",
              "\t<tr><th scope=col>&lt;chr&gt;</th><th scope=col>&lt;int&gt;</th><th scope=col>&lt;int&gt;</th></tr>\n",
              "</thead>\n",
              "<tbody>\n",
              "\t<tr><td>aardsda01</td><td>12</td><td>27</td></tr>\n",
              "\t<tr><td>aaronha01</td><td> 2</td><td> 5</td></tr>\n",
              "\t<tr><td>aaronto01</td><td> 8</td><td> 5</td></tr>\n",
              "</tbody>\n",
              "</table>\n"
            ]
          },
          "metadata": {}
        }
      ]
    },
    {
      "cell_type": "markdown",
      "metadata": {
        "id": "Vs_t4SM9ycmM"
      },
      "source": [
        "### 条件による行の選択\n",
        "Peopleデータセットから，nameLastが\"Suzuki\"の行（プレイヤー）を抽出する．"
      ]
    },
    {
      "cell_type": "code",
      "metadata": {
        "id": "kKj78-79Lp9T",
        "colab": {
          "base_uri": "https://localhost:8080/",
          "height": 276
        },
        "outputId": "f2a32fd9-d45f-46f6-c367-8bfa203c5f8d"
      },
      "source": [
        "People %>% dplyr::filter(nameLast == \"Suzuki\")"
      ],
      "execution_count": 9,
      "outputs": [
        {
          "output_type": "display_data",
          "data": {
            "text/plain": [
              "  playerID  birthYear birthMonth birthDay birthCountry birthState\n",
              "1 suzukic01 1973      10         22       Japan        Aichi     \n",
              "2 suzukku01 1983      10          4       USA          HI        \n",
              "3 suzukma01 1975       5         31       Japan        Hyogo     \n",
              "  birthCity         deathYear deathMonth deathDay ⋯ weight height bats throws\n",
              "1 Nichi Kasugai-gun NA        NA         NA       ⋯ 175    71     L    R     \n",
              "2 Wailuku           NA        NA         NA       ⋯ 210    71     R    R     \n",
              "3 Kobe              NA        NA         NA       ⋯ 195    75     R    R     \n",
              "  debut      finalGame  retroID  bbrefID   deathDate birthDate \n",
              "1 2001-04-02 2019-03-21 suzui001 suzukic01 <NA>      1973-10-22\n",
              "2 2007-06-12 2020-09-26 suzuk001 suzukku01 <NA>      1983-10-04\n",
              "3 1996-07-07 2002-06-28 suzum001 suzukma01 <NA>      1975-05-31"
            ],
            "text/latex": "A data.frame: 3 × 26\n\\begin{tabular}{lllllllllllllllllllll}\n playerID & birthYear & birthMonth & birthDay & birthCountry & birthState & birthCity & deathYear & deathMonth & deathDay & ⋯ & weight & height & bats & throws & debut & finalGame & retroID & bbrefID & deathDate & birthDate\\\\\n <chr> & <int> & <int> & <int> & <chr> & <chr> & <chr> & <int> & <int> & <int> & ⋯ & <int> & <int> & <fct> & <fct> & <chr> & <chr> & <chr> & <chr> & <date> & <date>\\\\\n\\hline\n\t suzukic01 & 1973 & 10 & 22 & Japan & Aichi & Nichi Kasugai-gun & NA & NA & NA & ⋯ & 175 & 71 & L & R & 2001-04-02 & 2019-03-21 & suzui001 & suzukic01 & NA & 1973-10-22\\\\\n\t suzukku01 & 1983 & 10 &  4 & USA   & HI    & Wailuku           & NA & NA & NA & ⋯ & 210 & 71 & R & R & 2007-06-12 & 2020-09-26 & suzuk001 & suzukku01 & NA & 1983-10-04\\\\\n\t suzukma01 & 1975 &  5 & 31 & Japan & Hyogo & Kobe              & NA & NA & NA & ⋯ & 195 & 75 & R & R & 1996-07-07 & 2002-06-28 & suzum001 & suzukma01 & NA & 1975-05-31\\\\\n\\end{tabular}\n",
            "text/markdown": "\nA data.frame: 3 × 26\n\n| playerID &lt;chr&gt; | birthYear &lt;int&gt; | birthMonth &lt;int&gt; | birthDay &lt;int&gt; | birthCountry &lt;chr&gt; | birthState &lt;chr&gt; | birthCity &lt;chr&gt; | deathYear &lt;int&gt; | deathMonth &lt;int&gt; | deathDay &lt;int&gt; | ⋯ ⋯ | weight &lt;int&gt; | height &lt;int&gt; | bats &lt;fct&gt; | throws &lt;fct&gt; | debut &lt;chr&gt; | finalGame &lt;chr&gt; | retroID &lt;chr&gt; | bbrefID &lt;chr&gt; | deathDate &lt;date&gt; | birthDate &lt;date&gt; |\n|---|---|---|---|---|---|---|---|---|---|---|---|---|---|---|---|---|---|---|---|---|\n| suzukic01 | 1973 | 10 | 22 | Japan | Aichi | Nichi Kasugai-gun | NA | NA | NA | ⋯ | 175 | 71 | L | R | 2001-04-02 | 2019-03-21 | suzui001 | suzukic01 | NA | 1973-10-22 |\n| suzukku01 | 1983 | 10 |  4 | USA   | HI    | Wailuku           | NA | NA | NA | ⋯ | 210 | 71 | R | R | 2007-06-12 | 2020-09-26 | suzuk001 | suzukku01 | NA | 1983-10-04 |\n| suzukma01 | 1975 |  5 | 31 | Japan | Hyogo | Kobe              | NA | NA | NA | ⋯ | 195 | 75 | R | R | 1996-07-07 | 2002-06-28 | suzum001 | suzukma01 | NA | 1975-05-31 |\n\n",
            "text/html": [
              "<table class=\"dataframe\">\n",
              "<caption>A data.frame: 3 × 26</caption>\n",
              "<thead>\n",
              "\t<tr><th scope=col>playerID</th><th scope=col>birthYear</th><th scope=col>birthMonth</th><th scope=col>birthDay</th><th scope=col>birthCountry</th><th scope=col>birthState</th><th scope=col>birthCity</th><th scope=col>deathYear</th><th scope=col>deathMonth</th><th scope=col>deathDay</th><th scope=col>⋯</th><th scope=col>weight</th><th scope=col>height</th><th scope=col>bats</th><th scope=col>throws</th><th scope=col>debut</th><th scope=col>finalGame</th><th scope=col>retroID</th><th scope=col>bbrefID</th><th scope=col>deathDate</th><th scope=col>birthDate</th></tr>\n",
              "\t<tr><th scope=col>&lt;chr&gt;</th><th scope=col>&lt;int&gt;</th><th scope=col>&lt;int&gt;</th><th scope=col>&lt;int&gt;</th><th scope=col>&lt;chr&gt;</th><th scope=col>&lt;chr&gt;</th><th scope=col>&lt;chr&gt;</th><th scope=col>&lt;int&gt;</th><th scope=col>&lt;int&gt;</th><th scope=col>&lt;int&gt;</th><th scope=col>⋯</th><th scope=col>&lt;int&gt;</th><th scope=col>&lt;int&gt;</th><th scope=col>&lt;fct&gt;</th><th scope=col>&lt;fct&gt;</th><th scope=col>&lt;chr&gt;</th><th scope=col>&lt;chr&gt;</th><th scope=col>&lt;chr&gt;</th><th scope=col>&lt;chr&gt;</th><th scope=col>&lt;date&gt;</th><th scope=col>&lt;date&gt;</th></tr>\n",
              "</thead>\n",
              "<tbody>\n",
              "\t<tr><td>suzukic01</td><td>1973</td><td>10</td><td>22</td><td>Japan</td><td>Aichi</td><td>Nichi Kasugai-gun</td><td>NA</td><td>NA</td><td>NA</td><td>⋯</td><td>175</td><td>71</td><td>L</td><td>R</td><td>2001-04-02</td><td>2019-03-21</td><td>suzui001</td><td>suzukic01</td><td>NA</td><td>1973-10-22</td></tr>\n",
              "\t<tr><td>suzukku01</td><td>1983</td><td>10</td><td> 4</td><td>USA  </td><td>HI   </td><td>Wailuku          </td><td>NA</td><td>NA</td><td>NA</td><td>⋯</td><td>210</td><td>71</td><td>R</td><td>R</td><td>2007-06-12</td><td>2020-09-26</td><td>suzuk001</td><td>suzukku01</td><td>NA</td><td>1983-10-04</td></tr>\n",
              "\t<tr><td>suzukma01</td><td>1975</td><td> 5</td><td>31</td><td>Japan</td><td>Hyogo</td><td>Kobe             </td><td>NA</td><td>NA</td><td>NA</td><td>⋯</td><td>195</td><td>75</td><td>R</td><td>R</td><td>1996-07-07</td><td>2002-06-28</td><td>suzum001</td><td>suzukma01</td><td>NA</td><td>1975-05-31</td></tr>\n",
              "</tbody>\n",
              "</table>\n"
            ]
          },
          "metadata": {}
        }
      ]
    },
    {
      "cell_type": "markdown",
      "metadata": {
        "id": "Hh8Va65wCzlD"
      },
      "source": [
        "条件の指定には様々な形式が利用でき，例えば2000年以降生まれの選手を抽出することもできる．"
      ]
    },
    {
      "cell_type": "code",
      "metadata": {
        "colab": {
          "base_uri": "https://localhost:8080/",
          "height": 212
        },
        "id": "SWnl97rUC5lQ",
        "outputId": "649b6a2b-9868-49ea-fee8-050f5d7cf652"
      },
      "source": [
        "People %>% dplyr::filter(birthYear >= 2000)"
      ],
      "execution_count": 10,
      "outputs": [
        {
          "output_type": "display_data",
          "data": {
            "text/plain": [
              "  playerID  birthYear birthMonth birthDay birthCountry birthState    birthCity \n",
              "1 garcilu04 2000      5          16       USA          NY            New York  \n",
              "2 luciael01 2000      2          15       D.R.         Santo Domingo Boca Chica\n",
              "  deathYear deathMonth deathDay ⋯ weight height bats throws debut     \n",
              "1 NA        NA         NA       ⋯ 211    74     L    R      2020-08-14\n",
              "2 NA        NA         NA       ⋯ 210    75     R    R      2019-03-31\n",
              "  finalGame  retroID  bbrefID   deathDate birthDate \n",
              "1 2020-09-27 garcl006 garcilu04 <NA>      2000-05-16\n",
              "2 2019-09-27 lucie001 luciael01 <NA>      2000-02-15"
            ],
            "text/latex": "A data.frame: 2 × 26\n\\begin{tabular}{lllllllllllllllllllll}\n playerID & birthYear & birthMonth & birthDay & birthCountry & birthState & birthCity & deathYear & deathMonth & deathDay & ⋯ & weight & height & bats & throws & debut & finalGame & retroID & bbrefID & deathDate & birthDate\\\\\n <chr> & <int> & <int> & <int> & <chr> & <chr> & <chr> & <int> & <int> & <int> & ⋯ & <int> & <int> & <fct> & <fct> & <chr> & <chr> & <chr> & <chr> & <date> & <date>\\\\\n\\hline\n\t garcilu04 & 2000 & 5 & 16 & USA  & NY            & New York   & NA & NA & NA & ⋯ & 211 & 74 & L & R & 2020-08-14 & 2020-09-27 & garcl006 & garcilu04 & NA & 2000-05-16\\\\\n\t luciael01 & 2000 & 2 & 15 & D.R. & Santo Domingo & Boca Chica & NA & NA & NA & ⋯ & 210 & 75 & R & R & 2019-03-31 & 2019-09-27 & lucie001 & luciael01 & NA & 2000-02-15\\\\\n\\end{tabular}\n",
            "text/markdown": "\nA data.frame: 2 × 26\n\n| playerID &lt;chr&gt; | birthYear &lt;int&gt; | birthMonth &lt;int&gt; | birthDay &lt;int&gt; | birthCountry &lt;chr&gt; | birthState &lt;chr&gt; | birthCity &lt;chr&gt; | deathYear &lt;int&gt; | deathMonth &lt;int&gt; | deathDay &lt;int&gt; | ⋯ ⋯ | weight &lt;int&gt; | height &lt;int&gt; | bats &lt;fct&gt; | throws &lt;fct&gt; | debut &lt;chr&gt; | finalGame &lt;chr&gt; | retroID &lt;chr&gt; | bbrefID &lt;chr&gt; | deathDate &lt;date&gt; | birthDate &lt;date&gt; |\n|---|---|---|---|---|---|---|---|---|---|---|---|---|---|---|---|---|---|---|---|---|\n| garcilu04 | 2000 | 5 | 16 | USA  | NY            | New York   | NA | NA | NA | ⋯ | 211 | 74 | L | R | 2020-08-14 | 2020-09-27 | garcl006 | garcilu04 | NA | 2000-05-16 |\n| luciael01 | 2000 | 2 | 15 | D.R. | Santo Domingo | Boca Chica | NA | NA | NA | ⋯ | 210 | 75 | R | R | 2019-03-31 | 2019-09-27 | lucie001 | luciael01 | NA | 2000-02-15 |\n\n",
            "text/html": [
              "<table class=\"dataframe\">\n",
              "<caption>A data.frame: 2 × 26</caption>\n",
              "<thead>\n",
              "\t<tr><th scope=col>playerID</th><th scope=col>birthYear</th><th scope=col>birthMonth</th><th scope=col>birthDay</th><th scope=col>birthCountry</th><th scope=col>birthState</th><th scope=col>birthCity</th><th scope=col>deathYear</th><th scope=col>deathMonth</th><th scope=col>deathDay</th><th scope=col>⋯</th><th scope=col>weight</th><th scope=col>height</th><th scope=col>bats</th><th scope=col>throws</th><th scope=col>debut</th><th scope=col>finalGame</th><th scope=col>retroID</th><th scope=col>bbrefID</th><th scope=col>deathDate</th><th scope=col>birthDate</th></tr>\n",
              "\t<tr><th scope=col>&lt;chr&gt;</th><th scope=col>&lt;int&gt;</th><th scope=col>&lt;int&gt;</th><th scope=col>&lt;int&gt;</th><th scope=col>&lt;chr&gt;</th><th scope=col>&lt;chr&gt;</th><th scope=col>&lt;chr&gt;</th><th scope=col>&lt;int&gt;</th><th scope=col>&lt;int&gt;</th><th scope=col>&lt;int&gt;</th><th scope=col>⋯</th><th scope=col>&lt;int&gt;</th><th scope=col>&lt;int&gt;</th><th scope=col>&lt;fct&gt;</th><th scope=col>&lt;fct&gt;</th><th scope=col>&lt;chr&gt;</th><th scope=col>&lt;chr&gt;</th><th scope=col>&lt;chr&gt;</th><th scope=col>&lt;chr&gt;</th><th scope=col>&lt;date&gt;</th><th scope=col>&lt;date&gt;</th></tr>\n",
              "</thead>\n",
              "<tbody>\n",
              "\t<tr><td>garcilu04</td><td>2000</td><td>5</td><td>16</td><td>USA </td><td>NY           </td><td>New York  </td><td>NA</td><td>NA</td><td>NA</td><td>⋯</td><td>211</td><td>74</td><td>L</td><td>R</td><td>2020-08-14</td><td>2020-09-27</td><td>garcl006</td><td>garcilu04</td><td>NA</td><td>2000-05-16</td></tr>\n",
              "\t<tr><td>luciael01</td><td>2000</td><td>2</td><td>15</td><td>D.R.</td><td>Santo Domingo</td><td>Boca Chica</td><td>NA</td><td>NA</td><td>NA</td><td>⋯</td><td>210</td><td>75</td><td>R</td><td>R</td><td>2019-03-31</td><td>2019-09-27</td><td>lucie001</td><td>luciael01</td><td>NA</td><td>2000-02-15</td></tr>\n",
              "</tbody>\n",
              "</table>\n"
            ]
          },
          "metadata": {}
        }
      ]
    },
    {
      "cell_type": "markdown",
      "metadata": {
        "id": "eYy_ZGfmPhMj"
      },
      "source": [
        "### データの選択の組み合わせ\n",
        "ここまでを組み合わせると，Peopleデータセットから，nameLastが\"Suzuki\"の行（プレイヤー）を抽出し，playerID, nameFirst, nameLastの３つの列を抽出する，といったことが可能となる．"
      ]
    },
    {
      "cell_type": "code",
      "metadata": {
        "colab": {
          "base_uri": "https://localhost:8080/",
          "height": 189
        },
        "id": "vax5q2chPeJ3",
        "outputId": "c14c58a6-8323-46cb-ac02-e17c0104aebe"
      },
      "source": [
        "People %>% dplyr::filter(nameLast == \"Suzuki\") %>% select(nameFirst, nameLast, playerID)"
      ],
      "execution_count": 11,
      "outputs": [
        {
          "output_type": "display_data",
          "data": {
            "text/plain": [
              "  nameFirst nameLast playerID \n",
              "1 Ichiro    Suzuki   suzukic01\n",
              "2 Kurt      Suzuki   suzukku01\n",
              "3 Mac       Suzuki   suzukma01"
            ],
            "text/latex": "A data.frame: 3 × 3\n\\begin{tabular}{lll}\n nameFirst & nameLast & playerID\\\\\n <chr> & <chr> & <chr>\\\\\n\\hline\n\t Ichiro & Suzuki & suzukic01\\\\\n\t Kurt   & Suzuki & suzukku01\\\\\n\t Mac    & Suzuki & suzukma01\\\\\n\\end{tabular}\n",
            "text/markdown": "\nA data.frame: 3 × 3\n\n| nameFirst &lt;chr&gt; | nameLast &lt;chr&gt; | playerID &lt;chr&gt; |\n|---|---|---|\n| Ichiro | Suzuki | suzukic01 |\n| Kurt   | Suzuki | suzukku01 |\n| Mac    | Suzuki | suzukma01 |\n\n",
            "text/html": [
              "<table class=\"dataframe\">\n",
              "<caption>A data.frame: 3 × 3</caption>\n",
              "<thead>\n",
              "\t<tr><th scope=col>nameFirst</th><th scope=col>nameLast</th><th scope=col>playerID</th></tr>\n",
              "\t<tr><th scope=col>&lt;chr&gt;</th><th scope=col>&lt;chr&gt;</th><th scope=col>&lt;chr&gt;</th></tr>\n",
              "</thead>\n",
              "<tbody>\n",
              "\t<tr><td>Ichiro</td><td>Suzuki</td><td>suzukic01</td></tr>\n",
              "\t<tr><td>Kurt  </td><td>Suzuki</td><td>suzukku01</td></tr>\n",
              "\t<tr><td>Mac   </td><td>Suzuki</td><td>suzukma01</td></tr>\n",
              "</tbody>\n",
              "</table>\n"
            ]
          },
          "metadata": {}
        }
      ]
    },
    {
      "cell_type": "markdown",
      "metadata": {
        "id": "sxO6C_NbQxin"
      },
      "source": [
        "### 処理結果の代入\n",
        "イチローの```playerID```が```suzukic01```であることがわかったので，それを用いて，```Batting```データからイチローのデータを抽出してみる．結果を```ichiro_batting```に代入する．以下のどちらでもよい．"
      ]
    },
    {
      "cell_type": "code",
      "metadata": {
        "id": "K_0GgHOBhO2n"
      },
      "source": [
        "Batting %>% dplyr::filter(playerID == \"suzukic01\") -> ichiro_data\n",
        "#ichiro_data <- Batting %>% dplyr::filter(playerID == \"suzukic01\")"
      ],
      "execution_count": 12,
      "outputs": []
    },
    {
      "cell_type": "markdown",
      "metadata": {
        "id": "aYhBxCM8CVDB"
      },
      "source": [
        "結果を変数に代入した場合には結果が表示されない．結果を表示すると，"
      ]
    },
    {
      "cell_type": "code",
      "metadata": {
        "colab": {
          "base_uri": "https://localhost:8080/",
          "height": 733
        },
        "id": "QnRc9J5pTInq",
        "outputId": "fc6579c4-5f23-4a98-9854-9156ab65d82a"
      },
      "source": [
        "ichiro_data"
      ],
      "execution_count": 13,
      "outputs": [
        {
          "output_type": "display_data",
          "data": {
            "text/plain": [
              "   playerID  yearID stint teamID lgID G   AB  R   H   X2B ⋯ RBI SB CS BB SO IBB\n",
              "1  suzukic01 2001   1     SEA    AL   157 692 127 242 34  ⋯ 69  56 14 30 53 10 \n",
              "2  suzukic01 2002   1     SEA    AL   157 647 111 208 27  ⋯ 51  31 15 68 62 27 \n",
              "3  suzukic01 2003   1     SEA    AL   159 679 111 212 29  ⋯ 62  34  8 36 69  7 \n",
              "4  suzukic01 2004   1     SEA    AL   161 704 101 262 24  ⋯ 60  36 11 49 63 19 \n",
              "5  suzukic01 2005   1     SEA    AL   162 679 111 206 21  ⋯ 68  33  8 48 66 23 \n",
              "6  suzukic01 2006   1     SEA    AL   161 695 110 224 20  ⋯ 49  45  2 49 71 16 \n",
              "7  suzukic01 2007   1     SEA    AL   161 678 111 238 22  ⋯ 68  37  8 49 77 13 \n",
              "8  suzukic01 2008   1     SEA    AL   162 686 103 213 20  ⋯ 42  43  4 51 65 12 \n",
              "9  suzukic01 2009   1     SEA    AL   146 639  88 225 31  ⋯ 46  26  9 32 71 15 \n",
              "10 suzukic01 2010   1     SEA    AL   162 680  74 214 30  ⋯ 43  42  9 45 86 13 \n",
              "11 suzukic01 2011   1     SEA    AL   161 677  80 184 22  ⋯ 47  40  7 39 69 13 \n",
              "12 suzukic01 2012   1     SEA    AL    95 402  49 105 15  ⋯ 28  15  2 17 40  4 \n",
              "13 suzukic01 2012   2     NYA    AL    67 227  28  73 13  ⋯ 27  14  5  5 21  1 \n",
              "14 suzukic01 2013   1     NYA    AL   150 520  57 136 15  ⋯ 35  20  4 26 63  4 \n",
              "15 suzukic01 2014   1     NYA    AL   143 359  42 102 13  ⋯ 22  15  3 21 68  1 \n",
              "16 suzukic01 2015   1     MIA    NL   153 398  45  91  5  ⋯ 21  11  5 31 51  1 \n",
              "17 suzukic01 2016   1     MIA    NL   143 327  48  95 15  ⋯ 22  10  2 30 42  1 \n",
              "18 suzukic01 2017   1     MIA    NL   136 196  19  50  6  ⋯ 20   1  1 17 35  1 \n",
              "19 suzukic01 2018   1     SEA    AL    15  44   5   9  0  ⋯  0   0  0  3  7  0 \n",
              "20 suzukic01 2019   1     SEA    AL     2   5   0   0  0  ⋯  0   0  0  1  1  0 \n",
              "   HBP SH SF GIDP\n",
              "1  8   4  4   3  \n",
              "2  5   3  5   8  \n",
              "3  6   3  1   3  \n",
              "4  4   2  3   6  \n",
              "5  4   2  6   5  \n",
              "6  5   1  2   2  \n",
              "7  3   4  2   7  \n",
              "8  5   3  4   8  \n",
              "9  4   2  1   1  \n",
              "10 3   3  1   3  \n",
              "11 0   1  4  11  \n",
              "12 0   0  4  10  \n",
              "13 2   5  1   2  \n",
              "14 1   6  2   6  \n",
              "15 1   2  2   3  \n",
              "16 0   5  4   8  \n",
              "17 3   3  2   4  \n",
              "18 1   1  0   2  \n",
              "19 0   0  0   0  \n",
              "20 0   0  0   0  "
            ],
            "text/latex": "A data.frame: 20 × 22\n\\begin{tabular}{lllllllllllllllllllll}\n playerID & yearID & stint & teamID & lgID & G & AB & R & H & X2B & ⋯ & RBI & SB & CS & BB & SO & IBB & HBP & SH & SF & GIDP\\\\\n <chr> & <int> & <int> & <fct> & <fct> & <int> & <int> & <int> & <int> & <int> & ⋯ & <int> & <int> & <int> & <int> & <int> & <int> & <int> & <int> & <int> & <int>\\\\\n\\hline\n\t suzukic01 & 2001 & 1 & SEA & AL & 157 & 692 & 127 & 242 & 34 & ⋯ & 69 & 56 & 14 & 30 & 53 & 10 & 8 & 4 & 4 &  3\\\\\n\t suzukic01 & 2002 & 1 & SEA & AL & 157 & 647 & 111 & 208 & 27 & ⋯ & 51 & 31 & 15 & 68 & 62 & 27 & 5 & 3 & 5 &  8\\\\\n\t suzukic01 & 2003 & 1 & SEA & AL & 159 & 679 & 111 & 212 & 29 & ⋯ & 62 & 34 &  8 & 36 & 69 &  7 & 6 & 3 & 1 &  3\\\\\n\t suzukic01 & 2004 & 1 & SEA & AL & 161 & 704 & 101 & 262 & 24 & ⋯ & 60 & 36 & 11 & 49 & 63 & 19 & 4 & 2 & 3 &  6\\\\\n\t suzukic01 & 2005 & 1 & SEA & AL & 162 & 679 & 111 & 206 & 21 & ⋯ & 68 & 33 &  8 & 48 & 66 & 23 & 4 & 2 & 6 &  5\\\\\n\t suzukic01 & 2006 & 1 & SEA & AL & 161 & 695 & 110 & 224 & 20 & ⋯ & 49 & 45 &  2 & 49 & 71 & 16 & 5 & 1 & 2 &  2\\\\\n\t suzukic01 & 2007 & 1 & SEA & AL & 161 & 678 & 111 & 238 & 22 & ⋯ & 68 & 37 &  8 & 49 & 77 & 13 & 3 & 4 & 2 &  7\\\\\n\t suzukic01 & 2008 & 1 & SEA & AL & 162 & 686 & 103 & 213 & 20 & ⋯ & 42 & 43 &  4 & 51 & 65 & 12 & 5 & 3 & 4 &  8\\\\\n\t suzukic01 & 2009 & 1 & SEA & AL & 146 & 639 &  88 & 225 & 31 & ⋯ & 46 & 26 &  9 & 32 & 71 & 15 & 4 & 2 & 1 &  1\\\\\n\t suzukic01 & 2010 & 1 & SEA & AL & 162 & 680 &  74 & 214 & 30 & ⋯ & 43 & 42 &  9 & 45 & 86 & 13 & 3 & 3 & 1 &  3\\\\\n\t suzukic01 & 2011 & 1 & SEA & AL & 161 & 677 &  80 & 184 & 22 & ⋯ & 47 & 40 &  7 & 39 & 69 & 13 & 0 & 1 & 4 & 11\\\\\n\t suzukic01 & 2012 & 1 & SEA & AL &  95 & 402 &  49 & 105 & 15 & ⋯ & 28 & 15 &  2 & 17 & 40 &  4 & 0 & 0 & 4 & 10\\\\\n\t suzukic01 & 2012 & 2 & NYA & AL &  67 & 227 &  28 &  73 & 13 & ⋯ & 27 & 14 &  5 &  5 & 21 &  1 & 2 & 5 & 1 &  2\\\\\n\t suzukic01 & 2013 & 1 & NYA & AL & 150 & 520 &  57 & 136 & 15 & ⋯ & 35 & 20 &  4 & 26 & 63 &  4 & 1 & 6 & 2 &  6\\\\\n\t suzukic01 & 2014 & 1 & NYA & AL & 143 & 359 &  42 & 102 & 13 & ⋯ & 22 & 15 &  3 & 21 & 68 &  1 & 1 & 2 & 2 &  3\\\\\n\t suzukic01 & 2015 & 1 & MIA & NL & 153 & 398 &  45 &  91 &  5 & ⋯ & 21 & 11 &  5 & 31 & 51 &  1 & 0 & 5 & 4 &  8\\\\\n\t suzukic01 & 2016 & 1 & MIA & NL & 143 & 327 &  48 &  95 & 15 & ⋯ & 22 & 10 &  2 & 30 & 42 &  1 & 3 & 3 & 2 &  4\\\\\n\t suzukic01 & 2017 & 1 & MIA & NL & 136 & 196 &  19 &  50 &  6 & ⋯ & 20 &  1 &  1 & 17 & 35 &  1 & 1 & 1 & 0 &  2\\\\\n\t suzukic01 & 2018 & 1 & SEA & AL &  15 &  44 &   5 &   9 &  0 & ⋯ &  0 &  0 &  0 &  3 &  7 &  0 & 0 & 0 & 0 &  0\\\\\n\t suzukic01 & 2019 & 1 & SEA & AL &   2 &   5 &   0 &   0 &  0 & ⋯ &  0 &  0 &  0 &  1 &  1 &  0 & 0 & 0 & 0 &  0\\\\\n\\end{tabular}\n",
            "text/markdown": "\nA data.frame: 20 × 22\n\n| playerID &lt;chr&gt; | yearID &lt;int&gt; | stint &lt;int&gt; | teamID &lt;fct&gt; | lgID &lt;fct&gt; | G &lt;int&gt; | AB &lt;int&gt; | R &lt;int&gt; | H &lt;int&gt; | X2B &lt;int&gt; | ⋯ ⋯ | RBI &lt;int&gt; | SB &lt;int&gt; | CS &lt;int&gt; | BB &lt;int&gt; | SO &lt;int&gt; | IBB &lt;int&gt; | HBP &lt;int&gt; | SH &lt;int&gt; | SF &lt;int&gt; | GIDP &lt;int&gt; |\n|---|---|---|---|---|---|---|---|---|---|---|---|---|---|---|---|---|---|---|---|---|\n| suzukic01 | 2001 | 1 | SEA | AL | 157 | 692 | 127 | 242 | 34 | ⋯ | 69 | 56 | 14 | 30 | 53 | 10 | 8 | 4 | 4 |  3 |\n| suzukic01 | 2002 | 1 | SEA | AL | 157 | 647 | 111 | 208 | 27 | ⋯ | 51 | 31 | 15 | 68 | 62 | 27 | 5 | 3 | 5 |  8 |\n| suzukic01 | 2003 | 1 | SEA | AL | 159 | 679 | 111 | 212 | 29 | ⋯ | 62 | 34 |  8 | 36 | 69 |  7 | 6 | 3 | 1 |  3 |\n| suzukic01 | 2004 | 1 | SEA | AL | 161 | 704 | 101 | 262 | 24 | ⋯ | 60 | 36 | 11 | 49 | 63 | 19 | 4 | 2 | 3 |  6 |\n| suzukic01 | 2005 | 1 | SEA | AL | 162 | 679 | 111 | 206 | 21 | ⋯ | 68 | 33 |  8 | 48 | 66 | 23 | 4 | 2 | 6 |  5 |\n| suzukic01 | 2006 | 1 | SEA | AL | 161 | 695 | 110 | 224 | 20 | ⋯ | 49 | 45 |  2 | 49 | 71 | 16 | 5 | 1 | 2 |  2 |\n| suzukic01 | 2007 | 1 | SEA | AL | 161 | 678 | 111 | 238 | 22 | ⋯ | 68 | 37 |  8 | 49 | 77 | 13 | 3 | 4 | 2 |  7 |\n| suzukic01 | 2008 | 1 | SEA | AL | 162 | 686 | 103 | 213 | 20 | ⋯ | 42 | 43 |  4 | 51 | 65 | 12 | 5 | 3 | 4 |  8 |\n| suzukic01 | 2009 | 1 | SEA | AL | 146 | 639 |  88 | 225 | 31 | ⋯ | 46 | 26 |  9 | 32 | 71 | 15 | 4 | 2 | 1 |  1 |\n| suzukic01 | 2010 | 1 | SEA | AL | 162 | 680 |  74 | 214 | 30 | ⋯ | 43 | 42 |  9 | 45 | 86 | 13 | 3 | 3 | 1 |  3 |\n| suzukic01 | 2011 | 1 | SEA | AL | 161 | 677 |  80 | 184 | 22 | ⋯ | 47 | 40 |  7 | 39 | 69 | 13 | 0 | 1 | 4 | 11 |\n| suzukic01 | 2012 | 1 | SEA | AL |  95 | 402 |  49 | 105 | 15 | ⋯ | 28 | 15 |  2 | 17 | 40 |  4 | 0 | 0 | 4 | 10 |\n| suzukic01 | 2012 | 2 | NYA | AL |  67 | 227 |  28 |  73 | 13 | ⋯ | 27 | 14 |  5 |  5 | 21 |  1 | 2 | 5 | 1 |  2 |\n| suzukic01 | 2013 | 1 | NYA | AL | 150 | 520 |  57 | 136 | 15 | ⋯ | 35 | 20 |  4 | 26 | 63 |  4 | 1 | 6 | 2 |  6 |\n| suzukic01 | 2014 | 1 | NYA | AL | 143 | 359 |  42 | 102 | 13 | ⋯ | 22 | 15 |  3 | 21 | 68 |  1 | 1 | 2 | 2 |  3 |\n| suzukic01 | 2015 | 1 | MIA | NL | 153 | 398 |  45 |  91 |  5 | ⋯ | 21 | 11 |  5 | 31 | 51 |  1 | 0 | 5 | 4 |  8 |\n| suzukic01 | 2016 | 1 | MIA | NL | 143 | 327 |  48 |  95 | 15 | ⋯ | 22 | 10 |  2 | 30 | 42 |  1 | 3 | 3 | 2 |  4 |\n| suzukic01 | 2017 | 1 | MIA | NL | 136 | 196 |  19 |  50 |  6 | ⋯ | 20 |  1 |  1 | 17 | 35 |  1 | 1 | 1 | 0 |  2 |\n| suzukic01 | 2018 | 1 | SEA | AL |  15 |  44 |   5 |   9 |  0 | ⋯ |  0 |  0 |  0 |  3 |  7 |  0 | 0 | 0 | 0 |  0 |\n| suzukic01 | 2019 | 1 | SEA | AL |   2 |   5 |   0 |   0 |  0 | ⋯ |  0 |  0 |  0 |  1 |  1 |  0 | 0 | 0 | 0 |  0 |\n\n",
            "text/html": [
              "<table class=\"dataframe\">\n",
              "<caption>A data.frame: 20 × 22</caption>\n",
              "<thead>\n",
              "\t<tr><th scope=col>playerID</th><th scope=col>yearID</th><th scope=col>stint</th><th scope=col>teamID</th><th scope=col>lgID</th><th scope=col>G</th><th scope=col>AB</th><th scope=col>R</th><th scope=col>H</th><th scope=col>X2B</th><th scope=col>⋯</th><th scope=col>RBI</th><th scope=col>SB</th><th scope=col>CS</th><th scope=col>BB</th><th scope=col>SO</th><th scope=col>IBB</th><th scope=col>HBP</th><th scope=col>SH</th><th scope=col>SF</th><th scope=col>GIDP</th></tr>\n",
              "\t<tr><th scope=col>&lt;chr&gt;</th><th scope=col>&lt;int&gt;</th><th scope=col>&lt;int&gt;</th><th scope=col>&lt;fct&gt;</th><th scope=col>&lt;fct&gt;</th><th scope=col>&lt;int&gt;</th><th scope=col>&lt;int&gt;</th><th scope=col>&lt;int&gt;</th><th scope=col>&lt;int&gt;</th><th scope=col>&lt;int&gt;</th><th scope=col>⋯</th><th scope=col>&lt;int&gt;</th><th scope=col>&lt;int&gt;</th><th scope=col>&lt;int&gt;</th><th scope=col>&lt;int&gt;</th><th scope=col>&lt;int&gt;</th><th scope=col>&lt;int&gt;</th><th scope=col>&lt;int&gt;</th><th scope=col>&lt;int&gt;</th><th scope=col>&lt;int&gt;</th><th scope=col>&lt;int&gt;</th></tr>\n",
              "</thead>\n",
              "<tbody>\n",
              "\t<tr><td>suzukic01</td><td>2001</td><td>1</td><td>SEA</td><td>AL</td><td>157</td><td>692</td><td>127</td><td>242</td><td>34</td><td>⋯</td><td>69</td><td>56</td><td>14</td><td>30</td><td>53</td><td>10</td><td>8</td><td>4</td><td>4</td><td> 3</td></tr>\n",
              "\t<tr><td>suzukic01</td><td>2002</td><td>1</td><td>SEA</td><td>AL</td><td>157</td><td>647</td><td>111</td><td>208</td><td>27</td><td>⋯</td><td>51</td><td>31</td><td>15</td><td>68</td><td>62</td><td>27</td><td>5</td><td>3</td><td>5</td><td> 8</td></tr>\n",
              "\t<tr><td>suzukic01</td><td>2003</td><td>1</td><td>SEA</td><td>AL</td><td>159</td><td>679</td><td>111</td><td>212</td><td>29</td><td>⋯</td><td>62</td><td>34</td><td> 8</td><td>36</td><td>69</td><td> 7</td><td>6</td><td>3</td><td>1</td><td> 3</td></tr>\n",
              "\t<tr><td>suzukic01</td><td>2004</td><td>1</td><td>SEA</td><td>AL</td><td>161</td><td>704</td><td>101</td><td>262</td><td>24</td><td>⋯</td><td>60</td><td>36</td><td>11</td><td>49</td><td>63</td><td>19</td><td>4</td><td>2</td><td>3</td><td> 6</td></tr>\n",
              "\t<tr><td>suzukic01</td><td>2005</td><td>1</td><td>SEA</td><td>AL</td><td>162</td><td>679</td><td>111</td><td>206</td><td>21</td><td>⋯</td><td>68</td><td>33</td><td> 8</td><td>48</td><td>66</td><td>23</td><td>4</td><td>2</td><td>6</td><td> 5</td></tr>\n",
              "\t<tr><td>suzukic01</td><td>2006</td><td>1</td><td>SEA</td><td>AL</td><td>161</td><td>695</td><td>110</td><td>224</td><td>20</td><td>⋯</td><td>49</td><td>45</td><td> 2</td><td>49</td><td>71</td><td>16</td><td>5</td><td>1</td><td>2</td><td> 2</td></tr>\n",
              "\t<tr><td>suzukic01</td><td>2007</td><td>1</td><td>SEA</td><td>AL</td><td>161</td><td>678</td><td>111</td><td>238</td><td>22</td><td>⋯</td><td>68</td><td>37</td><td> 8</td><td>49</td><td>77</td><td>13</td><td>3</td><td>4</td><td>2</td><td> 7</td></tr>\n",
              "\t<tr><td>suzukic01</td><td>2008</td><td>1</td><td>SEA</td><td>AL</td><td>162</td><td>686</td><td>103</td><td>213</td><td>20</td><td>⋯</td><td>42</td><td>43</td><td> 4</td><td>51</td><td>65</td><td>12</td><td>5</td><td>3</td><td>4</td><td> 8</td></tr>\n",
              "\t<tr><td>suzukic01</td><td>2009</td><td>1</td><td>SEA</td><td>AL</td><td>146</td><td>639</td><td> 88</td><td>225</td><td>31</td><td>⋯</td><td>46</td><td>26</td><td> 9</td><td>32</td><td>71</td><td>15</td><td>4</td><td>2</td><td>1</td><td> 1</td></tr>\n",
              "\t<tr><td>suzukic01</td><td>2010</td><td>1</td><td>SEA</td><td>AL</td><td>162</td><td>680</td><td> 74</td><td>214</td><td>30</td><td>⋯</td><td>43</td><td>42</td><td> 9</td><td>45</td><td>86</td><td>13</td><td>3</td><td>3</td><td>1</td><td> 3</td></tr>\n",
              "\t<tr><td>suzukic01</td><td>2011</td><td>1</td><td>SEA</td><td>AL</td><td>161</td><td>677</td><td> 80</td><td>184</td><td>22</td><td>⋯</td><td>47</td><td>40</td><td> 7</td><td>39</td><td>69</td><td>13</td><td>0</td><td>1</td><td>4</td><td>11</td></tr>\n",
              "\t<tr><td>suzukic01</td><td>2012</td><td>1</td><td>SEA</td><td>AL</td><td> 95</td><td>402</td><td> 49</td><td>105</td><td>15</td><td>⋯</td><td>28</td><td>15</td><td> 2</td><td>17</td><td>40</td><td> 4</td><td>0</td><td>0</td><td>4</td><td>10</td></tr>\n",
              "\t<tr><td>suzukic01</td><td>2012</td><td>2</td><td>NYA</td><td>AL</td><td> 67</td><td>227</td><td> 28</td><td> 73</td><td>13</td><td>⋯</td><td>27</td><td>14</td><td> 5</td><td> 5</td><td>21</td><td> 1</td><td>2</td><td>5</td><td>1</td><td> 2</td></tr>\n",
              "\t<tr><td>suzukic01</td><td>2013</td><td>1</td><td>NYA</td><td>AL</td><td>150</td><td>520</td><td> 57</td><td>136</td><td>15</td><td>⋯</td><td>35</td><td>20</td><td> 4</td><td>26</td><td>63</td><td> 4</td><td>1</td><td>6</td><td>2</td><td> 6</td></tr>\n",
              "\t<tr><td>suzukic01</td><td>2014</td><td>1</td><td>NYA</td><td>AL</td><td>143</td><td>359</td><td> 42</td><td>102</td><td>13</td><td>⋯</td><td>22</td><td>15</td><td> 3</td><td>21</td><td>68</td><td> 1</td><td>1</td><td>2</td><td>2</td><td> 3</td></tr>\n",
              "\t<tr><td>suzukic01</td><td>2015</td><td>1</td><td>MIA</td><td>NL</td><td>153</td><td>398</td><td> 45</td><td> 91</td><td> 5</td><td>⋯</td><td>21</td><td>11</td><td> 5</td><td>31</td><td>51</td><td> 1</td><td>0</td><td>5</td><td>4</td><td> 8</td></tr>\n",
              "\t<tr><td>suzukic01</td><td>2016</td><td>1</td><td>MIA</td><td>NL</td><td>143</td><td>327</td><td> 48</td><td> 95</td><td>15</td><td>⋯</td><td>22</td><td>10</td><td> 2</td><td>30</td><td>42</td><td> 1</td><td>3</td><td>3</td><td>2</td><td> 4</td></tr>\n",
              "\t<tr><td>suzukic01</td><td>2017</td><td>1</td><td>MIA</td><td>NL</td><td>136</td><td>196</td><td> 19</td><td> 50</td><td> 6</td><td>⋯</td><td>20</td><td> 1</td><td> 1</td><td>17</td><td>35</td><td> 1</td><td>1</td><td>1</td><td>0</td><td> 2</td></tr>\n",
              "\t<tr><td>suzukic01</td><td>2018</td><td>1</td><td>SEA</td><td>AL</td><td> 15</td><td> 44</td><td>  5</td><td>  9</td><td> 0</td><td>⋯</td><td> 0</td><td> 0</td><td> 0</td><td> 3</td><td> 7</td><td> 0</td><td>0</td><td>0</td><td>0</td><td> 0</td></tr>\n",
              "\t<tr><td>suzukic01</td><td>2019</td><td>1</td><td>SEA</td><td>AL</td><td>  2</td><td>  5</td><td>  0</td><td>  0</td><td> 0</td><td>⋯</td><td> 0</td><td> 0</td><td> 0</td><td> 1</td><td> 1</td><td> 0</td><td>0</td><td>0</td><td>0</td><td> 0</td></tr>\n",
              "</tbody>\n",
              "</table>\n"
            ]
          },
          "metadata": {}
        }
      ]
    },
    {
      "cell_type": "markdown",
      "metadata": {
        "id": "QwU5fPQfqEEm"
      },
      "source": [
        "## データ集計の例"
      ]
    },
    {
      "cell_type": "markdown",
      "metadata": {
        "id": "y42bI2YjDyRy"
      },
      "source": [
        "### データの集計（平均など）\n",
        "イチローの打撃成績（```ichiro_data```）から，安打数の合計，平均，最大，最小を計算する．ここで，安打数の列名が```H```であることを利用しており，関数内の指定で列名を指定している．"
      ]
    },
    {
      "cell_type": "code",
      "metadata": {
        "colab": {
          "base_uri": "https://localhost:8080/",
          "height": 127
        },
        "id": "cKoJJAfGqWNZ",
        "outputId": "be875b8f-7f58-4a4a-f557-1199078928eb"
      },
      "source": [
        "ichiro_data %>% summarise(totalH=sum(H), meanH=mean(H), minH=min(H), maxH=max(H))"
      ],
      "execution_count": 14,
      "outputs": [
        {
          "output_type": "display_data",
          "data": {
            "text/plain": [
              "  totalH meanH  minH maxH\n",
              "1 3089   154.45 0    262 "
            ],
            "text/latex": "A data.frame: 1 × 4\n\\begin{tabular}{llll}\n totalH & meanH & minH & maxH\\\\\n <int> & <dbl> & <int> & <int>\\\\\n\\hline\n\t 3089 & 154.45 & 0 & 262\\\\\n\\end{tabular}\n",
            "text/markdown": "\nA data.frame: 1 × 4\n\n| totalH &lt;int&gt; | meanH &lt;dbl&gt; | minH &lt;int&gt; | maxH &lt;int&gt; |\n|---|---|---|---|\n| 3089 | 154.45 | 0 | 262 |\n\n",
            "text/html": [
              "<table class=\"dataframe\">\n",
              "<caption>A data.frame: 1 × 4</caption>\n",
              "<thead>\n",
              "\t<tr><th scope=col>totalH</th><th scope=col>meanH</th><th scope=col>minH</th><th scope=col>maxH</th></tr>\n",
              "\t<tr><th scope=col>&lt;int&gt;</th><th scope=col>&lt;dbl&gt;</th><th scope=col>&lt;int&gt;</th><th scope=col>&lt;int&gt;</th></tr>\n",
              "</thead>\n",
              "<tbody>\n",
              "\t<tr><td>3089</td><td>154.45</td><td>0</td><td>262</td></tr>\n",
              "</tbody>\n",
              "</table>\n"
            ]
          },
          "metadata": {}
        }
      ]
    },
    {
      "cell_type": "markdown",
      "metadata": {
        "id": "IbWyR_2nqpau"
      },
      "source": [
        "### グループごとでのデータの集計\n",
        "```group_by()```を用いることで，ある条件ごとにデータの集計ができる．例えば，イチローの打撃成績（```ichiro_data```）から，在籍チーム（```teamID```）ごとに安打数の合計，平均，最小，最大を計算する．\n",
        "\n",
        "```group_by()```を用いて，グループ化してから```summarise()を行えばよい（結果を```ichiro_team_summary```に代入しておく）．\n"
      ]
    },
    {
      "cell_type": "code",
      "metadata": {
        "colab": {
          "base_uri": "https://localhost:8080/",
          "height": 189
        },
        "id": "EN-FAy09Gmyo",
        "outputId": "b6da2343-cd7f-4050-dbab-9b6f00fb08ef"
      },
      "source": [
        "ichiro_data %>% group_by(teamID) %>% summarise(totalH=sum(H), meanH=mean(H), minH=min(H), maxH=max(H)) -> ichiro_team_summary\n",
        "ichiro_team_summary"
      ],
      "execution_count": 15,
      "outputs": [
        {
          "output_type": "display_data",
          "data": {
            "text/plain": [
              "  teamID totalH meanH     minH maxH\n",
              "1 MIA     236    78.66667 50    95 \n",
              "2 NYA     311   103.66667 73   136 \n",
              "3 SEA    2542   181.57143  0   262 "
            ],
            "text/latex": "A tibble: 3 × 5\n\\begin{tabular}{lllll}\n teamID & totalH & meanH & minH & maxH\\\\\n <fct> & <int> & <dbl> & <int> & <int>\\\\\n\\hline\n\t MIA &  236 &  78.66667 & 50 &  95\\\\\n\t NYA &  311 & 103.66667 & 73 & 136\\\\\n\t SEA & 2542 & 181.57143 &  0 & 262\\\\\n\\end{tabular}\n",
            "text/markdown": "\nA tibble: 3 × 5\n\n| teamID &lt;fct&gt; | totalH &lt;int&gt; | meanH &lt;dbl&gt; | minH &lt;int&gt; | maxH &lt;int&gt; |\n|---|---|---|---|---|\n| MIA |  236 |  78.66667 | 50 |  95 |\n| NYA |  311 | 103.66667 | 73 | 136 |\n| SEA | 2542 | 181.57143 |  0 | 262 |\n\n",
            "text/html": [
              "<table class=\"dataframe\">\n",
              "<caption>A tibble: 3 × 5</caption>\n",
              "<thead>\n",
              "\t<tr><th scope=col>teamID</th><th scope=col>totalH</th><th scope=col>meanH</th><th scope=col>minH</th><th scope=col>maxH</th></tr>\n",
              "\t<tr><th scope=col>&lt;fct&gt;</th><th scope=col>&lt;int&gt;</th><th scope=col>&lt;dbl&gt;</th><th scope=col>&lt;int&gt;</th><th scope=col>&lt;int&gt;</th></tr>\n",
              "</thead>\n",
              "<tbody>\n",
              "\t<tr><td>MIA</td><td> 236</td><td> 78.66667</td><td>50</td><td> 95</td></tr>\n",
              "\t<tr><td>NYA</td><td> 311</td><td>103.66667</td><td>73</td><td>136</td></tr>\n",
              "\t<tr><td>SEA</td><td>2542</td><td>181.57143</td><td> 0</td><td>262</td></tr>\n",
              "</tbody>\n",
              "</table>\n"
            ]
          },
          "metadata": {}
        }
      ]
    },
    {
      "cell_type": "markdown",
      "metadata": {
        "id": "ZumulGXMXljO"
      },
      "source": [
        "安打数順に並び変えて表示するには，```arrange()```関数を利用する．"
      ]
    },
    {
      "cell_type": "code",
      "metadata": {
        "id": "MLyZkHsEPMXQ",
        "colab": {
          "base_uri": "https://localhost:8080/",
          "height": 189
        },
        "outputId": "93d544c8-c90f-4e70-f5df-58671d53bb1e"
      },
      "source": [
        "ichiro_data %>% group_by(teamID) %>% summarise(totalH=sum(H), meanH=mean(H), minH=min(H), maxH=max(H)) %>% arrange(desc(totalH))"
      ],
      "execution_count": 16,
      "outputs": [
        {
          "output_type": "display_data",
          "data": {
            "text/plain": [
              "  teamID totalH meanH     minH maxH\n",
              "1 SEA    2542   181.57143  0   262 \n",
              "2 NYA     311   103.66667 73   136 \n",
              "3 MIA     236    78.66667 50    95 "
            ],
            "text/latex": "A tibble: 3 × 5\n\\begin{tabular}{lllll}\n teamID & totalH & meanH & minH & maxH\\\\\n <fct> & <int> & <dbl> & <int> & <int>\\\\\n\\hline\n\t SEA & 2542 & 181.57143 &  0 & 262\\\\\n\t NYA &  311 & 103.66667 & 73 & 136\\\\\n\t MIA &  236 &  78.66667 & 50 &  95\\\\\n\\end{tabular}\n",
            "text/markdown": "\nA tibble: 3 × 5\n\n| teamID &lt;fct&gt; | totalH &lt;int&gt; | meanH &lt;dbl&gt; | minH &lt;int&gt; | maxH &lt;int&gt; |\n|---|---|---|---|---|\n| SEA | 2542 | 181.57143 |  0 | 262 |\n| NYA |  311 | 103.66667 | 73 | 136 |\n| MIA |  236 |  78.66667 | 50 |  95 |\n\n",
            "text/html": [
              "<table class=\"dataframe\">\n",
              "<caption>A tibble: 3 × 5</caption>\n",
              "<thead>\n",
              "\t<tr><th scope=col>teamID</th><th scope=col>totalH</th><th scope=col>meanH</th><th scope=col>minH</th><th scope=col>maxH</th></tr>\n",
              "\t<tr><th scope=col>&lt;fct&gt;</th><th scope=col>&lt;int&gt;</th><th scope=col>&lt;dbl&gt;</th><th scope=col>&lt;int&gt;</th><th scope=col>&lt;int&gt;</th></tr>\n",
              "</thead>\n",
              "<tbody>\n",
              "\t<tr><td>SEA</td><td>2542</td><td>181.57143</td><td> 0</td><td>262</td></tr>\n",
              "\t<tr><td>NYA</td><td> 311</td><td>103.66667</td><td>73</td><td>136</td></tr>\n",
              "\t<tr><td>MIA</td><td> 236</td><td> 78.66667</td><td>50</td><td> 95</td></tr>\n",
              "</tbody>\n",
              "</table>\n"
            ]
          },
          "metadata": {}
        }
      ]
    },
    {
      "cell_type": "markdown",
      "metadata": {
        "id": "Im_R6ZY3HXnu"
      },
      "source": [
        "## グラフの描画\n",
        "ggplot2は多機能で様々なグラフを描画できるため，全てを紹介することはできません．\n",
        "\n",
        "レポートに必要なグラフについては，以下の関連リンクなどで調べてください．\n",
        "\n",
        "基本的な流れとしては，以下のようなものです．\n",
        "\n",
        "1. ggplot関数でグラフ描画するデータを指定する（```data=```の部分）\n",
        "2. どのデータを描画するかを指定する（```mapping=aes()```の部分）\n",
        "2. ```+``` で続けて，描画するグラフの形式を指定する（```geom_*()```の部分）\n",
        "3. さらに```+```で続けて，フォントの大きさなどを指定する\n",
        "\n",
        "（3,4の順は逆でも構いません）\n"
      ]
    },
    {
      "cell_type": "markdown",
      "metadata": {
        "id": "8MCzcV2MVddv"
      },
      "source": [
        "### 散布図\n",
        "イチローのシーズンごとの安打数を散布図で描画する．\n",
        "（横軸：年```yearID```, 縦軸：安打数```H```）"
      ]
    },
    {
      "cell_type": "code",
      "metadata": {
        "colab": {
          "base_uri": "https://localhost:8080/",
          "height": 437
        },
        "id": "1ZMddyDTgU-G",
        "outputId": "bdbfcfa8-84f5-424d-cb94-3285766408f3"
      },
      "source": [
        "ggplot(data=ichiro_data, mapping=aes(x=yearID, y=H)) +\n",
        "geom_point() +\n",
        "geom_line() +\n",
        "theme_light() +                                                # グラフのテーマの選択\n",
        "labs(x = \"Year\",                                               # X軸ラベル\n",
        "     y = \"No. of Hits\") +                                      # Y軸ラベル\n",
        "theme(axis.text.y = element_text(size = 22, colour = \"black\"), # Y軸の目盛り文字の大きさ\n",
        "      axis.text.x = element_text(size = 22, colour = \"black\"), # X軸の目盛り文字の大きさ\n",
        "      axis.title = element_text(size = 22))                    # 軸の名前の文字の大きさ"
      ],
      "execution_count": 17,
      "outputs": [
        {
          "output_type": "display_data",
          "data": {
            "image/png": "[encoded data removed]",
            "text/plain": [
              "plot without title"
            ]
          },
          "metadata": {
            "image/png": {
              "width": 420,
              "height": 420
            }
          }
        }
      ]
    },
    {
      "cell_type": "markdown",
      "metadata": {
        "id": "KP1RwC8aW2ZT"
      },
      "source": [
        "縦軸を打率にする\n",
        "（縦軸を```H（安打数）/AB（打数）```に変更．列名で式を書くこともできる）．"
      ]
    },
    {
      "cell_type": "code",
      "metadata": {
        "colab": {
          "base_uri": "https://localhost:8080/",
          "height": 437
        },
        "id": "obVGPTqjgsqe",
        "outputId": "c5e09336-764d-4835-e808-50db1df79147"
      },
      "source": [
        "ggplot(data=ichiro_data, mapping=aes(x=yearID, y=H/AB)) +\n",
        "geom_point() +\n",
        "geom_line()"
      ],
      "execution_count": 18,
      "outputs": [
        {
          "output_type": "display_data",
          "data": {
            "image/png": "[encoded data removed]",
            "text/plain": [
              "plot without title"
            ]
          },
          "metadata": {
            "image/png": {
              "width": 420,
              "height": 420
            }
          }
        }
      ]
    },
    {
      "cell_type": "markdown",
      "metadata": {
        "id": "sZMv9yODQSwZ"
      },
      "source": [
        "また，この例では意味がないが，回帰直線（と信頼区間）を書くこともできる．\n",
        "\n",
        "直線以外のフィッティングも可能です．必要であれば調べてみてください．"
      ]
    },
    {
      "cell_type": "code",
      "metadata": {
        "colab": {
          "base_uri": "https://localhost:8080/",
          "height": 472
        },
        "id": "r4R2d4kzQRxF",
        "outputId": "6696dce3-5875-478a-dc03-d934d2587d63"
      },
      "source": [
        "ggplot(data=ichiro_data, mapping=aes(x=yearID, y=H/AB)) +\n",
        "geom_point() +\n",
        "geom_smooth(method = \"lm\", se=TRUE)"
      ],
      "execution_count": 19,
      "outputs": [
        {
          "output_type": "stream",
          "name": "stderr",
          "text": [
            "`geom_smooth()` using formula 'y ~ x'\n",
            "\n"
          ]
        },
        {
          "output_type": "display_data",
          "data": {
            "image/png": "[encoded data removed]",
            "text/plain": [
              "plot without title"
            ]
          },
          "metadata": {
            "image/png": {
              "width": 420,
              "height": 420
            }
          }
        }
      ]
    },
    {
      "cell_type": "markdown",
      "metadata": {
        "id": "v07MSIBaKv-D"
      },
      "source": [
        "### 棒グラフ\n",
        "イチローのシーズンごとの安打数を棒グラフで描画する．\n",
        "（横軸：年```yearID```, 縦軸：安打数```H```）"
      ]
    },
    {
      "cell_type": "code",
      "metadata": {
        "colab": {
          "base_uri": "https://localhost:8080/",
          "height": 437
        },
        "id": "6IcU_kbdvxW1",
        "outputId": "64e3e4f5-727e-4591-8fa9-8cb11a666e4c"
      },
      "source": [
        "ggplot(data=ichiro_team_summary, mapping=aes(x=teamID,y=totalH)) +\n",
        "geom_bar(stat = \"identity\")"
      ],
      "execution_count": 20,
      "outputs": [
        {
          "output_type": "display_data",
          "data": {
            "image/png": "[encoded data removed]",
            "text/plain": [
              "plot without title"
            ]
          },
          "metadata": {
            "image/png": {
              "width": 420,
              "height": 420
            }
          }
        }
      ]
    },
    {
      "cell_type": "markdown",
      "metadata": {
        "id": "sd6VeFmCv0Wq"
      },
      "source": [
        "以下のようにすると，```teamID```ごとに色を変更できる．"
      ]
    },
    {
      "cell_type": "code",
      "metadata": {
        "id": "ny1_26wOL7qe",
        "colab": {
          "base_uri": "https://localhost:8080/",
          "height": 437
        },
        "outputId": "ccb83f99-c367-4d1d-b3af-4051930db317"
      },
      "source": [
        "ggplot(data=ichiro_team_summary, mapping=aes(x=teamID,y=totalH,fill=teamID)) +\n",
        "geom_bar(stat = \"identity\")"
      ],
      "execution_count": 21,
      "outputs": [
        {
          "output_type": "display_data",
          "data": {
            "image/png": "[encoded data removed]",
            "text/plain": [
              "plot without title"
            ]
          },
          "metadata": {
            "image/png": {
              "width": 420,
              "height": 420
            }
          }
        }
      ]
    },
    {
      "cell_type": "markdown",
      "metadata": {
        "id": "8DR8Cwvdabt4"
      },
      "source": [
        "### ヒストグラム\n",
        "2016年シーズンの年俸のヒストグラムを描画する．\n",
        "\n",
        "まず，2016年のプレイヤーの年俸データを抽出する．"
      ]
    },
    {
      "cell_type": "code",
      "metadata": {
        "colab": {
          "base_uri": "https://localhost:8080/",
          "height": 282
        },
        "id": "2B9E8mmAYuOo",
        "outputId": "eb33dd03-c57b-46f3-deea-80adffa2c535"
      },
      "source": [
        "salaries2016 <- Salaries %>% dplyr::filter(yearID==2016)\n",
        "head(salaries2016)"
      ],
      "execution_count": 22,
      "outputs": [
        {
          "output_type": "display_data",
          "data": {
            "text/plain": [
              "  yearID teamID lgID playerID  salary \n",
              "1 2016   ARI    NL   ahmedni01  521600\n",
              "2 2016   ARI    NL   barreja01  507500\n",
              "3 2016   ARI    NL   brachsi01  509300\n",
              "4 2016   ARI    NL   britoso01  508500\n",
              "5 2016   ARI    NL   castiwe01 3700000\n",
              "6 2016   ARI    NL   chafian01  519700"
            ],
            "text/latex": "A data.frame: 6 × 5\n\\begin{tabular}{r|lllll}\n  & yearID & teamID & lgID & playerID & salary\\\\\n  & <int> & <fct> & <fct> & <chr> & <int>\\\\\n\\hline\n\t1 & 2016 & ARI & NL & ahmedni01 &  521600\\\\\n\t2 & 2016 & ARI & NL & barreja01 &  507500\\\\\n\t3 & 2016 & ARI & NL & brachsi01 &  509300\\\\\n\t4 & 2016 & ARI & NL & britoso01 &  508500\\\\\n\t5 & 2016 & ARI & NL & castiwe01 & 3700000\\\\\n\t6 & 2016 & ARI & NL & chafian01 &  519700\\\\\n\\end{tabular}\n",
            "text/markdown": "\nA data.frame: 6 × 5\n\n| <!--/--> | yearID &lt;int&gt; | teamID &lt;fct&gt; | lgID &lt;fct&gt; | playerID &lt;chr&gt; | salary &lt;int&gt; |\n|---|---|---|---|---|---|\n| 1 | 2016 | ARI | NL | ahmedni01 |  521600 |\n| 2 | 2016 | ARI | NL | barreja01 |  507500 |\n| 3 | 2016 | ARI | NL | brachsi01 |  509300 |\n| 4 | 2016 | ARI | NL | britoso01 |  508500 |\n| 5 | 2016 | ARI | NL | castiwe01 | 3700000 |\n| 6 | 2016 | ARI | NL | chafian01 |  519700 |\n\n",
            "text/html": [
              "<table class=\"dataframe\">\n",
              "<caption>A data.frame: 6 × 5</caption>\n",
              "<thead>\n",
              "\t<tr><th></th><th scope=col>yearID</th><th scope=col>teamID</th><th scope=col>lgID</th><th scope=col>playerID</th><th scope=col>salary</th></tr>\n",
              "\t<tr><th></th><th scope=col>&lt;int&gt;</th><th scope=col>&lt;fct&gt;</th><th scope=col>&lt;fct&gt;</th><th scope=col>&lt;chr&gt;</th><th scope=col>&lt;int&gt;</th></tr>\n",
              "</thead>\n",
              "<tbody>\n",
              "\t<tr><th scope=row>1</th><td>2016</td><td>ARI</td><td>NL</td><td>ahmedni01</td><td> 521600</td></tr>\n",
              "\t<tr><th scope=row>2</th><td>2016</td><td>ARI</td><td>NL</td><td>barreja01</td><td> 507500</td></tr>\n",
              "\t<tr><th scope=row>3</th><td>2016</td><td>ARI</td><td>NL</td><td>brachsi01</td><td> 509300</td></tr>\n",
              "\t<tr><th scope=row>4</th><td>2016</td><td>ARI</td><td>NL</td><td>britoso01</td><td> 508500</td></tr>\n",
              "\t<tr><th scope=row>5</th><td>2016</td><td>ARI</td><td>NL</td><td>castiwe01</td><td>3700000</td></tr>\n",
              "\t<tr><th scope=row>6</th><td>2016</td><td>ARI</td><td>NL</td><td>chafian01</td><td> 519700</td></tr>\n",
              "</tbody>\n",
              "</table>\n"
            ]
          },
          "metadata": {}
        }
      ]
    },
    {
      "cell_type": "markdown",
      "metadata": {
        "id": "bJdCJe74aptS"
      },
      "source": [
        "ヒストグラムを描画する．\n",
        "ここでは，X軸・Y軸のメモリ・ラベルのフォントサイズも変更（大きく）している．"
      ]
    },
    {
      "cell_type": "code",
      "metadata": {
        "id": "AUyz5E1-KUxx",
        "colab": {
          "base_uri": "https://localhost:8080/",
          "height": 437
        },
        "outputId": "eee747f8-e764-4b04-ba9c-71701c23657d"
      },
      "source": [
        "ggplot(data=salaries2016, mapping=aes(x=salary)) +\n",
        "geom_histogram(bins=20)"
      ],
      "execution_count": 23,
      "outputs": [
        {
          "output_type": "display_data",
          "data": {
            "image/png": "[encoded data removed]",
            "text/plain": [
              "plot without title"
            ]
          },
          "metadata": {
            "image/png": {
              "width": 420,
              "height": 420
            }
          }
        }
      ]
    },
    {
      "cell_type": "markdown",
      "metadata": {
        "id": "MPDew_xEV_2z"
      },
      "source": [
        "### 箱ひげ図・バイオリンプロット\n",
        "データの分布を可視化する際には，箱ひげ図やバイオリンプロットもよく利用される．バイオリンプロットのほうが分布の形状はわかりやすい．\n",
        "\n",
        "ここでは，```iris```データセットの```Sepal.Length```を描画してみる．"
      ]
    },
    {
      "cell_type": "code",
      "metadata": {
        "colab": {
          "base_uri": "https://localhost:8080/",
          "height": 437
        },
        "id": "Hz15bCp7WGRN",
        "outputId": "3497d879-8dbb-47d0-9754-648f50db61c1"
      },
      "source": [
        "ggplot(data=iris, mapping=aes(x=Species, y=Sepal.Length)) +\n",
        "geom_boxplot()"
      ],
      "execution_count": 24,
      "outputs": [
        {
          "output_type": "display_data",
          "data": {
            "image/png": "[encoded data removed]",
            "text/plain": [
              "plot without title"
            ]
          },
          "metadata": {
            "image/png": {
              "width": 420,
              "height": 420
            }
          }
        }
      ]
    },
    {
      "cell_type": "code",
      "metadata": {
        "colab": {
          "base_uri": "https://localhost:8080/",
          "height": 437
        },
        "id": "xcj-KWEtX9Bt",
        "outputId": "8baca7f0-20b8-431f-8084-78f2285b39d4"
      },
      "source": [
        "ggplot(data=iris, mapping=aes(x=Species, y=Sepal.Length)) +\n",
        "geom_violin()"
      ],
      "execution_count": 25,
      "outputs": [
        {
          "output_type": "display_data",
          "data": {
            "image/png": "[encoded data removed]",
            "text/plain": [
              "plot without title"
            ]
          },
          "metadata": {
            "image/png": {
              "width": 420,
              "height": 420
            }
          }
        }
      ]
    },
    {
      "cell_type": "markdown",
      "metadata": {
        "id": "CyTpK06j5qfs"
      },
      "source": [
        "## 参考リンク\n",
        "\n",
        "その他，以下のリンクなども参考にしてください．\n",
        "\n",
        "dplyr:\n",
        "\n",
        "https://stats.biopapyrus.jp/r/tidyverse/dplyr.html\n",
        "\n",
        "https://kazutan.github.io/kazutanR/hands_on_170730/index.html\n",
        "\n",
        "https://www.jaysong.net/dplyr_intro/\n",
        "\n",
        "\n",
        "ggplot2:\n",
        "\n",
        "https://kazutan.github.io/fukuokaR11/intro_ggplot2.html\n",
        "\n",
        "https://stats.biopapyrus.jp/r/ggplot/\n",
        "\n",
        "\n"
      ]
    },
    {
      "cell_type": "code",
      "metadata": {
        "id": "jtWoWsJhTnUQ"
      },
      "source": [
        ""
      ],
      "execution_count": 26,
      "outputs": []
    }
  ]
}