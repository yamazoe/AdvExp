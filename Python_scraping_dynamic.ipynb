{
  "nbformat": 4,
  "nbformat_minor": 0,
  "metadata": {
    "colab": {
      "provenance": []
    },
    "kernelspec": {
      "name": "python3",
      "display_name": "Python 3"
    },
    "language_info": {
      "name": "python"
    }
  },
  "cells": [
    {
      "cell_type": "markdown",
      "source": [
        "# PythonによるWebスクレイピング（動的Webページ）\n",
        "\n",
        "以下では，サンプルページ\n",
        "\n",
        "https://hirotakeyamazoe.jp/lecture/advexp/f1/\n",
        "\n",
        "に対して，スクレイピングを行う例を示す．\n",
        "\n",
        "このページでは，表示データを動的に生成しているため，ソースファイルには表示データが含まれない．そのため，実際に表示されるページのレンダリングを行ってから，その情報に対しスクレイピングを行う必要がある．\n",
        "\n",
        "ここでは，requests-htmlライブラリを利用してレンダリング後のHTMLページを取得し，Beautiful soupライブラリを用いてスクレイピングを行う例を示す．"
      ],
      "metadata": {
        "id": "3NE7SakqlSy1"
      }
    },
    {
      "cell_type": "markdown",
      "source": [
        "### ライブラリのインストール"
      ],
      "metadata": {
        "id": "F0Hjlw1R0p4N"
      }
    },
    {
      "cell_type": "code",
      "execution_count": 1,
      "metadata": {
        "colab": {
          "base_uri": "https://localhost:8080/"
        },
        "id": "BE7yu7IcjSov",
        "outputId": "6bf33ae4-42b8-437f-f52b-8ca07dc6a3d5"
      },
      "outputs": [
        {
          "output_type": "stream",
          "name": "stdout",
          "text": [
            "Requirement already satisfied: requests-html in /usr/local/lib/python3.10/dist-packages (0.10.0)\n",
            "Requirement already satisfied: lxml_html_clean in /usr/local/lib/python3.10/dist-packages (0.4.1)\n",
            "Requirement already satisfied: requests in /usr/local/lib/python3.10/dist-packages (from requests-html) (2.32.3)\n",
            "Requirement already satisfied: pyquery in /usr/local/lib/python3.10/dist-packages (from requests-html) (2.0.1)\n",
            "Requirement already satisfied: fake-useragent in /usr/local/lib/python3.10/dist-packages (from requests-html) (1.5.1)\n",
            "Requirement already satisfied: parse in /usr/local/lib/python3.10/dist-packages (from requests-html) (1.20.2)\n",
            "Requirement already satisfied: bs4 in /usr/local/lib/python3.10/dist-packages (from requests-html) (0.0.2)\n",
            "Requirement already satisfied: w3lib in /usr/local/lib/python3.10/dist-packages (from requests-html) (2.2.1)\n",
            "Requirement already satisfied: pyppeteer>=0.0.14 in /usr/local/lib/python3.10/dist-packages (from requests-html) (2.0.0)\n",
            "Requirement already satisfied: lxml in /usr/local/lib/python3.10/dist-packages (from lxml_html_clean) (5.3.0)\n",
            "Requirement already satisfied: appdirs<2.0.0,>=1.4.3 in /usr/local/lib/python3.10/dist-packages (from pyppeteer>=0.0.14->requests-html) (1.4.4)\n",
            "Requirement already satisfied: certifi>=2023 in /usr/local/lib/python3.10/dist-packages (from pyppeteer>=0.0.14->requests-html) (2024.8.30)\n",
            "Requirement already satisfied: importlib-metadata>=1.4 in /usr/local/lib/python3.10/dist-packages (from pyppeteer>=0.0.14->requests-html) (8.5.0)\n",
            "Requirement already satisfied: pyee<12.0.0,>=11.0.0 in /usr/local/lib/python3.10/dist-packages (from pyppeteer>=0.0.14->requests-html) (11.1.1)\n",
            "Requirement already satisfied: tqdm<5.0.0,>=4.42.1 in /usr/local/lib/python3.10/dist-packages (from pyppeteer>=0.0.14->requests-html) (4.66.6)\n",
            "Requirement already satisfied: urllib3<2.0.0,>=1.25.8 in /usr/local/lib/python3.10/dist-packages (from pyppeteer>=0.0.14->requests-html) (1.26.20)\n",
            "Requirement already satisfied: websockets<11.0,>=10.0 in /usr/local/lib/python3.10/dist-packages (from pyppeteer>=0.0.14->requests-html) (10.4)\n",
            "Requirement already satisfied: beautifulsoup4 in /usr/local/lib/python3.10/dist-packages (from bs4->requests-html) (4.12.3)\n",
            "Requirement already satisfied: cssselect>=1.2.0 in /usr/local/lib/python3.10/dist-packages (from pyquery->requests-html) (1.2.0)\n",
            "Requirement already satisfied: charset-normalizer<4,>=2 in /usr/local/lib/python3.10/dist-packages (from requests->requests-html) (3.4.0)\n",
            "Requirement already satisfied: idna<4,>=2.5 in /usr/local/lib/python3.10/dist-packages (from requests->requests-html) (3.10)\n",
            "Requirement already satisfied: zipp>=3.20 in /usr/local/lib/python3.10/dist-packages (from importlib-metadata>=1.4->pyppeteer>=0.0.14->requests-html) (3.21.0)\n",
            "Requirement already satisfied: typing-extensions in /usr/local/lib/python3.10/dist-packages (from pyee<12.0.0,>=11.0.0->pyppeteer>=0.0.14->requests-html) (4.12.2)\n",
            "Requirement already satisfied: soupsieve>1.2 in /usr/local/lib/python3.10/dist-packages (from beautifulsoup4->bs4->requests-html) (2.6)\n"
          ]
        }
      ],
      "source": [
        "!pip install requests-html lxml_html_clean"
      ]
    },
    {
      "cell_type": "markdown",
      "source": [
        "### レンダリング結果の取得と表示"
      ],
      "metadata": {
        "id": "qroK_N530z5X"
      }
    },
    {
      "cell_type": "code",
      "source": [
        "from requests_html import AsyncHTMLSession\n",
        "from IPython.core.display import display, HTML\n",
        "\n",
        "session = AsyncHTMLSession()\n",
        "url = \"https://hirotakeyamazoe.jp/lecture/advexp/f1/\"\n",
        "\n",
        "# ページを取得してレンダリング\n",
        "# response = await session.get(url)\n",
        "# await response.html.arender(timeout=30)\n",
        "response = await session.get(url)\n",
        "await response.html.arender(timeout=30)\n",
        "\n",
        "# レンダリングされたHTMLを可視化\n",
        "display(HTML(response.html.html))"
      ],
      "metadata": {
        "colab": {
          "resources": {
            "http://localhost:8080/script.js": {
              "data": "",
              "ok": false,
              "headers": [
                [
                  "content-length",
                  "0"
                ]
              ],
              "status": 404,
              "status_text": ""
            }
          },
          "base_uri": "https://localhost:8080/",
          "height": 1000
        },
        "id": "b-qATUSF_zyL",
        "outputId": "6607ed6a-cbce-4324-bfb7-246852ca02e8"
      },
      "execution_count": 2,
      "outputs": [
        {
          "output_type": "display_data",
          "data": {
            "text/plain": [
              "<IPython.core.display.HTML object>"
            ],
            "text/html": [
              "<!DOCTYPE html><html lang=\"ja\"><head>\n",
              "    <meta charset=\"UTF-8\">\n",
              "    <meta name=\"viewport\" content=\"width=device-width, initial-scale=1.0\">\n",
              "    <title>Driver Standings</title>\n",
              "    <link rel=\"stylesheet\" href=\"https://hirotakeyamazoe.jp/lecture/advexp/f1/styles.css\">\n",
              "</head>\n",
              "<body>\n",
              "    <div class=\"container\">\n",
              "        <h1>2024 Driver Standings</h1>\n",
              "        <table id=\"driver-standings\">\n",
              "            <thead>\n",
              "                <tr>\n",
              "                    <th>Position</th>\n",
              "                    <th>Name</th>\n",
              "                    <th>Code</th>\n",
              "                    <th>Nationality</th>\n",
              "                    <th>Car</th>\n",
              "                    <th>Points</th>\n",
              "                </tr>\n",
              "            </thead>\n",
              "            <tbody><tr><td>1</td><td>Max&nbsp;Verstappen</td><td>VER</td><td>NED</td><td>Red Bull Racing Honda RBPT</td><td>393</td></tr><tr><td>2</td><td>Lando&nbsp;Norris</td><td>NOR</td><td>GBR</td><td>McLaren Mercedes</td><td>331</td></tr><tr><td>3</td><td>Charles&nbsp;Leclerc</td><td>LEC</td><td>MON</td><td>Ferrari</td><td>307</td></tr><tr><td>4</td><td>Oscar&nbsp;Piastri</td><td>PIA</td><td>AUS</td><td>McLaren Mercedes</td><td>262</td></tr><tr><td>5</td><td>Carlos&nbsp;Sainz</td><td>SAI</td><td>ESP</td><td>Ferrari</td><td>244</td></tr><tr><td>6</td><td>George&nbsp;Russell</td><td>RUS</td><td>GBR</td><td>Mercedes</td><td>192</td></tr><tr><td>7</td><td>Lewis&nbsp;Hamilton</td><td>HAM</td><td>GBR</td><td>Mercedes</td><td>190</td></tr><tr><td>8</td><td>Sergio&nbsp;Perez</td><td>PER</td><td>MEX</td><td>Red Bull Racing Honda RBPT</td><td>151</td></tr><tr><td>9</td><td>Fernando&nbsp;Alonso</td><td>ALO</td><td>ESP</td><td>Aston Martin Aramco Mercedes</td><td>62</td></tr><tr><td>10</td><td>Nico&nbsp;Hulkenberg</td><td>HUL</td><td>GER</td><td>Haas Ferrari</td><td>31</td></tr><tr><td>11</td><td>Yuki&nbsp;Tsunoda</td><td>TSU</td><td>JPN</td><td>RB Honda RBPT</td><td>28</td></tr><tr><td>12</td><td>Pierre&nbsp;Gasly</td><td>GAS</td><td>FRA</td><td>Alpine Renault</td><td>26</td></tr><tr><td>13</td><td>Lance&nbsp;Stroll</td><td>STR</td><td>CAN</td><td>Aston Martin Aramco Mercedes</td><td>24</td></tr><tr><td>14</td><td>Esteban&nbsp;Ocon</td><td>OCO</td><td>FRA</td><td>Alpine Renault</td><td>23</td></tr><tr><td>15</td><td>Kevin&nbsp;Magnussen</td><td>MAG</td><td>DEN</td><td>Haas Ferrari</td><td>14</td></tr><tr><td>16</td><td>Alexander&nbsp;Albon</td><td>ALB</td><td>THA</td><td>Williams Mercedes</td><td>12</td></tr><tr><td>17</td><td>Daniel&nbsp;Ricciardo</td><td>RIC</td><td>AUS</td><td>RB Honda RBPT</td><td>12</td></tr><tr><td>18</td><td>Oliver&nbsp;Bearman</td><td>BEA</td><td>GBR</td><td>Haas Ferrari</td><td>7</td></tr><tr><td>19</td><td>Franco&nbsp;Colapinto</td><td>COL</td><td>ARG</td><td>Williams Mercedes</td><td>5</td></tr><tr><td>20</td><td>Liam&nbsp;Lawson</td><td>LAW</td><td>NZL</td><td>RB Honda RBPT</td><td>4</td></tr><tr><td>21</td><td>Zhou&nbsp;Guanyu</td><td>ZHO</td><td>CHN</td><td>Kick Sauber Ferrari</td><td>0</td></tr><tr><td>22</td><td>Logan&nbsp;Sargeant</td><td>SAR</td><td>USA</td><td>Williams Mercedes</td><td>0</td></tr><tr><td>23</td><td>Valtteri&nbsp;Bottas</td><td>BOT</td><td>FIN</td><td>Kick Sauber Ferrari</td><td>0</td></tr></tbody>\n",
              "        </table>\n",
              "    </div>\n",
              "    <script src=\"script.js\"></script>\n",
              "\n",
              "\n",
              "</body></html>"
            ]
          },
          "metadata": {}
        }
      ]
    },
    {
      "cell_type": "markdown",
      "source": [
        "### レンダリング結果の表示とファイル保存\n",
        "\n",
        "保存したファイルを用いると，ブラウザの\"デベロッパーツール\"などを用いて，抽出したい場所を探索することができるため，これ以降は，「PythonによるWebスクレイピング」と同様の手順となる．"
      ],
      "metadata": {
        "id": "Ms3QAQ4w4eoX"
      }
    },
    {
      "cell_type": "code",
      "source": [
        "print(response.html.html)\n",
        "\n",
        "# レンダリング結果をHTMLファイルとして保存\n",
        "with open(\"rendered_page.html\", \"w\", encoding=\"utf-8\") as f:\n",
        "    f.write(response.html.html)"
      ],
      "metadata": {
        "colab": {
          "base_uri": "https://localhost:8080/"
        },
        "id": "320BS5nvBTWK",
        "outputId": "c2538790-bf92-4451-da86-4b9499e5e4bf"
      },
      "execution_count": 3,
      "outputs": [
        {
          "output_type": "stream",
          "name": "stdout",
          "text": [
            "<!DOCTYPE html><html lang=\"ja\"><head>\n",
            "    <meta charset=\"UTF-8\">\n",
            "    <meta name=\"viewport\" content=\"width=device-width, initial-scale=1.0\">\n",
            "    <title>Driver Standings</title>\n",
            "    <link rel=\"stylesheet\" href=\"https://hirotakeyamazoe.jp/lecture/advexp/f1/styles.css\">\n",
            "</head>\n",
            "<body>\n",
            "    <div class=\"container\">\n",
            "        <h1>2024 Driver Standings</h1>\n",
            "        <table id=\"driver-standings\">\n",
            "            <thead>\n",
            "                <tr>\n",
            "                    <th>Position</th>\n",
            "                    <th>Name</th>\n",
            "                    <th>Code</th>\n",
            "                    <th>Nationality</th>\n",
            "                    <th>Car</th>\n",
            "                    <th>Points</th>\n",
            "                </tr>\n",
            "            </thead>\n",
            "            <tbody><tr><td>1</td><td>Max&nbsp;Verstappen</td><td>VER</td><td>NED</td><td>Red Bull Racing Honda RBPT</td><td>393</td></tr><tr><td>2</td><td>Lando&nbsp;Norris</td><td>NOR</td><td>GBR</td><td>McLaren Mercedes</td><td>331</td></tr><tr><td>3</td><td>Charles&nbsp;Leclerc</td><td>LEC</td><td>MON</td><td>Ferrari</td><td>307</td></tr><tr><td>4</td><td>Oscar&nbsp;Piastri</td><td>PIA</td><td>AUS</td><td>McLaren Mercedes</td><td>262</td></tr><tr><td>5</td><td>Carlos&nbsp;Sainz</td><td>SAI</td><td>ESP</td><td>Ferrari</td><td>244</td></tr><tr><td>6</td><td>George&nbsp;Russell</td><td>RUS</td><td>GBR</td><td>Mercedes</td><td>192</td></tr><tr><td>7</td><td>Lewis&nbsp;Hamilton</td><td>HAM</td><td>GBR</td><td>Mercedes</td><td>190</td></tr><tr><td>8</td><td>Sergio&nbsp;Perez</td><td>PER</td><td>MEX</td><td>Red Bull Racing Honda RBPT</td><td>151</td></tr><tr><td>9</td><td>Fernando&nbsp;Alonso</td><td>ALO</td><td>ESP</td><td>Aston Martin Aramco Mercedes</td><td>62</td></tr><tr><td>10</td><td>Nico&nbsp;Hulkenberg</td><td>HUL</td><td>GER</td><td>Haas Ferrari</td><td>31</td></tr><tr><td>11</td><td>Yuki&nbsp;Tsunoda</td><td>TSU</td><td>JPN</td><td>RB Honda RBPT</td><td>28</td></tr><tr><td>12</td><td>Pierre&nbsp;Gasly</td><td>GAS</td><td>FRA</td><td>Alpine Renault</td><td>26</td></tr><tr><td>13</td><td>Lance&nbsp;Stroll</td><td>STR</td><td>CAN</td><td>Aston Martin Aramco Mercedes</td><td>24</td></tr><tr><td>14</td><td>Esteban&nbsp;Ocon</td><td>OCO</td><td>FRA</td><td>Alpine Renault</td><td>23</td></tr><tr><td>15</td><td>Kevin&nbsp;Magnussen</td><td>MAG</td><td>DEN</td><td>Haas Ferrari</td><td>14</td></tr><tr><td>16</td><td>Alexander&nbsp;Albon</td><td>ALB</td><td>THA</td><td>Williams Mercedes</td><td>12</td></tr><tr><td>17</td><td>Daniel&nbsp;Ricciardo</td><td>RIC</td><td>AUS</td><td>RB Honda RBPT</td><td>12</td></tr><tr><td>18</td><td>Oliver&nbsp;Bearman</td><td>BEA</td><td>GBR</td><td>Haas Ferrari</td><td>7</td></tr><tr><td>19</td><td>Franco&nbsp;Colapinto</td><td>COL</td><td>ARG</td><td>Williams Mercedes</td><td>5</td></tr><tr><td>20</td><td>Liam&nbsp;Lawson</td><td>LAW</td><td>NZL</td><td>RB Honda RBPT</td><td>4</td></tr><tr><td>21</td><td>Zhou&nbsp;Guanyu</td><td>ZHO</td><td>CHN</td><td>Kick Sauber Ferrari</td><td>0</td></tr><tr><td>22</td><td>Logan&nbsp;Sargeant</td><td>SAR</td><td>USA</td><td>Williams Mercedes</td><td>0</td></tr><tr><td>23</td><td>Valtteri&nbsp;Bottas</td><td>BOT</td><td>FIN</td><td>Kick Sauber Ferrari</td><td>0</td></tr></tbody>\n",
            "        </table>\n",
            "    </div>\n",
            "    <script src=\"script.js\"></script>\n",
            "\n",
            "\n",
            "</body></html>\n"
          ]
        }
      ]
    },
    {
      "cell_type": "markdown",
      "source": [
        "### Beautiful soupによる解析（表のデータの抽出と表示）\n",
        "ここでは，tableの情報を取得し，各行，列のデータを抽出して，DataFrameとして保存している．"
      ],
      "metadata": {
        "id": "IIPHwM_y0KbE"
      }
    },
    {
      "cell_type": "code",
      "source": [
        "from bs4 import BeautifulSoup\n",
        "import pandas as pd\n",
        "pd.set_option('display.width', 100)       # 出力横幅を100に設定\n",
        "\n",
        "\n",
        "# レンダリング結果をBeautifulSoupで解析\n",
        "soup = BeautifulSoup(response.html.html, 'html.parser')\n",
        "\n",
        "standings_table = soup.find(id ='driver-standings')  # Adjust the class if necessary\n",
        "\n",
        "# tableのヘッダ部の抽出\n",
        "headers = [th.text.strip() for th in standings_table.find_all('th')]\n",
        "\n",
        "# 行ごとのデータを配列として取得し，ヘッダ行をスキップ\n",
        "rows = standings_table.find_all('tr')[1:]\n",
        "data = [] # 保存用リストを初期化\n",
        "for row in rows: # 各行に関する処理\n",
        "    cols = [td.text.strip() for td in row.find_all('td')] # 各列の抽出\n",
        "    data.append(cols) # 保存用リストに追加\n",
        "\n",
        "# リストからDataFrameへの変換\n",
        "df = pd.DataFrame(data, columns=headers)\n",
        "\n",
        "# DataFrameの表示\n",
        "print(df)"
      ],
      "metadata": {
        "colab": {
          "base_uri": "https://localhost:8080/"
        },
        "id": "xXq_XWFHEKJS",
        "outputId": "bf98e568-189c-497b-9cef-0afda3649003"
      },
      "execution_count": 4,
      "outputs": [
        {
          "output_type": "stream",
          "name": "stdout",
          "text": [
            "   Position              Name Code Nationality                           Car Points\n",
            "0         1    Max Verstappen  VER         NED    Red Bull Racing Honda RBPT    393\n",
            "1         2      Lando Norris  NOR         GBR              McLaren Mercedes    331\n",
            "2         3   Charles Leclerc  LEC         MON                       Ferrari    307\n",
            "3         4     Oscar Piastri  PIA         AUS              McLaren Mercedes    262\n",
            "4         5      Carlos Sainz  SAI         ESP                       Ferrari    244\n",
            "5         6    George Russell  RUS         GBR                      Mercedes    192\n",
            "6         7    Lewis Hamilton  HAM         GBR                      Mercedes    190\n",
            "7         8      Sergio Perez  PER         MEX    Red Bull Racing Honda RBPT    151\n",
            "8         9   Fernando Alonso  ALO         ESP  Aston Martin Aramco Mercedes     62\n",
            "9        10   Nico Hulkenberg  HUL         GER                  Haas Ferrari     31\n",
            "10       11      Yuki Tsunoda  TSU         JPN                 RB Honda RBPT     28\n",
            "11       12      Pierre Gasly  GAS         FRA                Alpine Renault     26\n",
            "12       13      Lance Stroll  STR         CAN  Aston Martin Aramco Mercedes     24\n",
            "13       14      Esteban Ocon  OCO         FRA                Alpine Renault     23\n",
            "14       15   Kevin Magnussen  MAG         DEN                  Haas Ferrari     14\n",
            "15       16   Alexander Albon  ALB         THA             Williams Mercedes     12\n",
            "16       17  Daniel Ricciardo  RIC         AUS                 RB Honda RBPT     12\n",
            "17       18    Oliver Bearman  BEA         GBR                  Haas Ferrari      7\n",
            "18       19  Franco Colapinto  COL         ARG             Williams Mercedes      5\n",
            "19       20       Liam Lawson  LAW         NZL                 RB Honda RBPT      4\n",
            "20       21       Zhou Guanyu  ZHO         CHN           Kick Sauber Ferrari      0\n",
            "21       22    Logan Sargeant  SAR         USA             Williams Mercedes      0\n",
            "22       23   Valtteri Bottas  BOT         FIN           Kick Sauber Ferrari      0\n"
          ]
        }
      ]
    },
    {
      "cell_type": "code",
      "source": [],
      "metadata": {
        "id": "IoXVd52yFfSD"
      },
      "execution_count": 4,
      "outputs": []
    }
  ]
}