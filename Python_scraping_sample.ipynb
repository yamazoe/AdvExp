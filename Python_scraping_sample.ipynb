{
  "nbformat": 4,
  "nbformat_minor": 0,
  "metadata": {
    "colab": {
      "provenance": [],
      "collapsed_sections": [
        "myOxg-CrqqVS"
      ],
      "toc_visible": true
    },
    "kernelspec": {
      "name": "python3",
      "display_name": "Python 3"
    },
    "language_info": {
      "name": "python"
    }
  },
  "cells": [
    {
      "cell_type": "markdown",
      "source": [
        "# 実際のWebページに対するスクレイピングのサンプル\n",
        "\n",
        "以下は，いずれも動的Webページに対するサンプルですが，抽出部の指定については静的・動的に関わらず参考になるかもしれません．"
      ],
      "metadata": {
        "id": "Qnh5U2qCPJdi"
      }
    },
    {
      "cell_type": "markdown",
      "source": [
        "## 準備"
      ],
      "metadata": {
        "id": "3XnMmQqvkOUG"
      }
    },
    {
      "cell_type": "markdown",
      "source": [
        "### ライブラリのインストール"
      ],
      "metadata": {
        "id": "myOxg-CrqqVS"
      }
    },
    {
      "cell_type": "code",
      "source": [
        "!pip install requests-html lxml_html_clean"
      ],
      "metadata": {
        "colab": {
          "base_uri": "https://localhost:8080/"
        },
        "id": "inQStSRgkR59",
        "outputId": "f1fb014f-bace-4bf3-dd90-9c9dd7283201"
      },
      "execution_count": 1,
      "outputs": [
        {
          "output_type": "stream",
          "name": "stdout",
          "text": [
            "Requirement already satisfied: requests-html in /usr/local/lib/python3.10/dist-packages (0.10.0)\n",
            "Requirement already satisfied: lxml_html_clean in /usr/local/lib/python3.10/dist-packages (0.4.1)\n",
            "Requirement already satisfied: requests in /usr/local/lib/python3.10/dist-packages (from requests-html) (2.32.3)\n",
            "Requirement already satisfied: pyquery in /usr/local/lib/python3.10/dist-packages (from requests-html) (2.0.1)\n",
            "Requirement already satisfied: fake-useragent in /usr/local/lib/python3.10/dist-packages (from requests-html) (1.5.1)\n",
            "Requirement already satisfied: parse in /usr/local/lib/python3.10/dist-packages (from requests-html) (1.20.2)\n",
            "Requirement already satisfied: bs4 in /usr/local/lib/python3.10/dist-packages (from requests-html) (0.0.2)\n",
            "Requirement already satisfied: w3lib in /usr/local/lib/python3.10/dist-packages (from requests-html) (2.2.1)\n",
            "Requirement already satisfied: pyppeteer>=0.0.14 in /usr/local/lib/python3.10/dist-packages (from requests-html) (2.0.0)\n",
            "Requirement already satisfied: lxml in /usr/local/lib/python3.10/dist-packages (from lxml_html_clean) (5.3.0)\n",
            "Requirement already satisfied: appdirs<2.0.0,>=1.4.3 in /usr/local/lib/python3.10/dist-packages (from pyppeteer>=0.0.14->requests-html) (1.4.4)\n",
            "Requirement already satisfied: certifi>=2023 in /usr/local/lib/python3.10/dist-packages (from pyppeteer>=0.0.14->requests-html) (2024.8.30)\n",
            "Requirement already satisfied: importlib-metadata>=1.4 in /usr/local/lib/python3.10/dist-packages (from pyppeteer>=0.0.14->requests-html) (8.5.0)\n",
            "Requirement already satisfied: pyee<12.0.0,>=11.0.0 in /usr/local/lib/python3.10/dist-packages (from pyppeteer>=0.0.14->requests-html) (11.1.1)\n",
            "Requirement already satisfied: tqdm<5.0.0,>=4.42.1 in /usr/local/lib/python3.10/dist-packages (from pyppeteer>=0.0.14->requests-html) (4.66.6)\n",
            "Requirement already satisfied: urllib3<2.0.0,>=1.25.8 in /usr/local/lib/python3.10/dist-packages (from pyppeteer>=0.0.14->requests-html) (1.26.20)\n",
            "Requirement already satisfied: websockets<11.0,>=10.0 in /usr/local/lib/python3.10/dist-packages (from pyppeteer>=0.0.14->requests-html) (10.4)\n",
            "Requirement already satisfied: beautifulsoup4 in /usr/local/lib/python3.10/dist-packages (from bs4->requests-html) (4.12.3)\n",
            "Requirement already satisfied: cssselect>=1.2.0 in /usr/local/lib/python3.10/dist-packages (from pyquery->requests-html) (1.2.0)\n",
            "Requirement already satisfied: charset-normalizer<4,>=2 in /usr/local/lib/python3.10/dist-packages (from requests->requests-html) (3.4.0)\n",
            "Requirement already satisfied: idna<4,>=2.5 in /usr/local/lib/python3.10/dist-packages (from requests->requests-html) (3.10)\n",
            "Requirement already satisfied: zipp>=3.20 in /usr/local/lib/python3.10/dist-packages (from importlib-metadata>=1.4->pyppeteer>=0.0.14->requests-html) (3.21.0)\n",
            "Requirement already satisfied: typing-extensions in /usr/local/lib/python3.10/dist-packages (from pyee<12.0.0,>=11.0.0->pyppeteer>=0.0.14->requests-html) (4.12.2)\n",
            "Requirement already satisfied: soupsieve>1.2 in /usr/local/lib/python3.10/dist-packages (from beautifulsoup4->bs4->requests-html) (2.6)\n"
          ]
        }
      ]
    },
    {
      "cell_type": "markdown",
      "source": [
        "### htmlデータ取得用の関数定義"
      ],
      "metadata": {
        "id": "D4fPwEyFqjYX"
      }
    },
    {
      "cell_type": "code",
      "source": [
        "from requests_html import AsyncHTMLSession\n",
        "from bs4 import BeautifulSoup\n",
        "\n",
        "async def fetch_html(url):\n",
        "    # AsyncHTMLSessionを作成\n",
        "    session = AsyncHTMLSession()\n",
        "\n",
        "    # ページを取得してレンダリング\n",
        "    response = await session.get(url)\n",
        "    await response.html.arender(timeout=30)\n",
        "\n",
        "    return response"
      ],
      "metadata": {
        "id": "oqobNJ5yqeMA"
      },
      "execution_count": 2,
      "outputs": []
    },
    {
      "cell_type": "markdown",
      "source": [
        "## Yahoo リアルタイム検索のトレンドの抽出"
      ],
      "metadata": {
        "id": "Kqogc5KCj6zw"
      }
    },
    {
      "cell_type": "code",
      "execution_count": 3,
      "metadata": {
        "colab": {
          "base_uri": "https://localhost:8080/"
        },
        "id": "mIT-DfLpPGTV",
        "outputId": "73ec8ce4-6090-40b1-be53-12cd6e93cc49"
      },
      "outputs": [
        {
          "output_type": "stream",
          "name": "stdout",
          "text": [
            "Yahoo!リアルタイム検索のトレンド項目:\n",
            " 1. 田中将大\n",
            " 2. 当選確実\n",
            " 3. ジョッキーカメラ\n",
            " 4. 球団発表\n",
            " 5. 敗戦の弁\n",
            " 6. 道長くん\n",
            " 7. 減額制限\n",
            " 8. 敦康親王\n",
            " 9. 内閣総理大臣杯\n",
            "10. 優勝先生\n",
            "11. 広沢さん\n",
            "12. サモエド\n",
            "13. 行かないでくれ!\n",
            "14. 優吾のあしあと\n",
            "15. ミリしらパワプロ杯\n",
            "16. 倫子さま\n",
            "17. Dazzling Game\n",
            "18. マーくん\n",
            "19. 石破内閣支持率\n",
            "20. 塩うに\n"
          ]
        }
      ],
      "source": [
        "response = await fetch_html(\"https://search.yahoo.co.jp/realtime\")\n",
        "\n",
        "# レンダリング結果をBeautifulSoupで解析\n",
        "soup = BeautifulSoup(response.html.html, 'html.parser')\n",
        "\n",
        "# トレンド項目の抽出\n",
        "trend_items = soup.select('.Trend_container__OK5FG h1')\n",
        "\n",
        "# 抽出結果を表示\n",
        "print(\"Yahoo!リアルタイム検索のトレンド項目:\")\n",
        "for i, item in enumerate(trend_items, start=1):\n",
        "    print(\"{:2}. {}\".format(i, item.text.strip()))\n",
        "\n"
      ]
    },
    {
      "cell_type": "markdown",
      "source": [
        "## F1の2024 Driver Standingsの抽出"
      ],
      "metadata": {
        "id": "S9LheyLO2Uay"
      }
    },
    {
      "cell_type": "code",
      "execution_count": 4,
      "metadata": {
        "colab": {
          "base_uri": "https://localhost:8080/"
        },
        "outputId": "6d4af144-7744-421f-8750-5029fdd2eff7",
        "id": "KCSrbmke2Uaz"
      },
      "outputs": [
        {
          "output_type": "stream",
          "name": "stdout",
          "text": [
            "   Pos               Driver Nationality                           Car  Pts\n",
            "0    1    Max VerstappenVER         NED    Red Bull Racing Honda RBPT  403\n",
            "1    2      Lando NorrisNOR         GBR              McLaren Mercedes  340\n",
            "2    3   Charles LeclercLEC         MON                       Ferrari  319\n",
            "3    4     Oscar PiastriPIA         AUS              McLaren Mercedes  268\n",
            "4    5      Carlos SainzSAI         ESP                       Ferrari  259\n",
            "5    6    George RussellRUS         GBR                      Mercedes  217\n",
            "6    7    Lewis HamiltonHAM         GBR                      Mercedes  208\n",
            "7    8      Sergio PerezPER         MEX    Red Bull Racing Honda RBPT  152\n",
            "8    9   Fernando AlonsoALO         ESP  Aston Martin Aramco Mercedes   62\n",
            "9   10   Nico HulkenbergHUL         GER                  Haas Ferrari   35\n",
            "10  11      Yuki TsunodaTSU         JPN                 RB Honda RBPT   30\n",
            "11  12      Pierre GaslyGAS         FRA                Alpine Renault   26\n",
            "12  13      Lance StrollSTR         CAN  Aston Martin Aramco Mercedes   24\n",
            "13  14      Esteban OconOCO         FRA                Alpine Renault   23\n",
            "14  15   Kevin MagnussenMAG         DEN                  Haas Ferrari   14\n",
            "15  16   Alexander AlbonALB         THA             Williams Mercedes   12\n",
            "16  17  Daniel RicciardoRIC         AUS                 RB Honda RBPT   12\n",
            "17  18    Oliver BearmanBEA         GBR                  Haas Ferrari    7\n",
            "18  19  Franco ColapintoCOL         ARG             Williams Mercedes    5\n",
            "19  20       Liam LawsonLAW         NZL                 RB Honda RBPT    4\n",
            "20  21       Zhou GuanyuZHO         CHN           Kick Sauber Ferrari    0\n",
            "21  22    Logan SargeantSAR         USA             Williams Mercedes    0\n",
            "22  23   Valtteri BottasBOT         FIN           Kick Sauber Ferrari    0\n"
          ]
        }
      ],
      "source": [
        "import pandas as pd\n",
        "\n",
        "response = await fetch_html(\"https://www.formula1.com/en/results/2024/drivers\")\n",
        "\n",
        "# レンダリング結果をBeautifulSoupで解析\n",
        "soup = BeautifulSoup(response.html.html, 'html.parser')\n",
        "\n",
        "# 表の抽出\n",
        "standings_table = soup.find('table', class_='f1-table')\n",
        "\n",
        "# 表データの分割・DataFrameとして保存・表示\n",
        "headers = [th.text.strip() for th in standings_table.find_all('th')]\n",
        "rows = standings_table.find_all('tr')[1:]\n",
        "data = []\n",
        "for row in rows:\n",
        "    cols = [td.text.strip() for td in row.find_all('td')]\n",
        "    data.append(cols)\n",
        "df = pd.DataFrame(data, columns=headers)\n",
        "print(df)"
      ]
    },
    {
      "cell_type": "code",
      "source": [],
      "metadata": {
        "id": "m-0P2Rl_5PFX"
      },
      "execution_count": 4,
      "outputs": []
    }
  ]
}