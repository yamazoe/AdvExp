{
  "nbformat": 4,
  "nbformat_minor": 0,
  "metadata": {
    "colab": {
      "name": "Python_scraping2.pynb",
      "provenance": [],
      "collapsed_sections": [],
      "toc_visible": true
    },
    "kernelspec": {
      "name": "python3",
      "display_name": "Python 3"
    },
    "language_info": {
      "name": "python"
    }
  },
  "cells": [
    {
      "cell_type": "markdown",
      "source": [
        "# PythonによるWebスクレイピング2　クローリング\n",
        "\n",
        "（レポート課題としては，クローリングまでを行う必要はありません．ただし，スクレイピング（クローリング）を行う前に**クローリングの許可／禁止の確認**は重要であること，クローリングを行わないとスクレイピングを行う意味が少ないことから，説明しておきます．）\n",
        "\n",
        "Googleなどの検索エンジンでは，リンクをたどりながら様々なウェブの情報を収集している．こういった作業をクローリングと呼ぶ．\n",
        "\n",
        "ここでは，サンプルページ\n",
        "\n",
        "https://hirotakeyamazoe.jp/lecture/advexp/\n",
        "\n",
        "に対して，クローリングを行い，スクレイピングを行う例を示す．"
      ],
      "metadata": {
        "id": "siXWChwc9c6A"
      }
    },
    {
      "cell_type": "markdown",
      "source": [
        "## クローリング前のクローリング許可／禁止設定の確認\n",
        "\n",
        "**クローリングを行う際の注意：**\n",
        "\n",
        "* ページによってクローリングを禁止している場合があるため，クローリングが許可されているかを確認する必要がある．\n",
        "\n",
        "* 許可されていた場合でも，サーバへの負荷軽減のため，アクセスごとに**最低でも１秒以上程度の待ち時間**を設定する必要がある（ページごとに秒数が指定されている場合もある）．\n",
        "\n",
        "クローリングを行う前に，クローリングが禁止されていないかを確認する必要がある．クローリングの許可／禁止の設定方法としては，\n",
        "\n",
        "* robots.txtを用いる方法\n",
        "\n",
        "* metaタグを用いる方法\n",
        "\n",
        "など，いくつかの方法がある．\n",
        "\n",
        "ここでは，robots.txtに着目し，これを解釈する方法として```reppy```ライブラリを紹介する．"
      ],
      "metadata": {
        "id": "Xrv5pMiKXH1T"
      }
    },
    {
      "cell_type": "markdown",
      "source": [
        "### ```reppy```のインストール"
      ],
      "metadata": {
        "id": "GWqrhJv9gBkB"
      }
    },
    {
      "cell_type": "code",
      "source": [
        " !pip install reppy"
      ],
      "metadata": {
        "colab": {
          "base_uri": "https://localhost:8080/"
        },
        "id": "4d7YL7pLYakv",
        "outputId": "d8e42440-3be0-4baa-a08a-30e45d8eae00"
      },
      "execution_count": 1,
      "outputs": [
        {
          "output_type": "stream",
          "name": "stdout",
          "text": [
            "Looking in indexes: https://pypi.org/simple, https://us-python.pkg.dev/colab-wheels/public/simple/\n",
            "Collecting reppy\n",
            "  Downloading reppy-0.4.14.tar.gz (93 kB)\n",
            "\u001b[K     |████████████████████████████████| 93 kB 1.5 MB/s \n",
            "\u001b[?25hRequirement already satisfied: cachetools in /usr/local/lib/python3.7/dist-packages (from reppy) (4.2.4)\n",
            "Requirement already satisfied: python-dateutil!=2.0,>=1.5 in /usr/local/lib/python3.7/dist-packages (from reppy) (2.8.2)\n",
            "Requirement already satisfied: requests in /usr/local/lib/python3.7/dist-packages (from reppy) (2.23.0)\n",
            "Requirement already satisfied: six in /usr/local/lib/python3.7/dist-packages (from reppy) (1.15.0)\n",
            "Requirement already satisfied: idna<3,>=2.5 in /usr/local/lib/python3.7/dist-packages (from requests->reppy) (2.10)\n",
            "Requirement already satisfied: certifi>=2017.4.17 in /usr/local/lib/python3.7/dist-packages (from requests->reppy) (2022.6.15)\n",
            "Requirement already satisfied: chardet<4,>=3.0.2 in /usr/local/lib/python3.7/dist-packages (from requests->reppy) (3.0.4)\n",
            "Requirement already satisfied: urllib3!=1.25.0,!=1.25.1,<1.26,>=1.21.1 in /usr/local/lib/python3.7/dist-packages (from requests->reppy) (1.24.3)\n",
            "Building wheels for collected packages: reppy\n",
            "  Building wheel for reppy (setup.py) ... \u001b[?25l\u001b[?25hdone\n",
            "  Created wheel for reppy: filename=reppy-0.4.14-cp37-cp37m-linux_x86_64.whl size=794768 sha256=b7bcae6297f795eb718ff9a3a3ce9b5f1ac1b465edba6f66d7bbf8a10371460b\n",
            "  Stored in directory: /root/.cache/pip/wheels/fc/ff/64/a2cedf046d5076cee64304c468b53c1b9c56ce09e7df797f8a\n",
            "Successfully built reppy\n",
            "Installing collected packages: reppy\n",
            "Successfully installed reppy-0.4.14\n"
          ]
        }
      ]
    },
    {
      "cell_type": "markdown",
      "source": [
        "### ```reppy```でrobots.txtを解釈する\n",
        "\n",
        "まず，```fetch()```関数でrobots.txtを読み込む．"
      ],
      "metadata": {
        "id": "knKyt9-vkhk9"
      }
    },
    {
      "cell_type": "code",
      "source": [
        "from reppy.robots import Robots\n",
        "\n",
        "robots = Robots.fetch(\"https://hirotakeyamazoe.jp/robots.txt\");"
      ],
      "metadata": {
        "id": "IKs48w6QYIr4"
      },
      "execution_count": 2,
      "outputs": []
    },
    {
      "cell_type": "markdown",
      "source": [
        "次に，ユーザエージェントを設定する．\n",
        "ユーザエージェントとは，Webページへのアクセスに用いているソフト（ブラウザ）のことで，ブラウザ名・OS名によって表示される情報が変化する場合がある（例えば，パソコンかスマートフォンかによって表示が変化するなど）．\n",
        "\n",
        "ここでは，ワイルドカード（すべてのユーザエージェント）と設定する．\n",
        "\n",
        "\n"
      ],
      "metadata": {
        "id": "3mErYhXwtM2_"
      }
    },
    {
      "cell_type": "code",
      "source": [
        "agent = robots.agent(\"*\")"
      ],
      "metadata": {
        "id": "MQa3gZBAaE1g"
      },
      "execution_count": 3,
      "outputs": []
    },
    {
      "cell_type": "markdown",
      "source": [
        "最後に，```allowed()```関数を使って，指定されたURLに対するアクセスが許可されているかをチェックする．\n",
        "\n",
        "サンプルページ```\"https://hirotakeyamazoe.jp/lecture/advexp/```は，Googleなどにクローリングされないために拒否と設定しており，```False```が返される\n",
        "（実際には，クローリングして構わない）．"
      ],
      "metadata": {
        "id": "oOS8MBV32vP5"
      }
    },
    {
      "cell_type": "code",
      "source": [
        "agent.allowed(\"https://hirotakeyamazoe.jp/lecture/advexp/\")"
      ],
      "metadata": {
        "id": "GZr3b9g_NLS3",
        "colab": {
          "base_uri": "https://localhost:8080/"
        },
        "outputId": "44fbd7a6-e5f0-4c42-dbbf-1a83c5a60ab7"
      },
      "execution_count": 4,
      "outputs": [
        {
          "output_type": "execute_result",
          "data": {
            "text/plain": [
              "False"
            ]
          },
          "metadata": {},
          "execution_count": 4
        }
      ]
    },
    {
      "cell_type": "markdown",
      "source": [
        "```https://hirotakeyamazoe.jp/lecture/```は，クローリングを許可しているため，```True```が返される．"
      ],
      "metadata": {
        "id": "UrjoItZi9VH2"
      }
    },
    {
      "cell_type": "code",
      "source": [
        "agent.allowed(\"https://hirotakeyamazoe.jp/lecture/\")"
      ],
      "metadata": {
        "id": "_kUXYcWXmLfg",
        "colab": {
          "base_uri": "https://localhost:8080/"
        },
        "outputId": "33268049-8bcf-4b36-95e9-b5a2a2c7cc74"
      },
      "execution_count": 5,
      "outputs": [
        {
          "output_type": "execute_result",
          "data": {
            "text/plain": [
              "True"
            ]
          },
          "metadata": {},
          "execution_count": 5
        }
      ]
    },
    {
      "cell_type": "markdown",
      "source": [
        "## リンク先のページをたどって情報収集（クローリング）"
      ],
      "metadata": {
        "id": "9q8WdzNgdGTz"
      }
    },
    {
      "cell_type": "markdown",
      "source": [
        "### htmlの取得からBeautiful Soupへの入力まで（復習）"
      ],
      "metadata": {
        "id": "Dx_ER5HAKm_N"
      }
    },
    {
      "cell_type": "code",
      "execution_count": 6,
      "metadata": {
        "colab": {
          "base_uri": "https://localhost:8080/"
        },
        "id": "uu2VRqBq8faD",
        "outputId": "828fe6ab-01da-4b9d-f67f-298d35e6ec5d"
      },
      "outputs": [
        {
          "output_type": "stream",
          "name": "stdout",
          "text": [
            "電子情報工学特別実験用サンプルページ\n"
          ]
        }
      ],
      "source": [
        "# Requests, BeautifulSoupの読み込み\n",
        "import requests\n",
        "from bs4 import BeautifulSoup\n",
        "\n",
        "# 読み込むURLの指定\n",
        "url = 'https://hirotakeyamazoe.jp/lecture/advexp/'\n",
        "\n",
        "# 指定のURLへアクセス\n",
        "result = requests.get(url)\n",
        "\n",
        "# 取得結果から文字コードを推定して設定\n",
        "# この処理を入れないと、結果の出力で文字化けする）\n",
        "result.encoding = result.apparent_encoding\n",
        "\n",
        "# Beautiful Soupを用いて解析\n",
        "soup = BeautifulSoup(result.text, 'html5lib')\n",
        "\n",
        "# h1要素の取得と結果の表示（例）\n",
        "h1 = soup.find('h1')\n",
        "print(h1.text)"
      ]
    },
    {
      "cell_type": "markdown",
      "source": [
        "### リンク先URLリストの取得\n",
        "リンクは```<a href=..> </a>```と表現されるため，```a```タグを取得すればよい．\n",
        "\n",
        "```a```タグには，リンクテキストとリンク先情報が含まれる．\n",
        "\n",
        "*   リンクテキスト：h1などと同じように，```a.text```で取得\n",
        "*   リンク先URL：```a['href']```で取得"
      ],
      "metadata": {
        "id": "mG16b0tjZs-R"
      }
    },
    {
      "cell_type": "code",
      "source": [
        "# aタグの取得\n",
        "a_list = soup.find_all('a')\n",
        "\n",
        "# リンクテキスト，リンク先URLの表示\n",
        "for a in a_list:\n",
        "  print(a.text, a['href'])  "
      ],
      "metadata": {
        "colab": {
          "base_uri": "https://localhost:8080/"
        },
        "id": "UWn6EzfDHoC9",
        "outputId": "b1b333b6-bb3c-4d95-ce80-f478e0361b8f"
      },
      "execution_count": 7,
      "outputs": [
        {
          "output_type": "stream",
          "name": "stdout",
          "text": [
            "電気工学コース ./denki.html\n",
            "電子情報工学コース ./denshi.html\n",
            "機械工学コース ./kikai.html\n",
            "材料工学コース ./zairyo.html\n",
            "応用化学コース ./ouyou.html\n",
            "化学工学コース ./kagaku.html\n"
          ]
        }
      ]
    },
    {
      "cell_type": "markdown",
      "source": [
        "### 絶対アドレスへの変換\n",
        "\n",
        "ただし，HTMLファイル内で指定されるURLは，現在のページを基準とした相対アドレスであるため，絶対アドレスに変換する必要がある．\n",
        "\n",
        "上の例では，「電気工学コース」のURLは，```./denshi.html```と表示されているが，\n",
        "実際のURLは```https://hirotakeyamazoe.jp/lecture/advexp/denki.html```である．\n",
        "\n",
        "```urllib```ライブラリの関数```urllib.parse.urljoin(url, a['href'])```を利用することで，絶対アドレスに変換できる．"
      ],
      "metadata": {
        "id": "lawqqFQUvSG-"
      }
    },
    {
      "cell_type": "code",
      "source": [
        "# urllibの読み込み\n",
        "import urllib\n",
        "\n",
        "# aタグの取得\n",
        "a_list = soup.find_all('a')\n",
        "\n",
        "for a in a_list:\n",
        "  # 絶対アドレスへの変換\n",
        "  a_url = urllib.parse.urljoin(url, a['href'])\n",
        "  \n",
        "  # リンクテキスト，リンク先URL（絶対アドレス）の表示\n",
        "  print(a.text, a_url)\n",
        "  "
      ],
      "metadata": {
        "colab": {
          "base_uri": "https://localhost:8080/"
        },
        "id": "US49lPqJNLN0",
        "outputId": "0a2d2539-c1dd-4ae4-d6cf-c70ffc09f658"
      },
      "execution_count": 8,
      "outputs": [
        {
          "output_type": "stream",
          "name": "stdout",
          "text": [
            "電気工学コース https://hirotakeyamazoe.jp/lecture/advexp/denki.html\n",
            "電子情報工学コース https://hirotakeyamazoe.jp/lecture/advexp/denshi.html\n",
            "機械工学コース https://hirotakeyamazoe.jp/lecture/advexp/kikai.html\n",
            "材料工学コース https://hirotakeyamazoe.jp/lecture/advexp/zairyo.html\n",
            "応用化学コース https://hirotakeyamazoe.jp/lecture/advexp/ouyou.html\n",
            "化学工学コース https://hirotakeyamazoe.jp/lecture/advexp/kagaku.html\n"
          ]
        }
      ]
    },
    {
      "cell_type": "markdown",
      "source": [
        "### リンク先URLのページから情報の取得\n",
        "\n",
        "絶対アドレスの取得後は，htmlの取得とBeautiful Soupによる解析を繰り返して行っていけばよい．\n",
        "\n",
        "例えば，リンク先の全てのコースのページの説明文を取得する場合には，以下のようなコードとなる．"
      ],
      "metadata": {
        "id": "4YnPDzMff7t-"
      }
    },
    {
      "cell_type": "code",
      "source": [
        "# Requests, BeautifulSoupの読み込み\n",
        "import requests\n",
        "from bs4 import BeautifulSoup\n",
        "\n",
        "# urllibの読み込み\n",
        "import urllib\n",
        "\n",
        "# time（時間待ち用），csv（CSV保存用）の読み込み\n",
        "import time\n",
        "import csv\n",
        "\n",
        "# 最初に読み込むURLの指定\n",
        "url = 'https://hirotakeyamazoe.jp/lecture/advexp/'\n",
        "\n",
        "# 指定のURLへアクセス\n",
        "result = requests.get(url)\n",
        "\n",
        "# 取得結果から文字コードを推定して設定\n",
        "# この処理を入れないと、結果の出力で文字化けする）\n",
        "result.encoding = result.apparent_encoding\n",
        "\n",
        "# Beautiful Soupを用いて解析\n",
        "soup = BeautifulSoup(result.text, 'html5lib')\n",
        "\n",
        "# 元ページからリンク先リストを取得\n",
        "a_list = soup.find_all('a')\n",
        "\n",
        "c_res_list = []\n",
        "for a in a_list:\n",
        "  # 絶対アドレスへの変換\n",
        "  a_url = urllib.parse.urljoin(url, a['href'])\n",
        "\n",
        "  # コースの名前（リンクテキスト）を取得\n",
        "  c_name = a.text\n",
        "  \n",
        "  # リンク先のURLへアクセス \n",
        "  c_res = requests.get(a_url)\n",
        "\n",
        "  # 取得結果から文字コードを推定して設定\n",
        "  c_res.encoding = c_res.apparent_encoding\n",
        "\n",
        "  # Beautiful Soupを用いて解析\n",
        "  c_soup = BeautifulSoup(c_res.text, 'html5lib')\n",
        "\n",
        "  # リンク先ページの説明文（p要素）の取得\n",
        "  c_desc = c_soup.p.text\n",
        "\n",
        "  print(c_name, a_url, c_desc)\n",
        "  c_res_list.append([c_name, a_url, c_desc])\n",
        "\n",
        "  # 重要：待ち時間（１秒以上必要）．複数ページに対してアクセスする際には必要\n",
        "  time.sleep(1) \n",
        "\n",
        "# CSVファイルへの書き込み\n",
        "with open('course.csv', 'wt', encoding='sjis', newline='') as fp:\n",
        "  csv.writer(fp).writerows(c_res_list)"
      ],
      "metadata": {
        "colab": {
          "base_uri": "https://localhost:8080/"
        },
        "id": "Lyw0tpP0LtbS",
        "outputId": "2820901e-52cd-44de-f43a-679c3608d462"
      },
      "execution_count": 9,
      "outputs": [
        {
          "output_type": "stream",
          "name": "stdout",
          "text": [
            "電気工学コース https://hirotakeyamazoe.jp/lecture/advexp/denki.html 電気系工学の専門基礎力をしっかりと身に付けた上で、電気エネルギーの発生から利用までの電力システムに関する知識と技術、エレクトリニクスの基礎を支える電子物性から電気・電子材料に関する知識、これらの電気電子材料を活かしたデバイスに関する技術を習得する。\n",
            "電子情報工学コース https://hirotakeyamazoe.jp/lecture/advexp/denshi.html 電子材料・デバイスから回路、高周波、通信、信号処理システムまでの幅広い領域に対して基礎知識を学ぶと同時に、最先端技術に関する専門知識や実践的技術を学びます。\n",
            "機械工学コース https://hirotakeyamazoe.jp/lecture/advexp/kikai.html 人にやさしい21世紀のヒューマン・エンジニアリングの担い手として、他の分野の専門技術と有機的に結びつきながら次世代のニーズに柔軟に応えられる機械技術者・研究者を育成することを目標にしています。\n",
            "材料工学コース https://hirotakeyamazoe.jp/lecture/advexp/zairyo.html 創造性・独創性・国際性豊かな21世紀型の材料工学関する技術者・研究者の養成を目指す。\n",
            "応用化学コース https://hirotakeyamazoe.jp/lecture/advexp/ouyou.html 応用化学コースでは、“化学=Chemistry”が関わるエネルギー、情報、医薬など、すべての分野に関連した化学を学びます。\n",
            "化学工学コース https://hirotakeyamazoe.jp/lecture/advexp/kagaku.html 化学工学コースでは新規物質を探索する「マテリアルサイエンス(物質科学)」と、製造プロセスを最適化する「ケミカルエンジニアリング(化学工学)」の二つの学問体系を融合させた教育プログラムを提供します。\n"
          ]
        }
      ]
    }
  ]
}