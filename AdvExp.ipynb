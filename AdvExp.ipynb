{
  "nbformat": 4,
  "nbformat_minor": 0,
  "metadata": {
    "colab": {
      "name": "AdvExp.ipynb",
      "provenance": [],
      "collapsed_sections": []
    },
    "kernelspec": {
      "name": "ir",
      "display_name": "R"
    }
  },
  "cells": [
    {
      "cell_type": "markdown",
      "metadata": {
        "id": "Vdmp3AHhbtYW"
      },
      "source": [
        "# Ｒによるデータ分析と可視化"
      ]
    },
    {
      "cell_type": "markdown",
      "metadata": {
        "id": "zQ0-zLDAMV9o"
      },
      "source": [
        "### ライブラリの読み込み\n",
        "```dplyr```を用いたデータ分析と，```ggplot2```を用いたデータの可視化を行うためのライブラリの読み込み\n",
        "\n",
        "結果からわかるように，以下で利用する```filter()```のみ，conflictが発生している．そのため，```dplyr::filter()```としないといけないことに注意．"
      ]
    },
    {
      "cell_type": "code",
      "metadata": {
        "colab": {
          "base_uri": "https://localhost:8080/"
        },
        "id": "yDeSBsW2D5Kf",
        "outputId": "d3e00061-a444-4f68-bcbc-49f8a2d16faf"
      },
      "source": [
        "library(\"tidyverse\")"
      ],
      "execution_count": 1,
      "outputs": [
        {
          "output_type": "stream",
          "text": [
            "── \u001b[1mAttaching packages\u001b[22m ─────────────────────────────────────── tidyverse 1.3.0 ──\n",
            "\n",
            "\u001b[32m✔\u001b[39m \u001b[34mggplot2\u001b[39m 3.3.2     \u001b[32m✔\u001b[39m \u001b[34mpurrr  \u001b[39m 0.3.4\n",
            "\u001b[32m✔\u001b[39m \u001b[34mtibble \u001b[39m 3.0.4     \u001b[32m✔\u001b[39m \u001b[34mdplyr  \u001b[39m 1.0.2\n",
            "\u001b[32m✔\u001b[39m \u001b[34mtidyr  \u001b[39m 1.1.2     \u001b[32m✔\u001b[39m \u001b[34mstringr\u001b[39m 1.4.0\n",
            "\u001b[32m✔\u001b[39m \u001b[34mreadr  \u001b[39m 1.4.0     \u001b[32m✔\u001b[39m \u001b[34mforcats\u001b[39m 0.5.0\n",
            "\n",
            "── \u001b[1mConflicts\u001b[22m ────────────────────────────────────────── tidyverse_conflicts() ──\n",
            "\u001b[31m✖\u001b[39m \u001b[34mdplyr\u001b[39m::\u001b[32mfilter()\u001b[39m masks \u001b[34mstats\u001b[39m::filter()\n",
            "\u001b[31m✖\u001b[39m \u001b[34mdplyr\u001b[39m::\u001b[32mlag()\u001b[39m    masks \u001b[34mstats\u001b[39m::lag()\n",
            "\n"
          ],
          "name": "stderr"
        }
      ]
    },
    {
      "cell_type": "markdown",
      "metadata": {
        "id": "t6k6LSWVq3st"
      },
      "source": [
        "### データセットの利用のためのパッケージの読み込み"
      ]
    },
    {
      "cell_type": "code",
      "metadata": {
        "id": "nSfG2E2B1jYa",
        "colab": {
          "base_uri": "https://localhost:8080/"
        },
        "outputId": "3daa998b-1800-48c4-d639-81173362e19d"
      },
      "source": [
        "install.packages(\"Lahman\")\n",
        "library(\"Lahman\")"
      ],
      "execution_count": 2,
      "outputs": [
        {
          "output_type": "stream",
          "text": [
            "Installing package into ‘/usr/local/lib/R/site-library’\n",
            "(as ‘lib’ is unspecified)\n",
            "\n"
          ],
          "name": "stderr"
        }
      ]
    },
    {
      "cell_type": "markdown",
      "metadata": {
        "id": "UrESVHlSW_6k"
      },
      "source": [
        "### データセット\n",
        "Lahmanパッケージに含まれるデータセットの例\n",
        "\n",
        "|  変数（データ）名  |    |\n",
        "| ---- | ---- |\n",
        "|  People  | プレイヤーに関するデータ  |\n",
        "|  Batting | シーズンの打撃成績 |\n",
        "|  Fielding | シーズンの守備成績 |\n",
        "|  Pitching | シーズンの投球成績 |\n",
        "|  Salaries | プレイヤーの各シーズンの年俸 |\n",
        "|  Teams | シーズンごとのチーム成績 |\n",
        "\n",
        "上記以外のデータや，データセットの詳細については，以下を参照のこと．\n",
        "\n",
        "http://www.seanlahman.com/files/database/readme2017.txt"
      ]
    },
    {
      "cell_type": "markdown",
      "metadata": {
        "id": "xmFFKvL2NSU6"
      },
      "source": [
        "例えば，Peopleデータセットを表示すると"
      ]
    },
    {
      "cell_type": "code",
      "metadata": {
        "colab": {
          "base_uri": "https://localhost:8080/",
          "height": 316
        },
        "id": "aymbLm3aNNfx",
        "outputId": "ae7d6a80-eb41-40ce-e4cd-91202d0fad19"
      },
      "source": [
        "head(People)"
      ],
      "execution_count": 3,
      "outputs": [
        {
          "output_type": "display_data",
          "data": {
            "text/plain": [
              "  playerID  birthYear birthMonth birthDay birthCountry birthState birthCity \n",
              "1 aardsda01 1981      12         27       USA          CO         Denver    \n",
              "2 aaronha01 1934       2          5       USA          AL         Mobile    \n",
              "3 aaronto01 1939       8          5       USA          AL         Mobile    \n",
              "4 aasedo01  1954       9          8       USA          CA         Orange    \n",
              "5 abadan01  1972       8         25       USA          FL         Palm Beach\n",
              "6 abadfe01  1985      12         17       D.R.         La Romana  La Romana \n",
              "  deathYear deathMonth deathDay ⋯ weight height bats throws debut     \n",
              "1   NA      NA         NA       ⋯ 215    75     R    R      2004-04-06\n",
              "2   NA      NA         NA       ⋯ 180    72     R    R      1954-04-13\n",
              "3 1984       8         16       ⋯ 190    75     R    R      1962-04-10\n",
              "4   NA      NA         NA       ⋯ 190    75     R    R      1977-07-26\n",
              "5   NA      NA         NA       ⋯ 184    73     L    L      2001-09-10\n",
              "6   NA      NA         NA       ⋯ 220    73     L    L      2010-07-28\n",
              "  finalGame  retroID  bbrefID   deathDate  birthDate \n",
              "1 2015-08-23 aardd001 aardsda01 <NA>       1981-12-27\n",
              "2 1976-10-03 aaroh101 aaronha01 <NA>       1934-02-05\n",
              "3 1971-09-26 aarot101 aaronto01 1984-08-16 1939-08-05\n",
              "4 1990-10-03 aased001 aasedo01  <NA>       1954-09-08\n",
              "5 2006-04-13 abada001 abadan01  <NA>       1972-08-25\n",
              "6 2019-09-28 abadf001 abadfe01  <NA>       1985-12-17"
            ],
            "text/latex": "A data.frame: 6 × 26\n\\begin{tabular}{r|lllllllllllllllllllll}\n  & playerID & birthYear & birthMonth & birthDay & birthCountry & birthState & birthCity & deathYear & deathMonth & deathDay & ⋯ & weight & height & bats & throws & debut & finalGame & retroID & bbrefID & deathDate & birthDate\\\\\n  & <chr> & <int> & <int> & <int> & <chr> & <chr> & <chr> & <int> & <int> & <int> & ⋯ & <int> & <int> & <fct> & <fct> & <chr> & <chr> & <chr> & <chr> & <date> & <date>\\\\\n\\hline\n\t1 & aardsda01 & 1981 & 12 & 27 & USA  & CO        & Denver     &   NA & NA & NA & ⋯ & 215 & 75 & R & R & 2004-04-06 & 2015-08-23 & aardd001 & aardsda01 & NA & 1981-12-27\\\\\n\t2 & aaronha01 & 1934 &  2 &  5 & USA  & AL        & Mobile     &   NA & NA & NA & ⋯ & 180 & 72 & R & R & 1954-04-13 & 1976-10-03 & aaroh101 & aaronha01 & NA & 1934-02-05\\\\\n\t3 & aaronto01 & 1939 &  8 &  5 & USA  & AL        & Mobile     & 1984 &  8 & 16 & ⋯ & 190 & 75 & R & R & 1962-04-10 & 1971-09-26 & aarot101 & aaronto01 & 1984-08-16 & 1939-08-05\\\\\n\t4 & aasedo01  & 1954 &  9 &  8 & USA  & CA        & Orange     &   NA & NA & NA & ⋯ & 190 & 75 & R & R & 1977-07-26 & 1990-10-03 & aased001 & aasedo01  & NA & 1954-09-08\\\\\n\t5 & abadan01  & 1972 &  8 & 25 & USA  & FL        & Palm Beach &   NA & NA & NA & ⋯ & 184 & 73 & L & L & 2001-09-10 & 2006-04-13 & abada001 & abadan01  & NA & 1972-08-25\\\\\n\t6 & abadfe01  & 1985 & 12 & 17 & D.R. & La Romana & La Romana  &   NA & NA & NA & ⋯ & 220 & 73 & L & L & 2010-07-28 & 2019-09-28 & abadf001 & abadfe01  & NA & 1985-12-17\\\\\n\\end{tabular}\n",
            "text/markdown": "\nA data.frame: 6 × 26\n\n| <!--/--> | playerID &lt;chr&gt; | birthYear &lt;int&gt; | birthMonth &lt;int&gt; | birthDay &lt;int&gt; | birthCountry &lt;chr&gt; | birthState &lt;chr&gt; | birthCity &lt;chr&gt; | deathYear &lt;int&gt; | deathMonth &lt;int&gt; | deathDay &lt;int&gt; | ⋯ ⋯ | weight &lt;int&gt; | height &lt;int&gt; | bats &lt;fct&gt; | throws &lt;fct&gt; | debut &lt;chr&gt; | finalGame &lt;chr&gt; | retroID &lt;chr&gt; | bbrefID &lt;chr&gt; | deathDate &lt;date&gt; | birthDate &lt;date&gt; |\n|---|---|---|---|---|---|---|---|---|---|---|---|---|---|---|---|---|---|---|---|---|---|\n| 1 | aardsda01 | 1981 | 12 | 27 | USA  | CO        | Denver     |   NA | NA | NA | ⋯ | 215 | 75 | R | R | 2004-04-06 | 2015-08-23 | aardd001 | aardsda01 | NA | 1981-12-27 |\n| 2 | aaronha01 | 1934 |  2 |  5 | USA  | AL        | Mobile     |   NA | NA | NA | ⋯ | 180 | 72 | R | R | 1954-04-13 | 1976-10-03 | aaroh101 | aaronha01 | NA | 1934-02-05 |\n| 3 | aaronto01 | 1939 |  8 |  5 | USA  | AL        | Mobile     | 1984 |  8 | 16 | ⋯ | 190 | 75 | R | R | 1962-04-10 | 1971-09-26 | aarot101 | aaronto01 | 1984-08-16 | 1939-08-05 |\n| 4 | aasedo01  | 1954 |  9 |  8 | USA  | CA        | Orange     |   NA | NA | NA | ⋯ | 190 | 75 | R | R | 1977-07-26 | 1990-10-03 | aased001 | aasedo01  | NA | 1954-09-08 |\n| 5 | abadan01  | 1972 |  8 | 25 | USA  | FL        | Palm Beach |   NA | NA | NA | ⋯ | 184 | 73 | L | L | 2001-09-10 | 2006-04-13 | abada001 | abadan01  | NA | 1972-08-25 |\n| 6 | abadfe01  | 1985 | 12 | 17 | D.R. | La Romana | La Romana  |   NA | NA | NA | ⋯ | 220 | 73 | L | L | 2010-07-28 | 2019-09-28 | abadf001 | abadfe01  | NA | 1985-12-17 |\n\n",
            "text/html": [
              "<table>\n",
              "<caption>A data.frame: 6 × 26</caption>\n",
              "<thead>\n",
              "\t<tr><th></th><th scope=col>playerID</th><th scope=col>birthYear</th><th scope=col>birthMonth</th><th scope=col>birthDay</th><th scope=col>birthCountry</th><th scope=col>birthState</th><th scope=col>birthCity</th><th scope=col>deathYear</th><th scope=col>deathMonth</th><th scope=col>deathDay</th><th scope=col>⋯</th><th scope=col>weight</th><th scope=col>height</th><th scope=col>bats</th><th scope=col>throws</th><th scope=col>debut</th><th scope=col>finalGame</th><th scope=col>retroID</th><th scope=col>bbrefID</th><th scope=col>deathDate</th><th scope=col>birthDate</th></tr>\n",
              "\t<tr><th></th><th scope=col>&lt;chr&gt;</th><th scope=col>&lt;int&gt;</th><th scope=col>&lt;int&gt;</th><th scope=col>&lt;int&gt;</th><th scope=col>&lt;chr&gt;</th><th scope=col>&lt;chr&gt;</th><th scope=col>&lt;chr&gt;</th><th scope=col>&lt;int&gt;</th><th scope=col>&lt;int&gt;</th><th scope=col>&lt;int&gt;</th><th scope=col>⋯</th><th scope=col>&lt;int&gt;</th><th scope=col>&lt;int&gt;</th><th scope=col>&lt;fct&gt;</th><th scope=col>&lt;fct&gt;</th><th scope=col>&lt;chr&gt;</th><th scope=col>&lt;chr&gt;</th><th scope=col>&lt;chr&gt;</th><th scope=col>&lt;chr&gt;</th><th scope=col>&lt;date&gt;</th><th scope=col>&lt;date&gt;</th></tr>\n",
              "</thead>\n",
              "<tbody>\n",
              "\t<tr><th scope=row>1</th><td>aardsda01</td><td>1981</td><td>12</td><td>27</td><td>USA </td><td>CO       </td><td>Denver    </td><td>  NA</td><td>NA</td><td>NA</td><td>⋯</td><td>215</td><td>75</td><td>R</td><td>R</td><td>2004-04-06</td><td>2015-08-23</td><td>aardd001</td><td>aardsda01</td><td>NA</td><td>1981-12-27</td></tr>\n",
              "\t<tr><th scope=row>2</th><td>aaronha01</td><td>1934</td><td> 2</td><td> 5</td><td>USA </td><td>AL       </td><td>Mobile    </td><td>  NA</td><td>NA</td><td>NA</td><td>⋯</td><td>180</td><td>72</td><td>R</td><td>R</td><td>1954-04-13</td><td>1976-10-03</td><td>aaroh101</td><td>aaronha01</td><td>NA</td><td>1934-02-05</td></tr>\n",
              "\t<tr><th scope=row>3</th><td>aaronto01</td><td>1939</td><td> 8</td><td> 5</td><td>USA </td><td>AL       </td><td>Mobile    </td><td>1984</td><td> 8</td><td>16</td><td>⋯</td><td>190</td><td>75</td><td>R</td><td>R</td><td>1962-04-10</td><td>1971-09-26</td><td>aarot101</td><td>aaronto01</td><td>1984-08-16</td><td>1939-08-05</td></tr>\n",
              "\t<tr><th scope=row>4</th><td>aasedo01 </td><td>1954</td><td> 9</td><td> 8</td><td>USA </td><td>CA       </td><td>Orange    </td><td>  NA</td><td>NA</td><td>NA</td><td>⋯</td><td>190</td><td>75</td><td>R</td><td>R</td><td>1977-07-26</td><td>1990-10-03</td><td>aased001</td><td>aasedo01 </td><td>NA</td><td>1954-09-08</td></tr>\n",
              "\t<tr><th scope=row>5</th><td>abadan01 </td><td>1972</td><td> 8</td><td>25</td><td>USA </td><td>FL       </td><td>Palm Beach</td><td>  NA</td><td>NA</td><td>NA</td><td>⋯</td><td>184</td><td>73</td><td>L</td><td>L</td><td>2001-09-10</td><td>2006-04-13</td><td>abada001</td><td>abadan01 </td><td>NA</td><td>1972-08-25</td></tr>\n",
              "\t<tr><th scope=row>6</th><td>abadfe01 </td><td>1985</td><td>12</td><td>17</td><td>D.R.</td><td>La Romana</td><td>La Romana </td><td>  NA</td><td>NA</td><td>NA</td><td>⋯</td><td>220</td><td>73</td><td>L</td><td>L</td><td>2010-07-28</td><td>2019-09-28</td><td>abadf001</td><td>abadfe01 </td><td>NA</td><td>1985-12-17</td></tr>\n",
              "</tbody>\n",
              "</table>\n"
            ]
          },
          "metadata": {
            "tags": []
          }
        }
      ]
    },
    {
      "cell_type": "markdown",
      "metadata": {
        "id": "lafUE3QV_Eq_"
      },
      "source": [
        "```str()```とすると，構造（列の名前，型の一覧）が表示される．"
      ]
    },
    {
      "cell_type": "code",
      "metadata": {
        "colab": {
          "base_uri": "https://localhost:8080/"
        },
        "id": "CTgnuSH1-_xz",
        "outputId": "64f624aa-ac50-443c-f1d5-409fbaaf3510"
      },
      "source": [
        "str(People)"
      ],
      "execution_count": 4,
      "outputs": [
        {
          "output_type": "stream",
          "text": [
            "'data.frame':\t19878 obs. of  26 variables:\n",
            " $ playerID    : chr  \"aardsda01\" \"aaronha01\" \"aaronto01\" \"aasedo01\" ...\n",
            " $ birthYear   : int  1981 1934 1939 1954 1972 1985 1850 1877 1869 1866 ...\n",
            " $ birthMonth  : int  12 2 8 9 8 12 11 4 11 10 ...\n",
            " $ birthDay    : int  27 5 5 8 25 17 4 15 11 14 ...\n",
            " $ birthCountry: chr  \"USA\" \"USA\" \"USA\" \"USA\" ...\n",
            " $ birthState  : chr  \"CO\" \"AL\" \"AL\" \"CA\" ...\n",
            " $ birthCity   : chr  \"Denver\" \"Mobile\" \"Mobile\" \"Orange\" ...\n",
            " $ deathYear   : int  NA NA 1984 NA NA NA 1905 1957 1962 1926 ...\n",
            " $ deathMonth  : int  NA NA 8 NA NA NA 5 1 6 4 ...\n",
            " $ deathDay    : int  NA NA 16 NA NA NA 17 6 11 27 ...\n",
            " $ deathCountry: chr  NA NA \"USA\" NA ...\n",
            " $ deathState  : chr  NA NA \"GA\" NA ...\n",
            " $ deathCity   : chr  NA NA \"Atlanta\" NA ...\n",
            " $ nameFirst   : chr  \"David\" \"Hank\" \"Tommie\" \"Don\" ...\n",
            " $ nameLast    : chr  \"Aardsma\" \"Aaron\" \"Aaron\" \"Aase\" ...\n",
            " $ nameGiven   : chr  \"David Allan\" \"Henry Louis\" \"Tommie Lee\" \"Donald William\" ...\n",
            " $ weight      : int  215 180 190 190 184 220 192 170 175 169 ...\n",
            " $ height      : int  75 72 75 75 73 73 72 71 71 68 ...\n",
            " $ bats        : Factor w/ 3 levels \"B\",\"L\",\"R\": 3 3 3 3 2 2 3 3 3 2 ...\n",
            " $ throws      : Factor w/ 3 levels \"L\",\"R\",\"S\": 2 2 2 2 1 1 2 2 2 1 ...\n",
            " $ debut       : chr  \"2004-04-06\" \"1954-04-13\" \"1962-04-10\" \"1977-07-26\" ...\n",
            " $ finalGame   : chr  \"2015-08-23\" \"1976-10-03\" \"1971-09-26\" \"1990-10-03\" ...\n",
            " $ retroID     : chr  \"aardd001\" \"aaroh101\" \"aarot101\" \"aased001\" ...\n",
            " $ bbrefID     : chr  \"aardsda01\" \"aaronha01\" \"aaronto01\" \"aasedo01\" ...\n",
            " $ deathDate   : Date, format: NA NA ...\n",
            " $ birthDate   : Date, format: \"1981-12-27\" \"1934-02-05\" ...\n"
          ],
          "name": "stdout"
        }
      ]
    },
    {
      "cell_type": "markdown",
      "metadata": {
        "id": "4AMgmi4KO33s"
      },
      "source": [
        "### データ操作の例\n",
        "Peopleデータセットから，nameLastが\"Suzuki\"の行（プレイヤー）を抽出する．"
      ]
    },
    {
      "cell_type": "code",
      "metadata": {
        "id": "kKj78-79Lp9T",
        "colab": {
          "base_uri": "https://localhost:8080/",
          "height": 222
        },
        "outputId": "273395d3-871d-4bf0-ab38-a980aaa0d69a"
      },
      "source": [
        "People %>% dplyr::filter(nameLast == \"Suzuki\")"
      ],
      "execution_count": 5,
      "outputs": [
        {
          "output_type": "display_data",
          "data": {
            "text/plain": [
              "  playerID  birthYear birthMonth birthDay birthCountry birthState\n",
              "1 suzukic01 1973      10         22       Japan        Aichi     \n",
              "2 suzukku01 1983      10          4       USA          HI        \n",
              "3 suzukma01 1975       5         31       Japan        Hyogo     \n",
              "  birthCity         deathYear deathMonth deathDay ⋯ weight height bats throws\n",
              "1 Nichi Kasugai-gun NA        NA         NA       ⋯ 175    71     L    R     \n",
              "2 Wailuku           NA        NA         NA       ⋯ 210    71     R    R     \n",
              "3 Kobe              NA        NA         NA       ⋯ 195    75     R    R     \n",
              "  debut      finalGame  retroID  bbrefID   deathDate birthDate \n",
              "1 2001-04-02 2019-03-21 suzui001 suzukic01 <NA>      1973-10-22\n",
              "2 2007-06-12 2019-09-29 suzuk001 suzukku01 <NA>      1983-10-04\n",
              "3 1996-07-07 2002-06-28 suzum001 suzukma01 <NA>      1975-05-31"
            ],
            "text/latex": "A data.frame: 3 × 26\n\\begin{tabular}{lllllllllllllllllllll}\n playerID & birthYear & birthMonth & birthDay & birthCountry & birthState & birthCity & deathYear & deathMonth & deathDay & ⋯ & weight & height & bats & throws & debut & finalGame & retroID & bbrefID & deathDate & birthDate\\\\\n <chr> & <int> & <int> & <int> & <chr> & <chr> & <chr> & <int> & <int> & <int> & ⋯ & <int> & <int> & <fct> & <fct> & <chr> & <chr> & <chr> & <chr> & <date> & <date>\\\\\n\\hline\n\t suzukic01 & 1973 & 10 & 22 & Japan & Aichi & Nichi Kasugai-gun & NA & NA & NA & ⋯ & 175 & 71 & L & R & 2001-04-02 & 2019-03-21 & suzui001 & suzukic01 & NA & 1973-10-22\\\\\n\t suzukku01 & 1983 & 10 &  4 & USA   & HI    & Wailuku           & NA & NA & NA & ⋯ & 210 & 71 & R & R & 2007-06-12 & 2019-09-29 & suzuk001 & suzukku01 & NA & 1983-10-04\\\\\n\t suzukma01 & 1975 &  5 & 31 & Japan & Hyogo & Kobe              & NA & NA & NA & ⋯ & 195 & 75 & R & R & 1996-07-07 & 2002-06-28 & suzum001 & suzukma01 & NA & 1975-05-31\\\\\n\\end{tabular}\n",
            "text/markdown": "\nA data.frame: 3 × 26\n\n| playerID &lt;chr&gt; | birthYear &lt;int&gt; | birthMonth &lt;int&gt; | birthDay &lt;int&gt; | birthCountry &lt;chr&gt; | birthState &lt;chr&gt; | birthCity &lt;chr&gt; | deathYear &lt;int&gt; | deathMonth &lt;int&gt; | deathDay &lt;int&gt; | ⋯ ⋯ | weight &lt;int&gt; | height &lt;int&gt; | bats &lt;fct&gt; | throws &lt;fct&gt; | debut &lt;chr&gt; | finalGame &lt;chr&gt; | retroID &lt;chr&gt; | bbrefID &lt;chr&gt; | deathDate &lt;date&gt; | birthDate &lt;date&gt; |\n|---|---|---|---|---|---|---|---|---|---|---|---|---|---|---|---|---|---|---|---|---|\n| suzukic01 | 1973 | 10 | 22 | Japan | Aichi | Nichi Kasugai-gun | NA | NA | NA | ⋯ | 175 | 71 | L | R | 2001-04-02 | 2019-03-21 | suzui001 | suzukic01 | NA | 1973-10-22 |\n| suzukku01 | 1983 | 10 |  4 | USA   | HI    | Wailuku           | NA | NA | NA | ⋯ | 210 | 71 | R | R | 2007-06-12 | 2019-09-29 | suzuk001 | suzukku01 | NA | 1983-10-04 |\n| suzukma01 | 1975 |  5 | 31 | Japan | Hyogo | Kobe              | NA | NA | NA | ⋯ | 195 | 75 | R | R | 1996-07-07 | 2002-06-28 | suzum001 | suzukma01 | NA | 1975-05-31 |\n\n",
            "text/html": [
              "<table>\n",
              "<caption>A data.frame: 3 × 26</caption>\n",
              "<thead>\n",
              "\t<tr><th scope=col>playerID</th><th scope=col>birthYear</th><th scope=col>birthMonth</th><th scope=col>birthDay</th><th scope=col>birthCountry</th><th scope=col>birthState</th><th scope=col>birthCity</th><th scope=col>deathYear</th><th scope=col>deathMonth</th><th scope=col>deathDay</th><th scope=col>⋯</th><th scope=col>weight</th><th scope=col>height</th><th scope=col>bats</th><th scope=col>throws</th><th scope=col>debut</th><th scope=col>finalGame</th><th scope=col>retroID</th><th scope=col>bbrefID</th><th scope=col>deathDate</th><th scope=col>birthDate</th></tr>\n",
              "\t<tr><th scope=col>&lt;chr&gt;</th><th scope=col>&lt;int&gt;</th><th scope=col>&lt;int&gt;</th><th scope=col>&lt;int&gt;</th><th scope=col>&lt;chr&gt;</th><th scope=col>&lt;chr&gt;</th><th scope=col>&lt;chr&gt;</th><th scope=col>&lt;int&gt;</th><th scope=col>&lt;int&gt;</th><th scope=col>&lt;int&gt;</th><th scope=col>⋯</th><th scope=col>&lt;int&gt;</th><th scope=col>&lt;int&gt;</th><th scope=col>&lt;fct&gt;</th><th scope=col>&lt;fct&gt;</th><th scope=col>&lt;chr&gt;</th><th scope=col>&lt;chr&gt;</th><th scope=col>&lt;chr&gt;</th><th scope=col>&lt;chr&gt;</th><th scope=col>&lt;date&gt;</th><th scope=col>&lt;date&gt;</th></tr>\n",
              "</thead>\n",
              "<tbody>\n",
              "\t<tr><td>suzukic01</td><td>1973</td><td>10</td><td>22</td><td>Japan</td><td>Aichi</td><td>Nichi Kasugai-gun</td><td>NA</td><td>NA</td><td>NA</td><td>⋯</td><td>175</td><td>71</td><td>L</td><td>R</td><td>2001-04-02</td><td>2019-03-21</td><td>suzui001</td><td>suzukic01</td><td>NA</td><td>1973-10-22</td></tr>\n",
              "\t<tr><td>suzukku01</td><td>1983</td><td>10</td><td> 4</td><td>USA  </td><td>HI   </td><td>Wailuku          </td><td>NA</td><td>NA</td><td>NA</td><td>⋯</td><td>210</td><td>71</td><td>R</td><td>R</td><td>2007-06-12</td><td>2019-09-29</td><td>suzuk001</td><td>suzukku01</td><td>NA</td><td>1983-10-04</td></tr>\n",
              "\t<tr><td>suzukma01</td><td>1975</td><td> 5</td><td>31</td><td>Japan</td><td>Hyogo</td><td>Kobe             </td><td>NA</td><td>NA</td><td>NA</td><td>⋯</td><td>195</td><td>75</td><td>R</td><td>R</td><td>1996-07-07</td><td>2002-06-28</td><td>suzum001</td><td>suzukma01</td><td>NA</td><td>1975-05-31</td></tr>\n",
              "</tbody>\n",
              "</table>\n"
            ]
          },
          "metadata": {
            "tags": []
          }
        }
      ]
    },
    {
      "cell_type": "markdown",
      "metadata": {
        "id": "eYy_ZGfmPhMj"
      },
      "source": [
        "データが多すぎて見にくいため，Peopleデータセットから，nameLastが\"Suzuki\"の行（プレイヤー）を抽出し，playerID, nameFirst, nameLastの３つの列を抽出する．\n",
        "\n",
        "といったように，```%>%```でつなぐことで，処理を追加していくことができる．"
      ]
    },
    {
      "cell_type": "code",
      "metadata": {
        "colab": {
          "base_uri": "https://localhost:8080/",
          "height": 135
        },
        "id": "vax5q2chPeJ3",
        "outputId": "394330c6-d969-4933-ac32-6ebcb25641e1"
      },
      "source": [
        "People %>% dplyr::filter(nameLast == \"Suzuki\") %>% select(nameFirst, nameLast, playerID)"
      ],
      "execution_count": 6,
      "outputs": [
        {
          "output_type": "display_data",
          "data": {
            "text/plain": [
              "  nameFirst nameLast playerID \n",
              "1 Ichiro    Suzuki   suzukic01\n",
              "2 Kurt      Suzuki   suzukku01\n",
              "3 Mac       Suzuki   suzukma01"
            ],
            "text/latex": "A data.frame: 3 × 3\n\\begin{tabular}{lll}\n nameFirst & nameLast & playerID\\\\\n <chr> & <chr> & <chr>\\\\\n\\hline\n\t Ichiro & Suzuki & suzukic01\\\\\n\t Kurt   & Suzuki & suzukku01\\\\\n\t Mac    & Suzuki & suzukma01\\\\\n\\end{tabular}\n",
            "text/markdown": "\nA data.frame: 3 × 3\n\n| nameFirst &lt;chr&gt; | nameLast &lt;chr&gt; | playerID &lt;chr&gt; |\n|---|---|---|\n| Ichiro | Suzuki | suzukic01 |\n| Kurt   | Suzuki | suzukku01 |\n| Mac    | Suzuki | suzukma01 |\n\n",
            "text/html": [
              "<table>\n",
              "<caption>A data.frame: 3 × 3</caption>\n",
              "<thead>\n",
              "\t<tr><th scope=col>nameFirst</th><th scope=col>nameLast</th><th scope=col>playerID</th></tr>\n",
              "\t<tr><th scope=col>&lt;chr&gt;</th><th scope=col>&lt;chr&gt;</th><th scope=col>&lt;chr&gt;</th></tr>\n",
              "</thead>\n",
              "<tbody>\n",
              "\t<tr><td>Ichiro</td><td>Suzuki</td><td>suzukic01</td></tr>\n",
              "\t<tr><td>Kurt  </td><td>Suzuki</td><td>suzukku01</td></tr>\n",
              "\t<tr><td>Mac   </td><td>Suzuki</td><td>suzukma01</td></tr>\n",
              "</tbody>\n",
              "</table>\n"
            ]
          },
          "metadata": {
            "tags": []
          }
        }
      ]
    },
    {
      "cell_type": "markdown",
      "metadata": {
        "id": "sxO6C_NbQxin"
      },
      "source": [
        "イチローの```playerID```が```suzukic01```であることがわかったので，それを用いて，```Batting```データからイチローのデータを抽出してみる．結果を```ichiro_batting```に代入する．以下のどちらでもよい．"
      ]
    },
    {
      "cell_type": "code",
      "metadata": {
        "id": "K_0GgHOBhO2n"
      },
      "source": [
        "ichiro_data <- Batting %>% dplyr::filter(playerID == \"suzukic01\")\n",
        "Batting %>% dplyr::filter(playerID == \"suzukic01\") -> ichiro_data"
      ],
      "execution_count": 7,
      "outputs": []
    },
    {
      "cell_type": "code",
      "metadata": {
        "colab": {
          "base_uri": "https://localhost:8080/",
          "height": 475
        },
        "id": "QnRc9J5pTInq",
        "outputId": "c5675b39-0882-43a1-8321-ad300c00a18b"
      },
      "source": [
        "ichiro_data"
      ],
      "execution_count": 8,
      "outputs": [
        {
          "output_type": "display_data",
          "data": {
            "text/plain": [
              "   playerID  yearID stint teamID lgID G   AB  R   H   X2B ⋯ RBI SB CS BB SO IBB\n",
              "1  suzukic01 2001   1     SEA    AL   157 692 127 242 34  ⋯ 69  56 14 30 53 10 \n",
              "2  suzukic01 2002   1     SEA    AL   157 647 111 208 27  ⋯ 51  31 15 68 62 27 \n",
              "3  suzukic01 2003   1     SEA    AL   159 679 111 212 29  ⋯ 62  34  8 36 69  7 \n",
              "4  suzukic01 2004   1     SEA    AL   161 704 101 262 24  ⋯ 60  36 11 49 63 19 \n",
              "5  suzukic01 2005   1     SEA    AL   162 679 111 206 21  ⋯ 68  33  8 48 66 23 \n",
              "6  suzukic01 2006   1     SEA    AL   161 695 110 224 20  ⋯ 49  45  2 49 71 16 \n",
              "7  suzukic01 2007   1     SEA    AL   161 678 111 238 22  ⋯ 68  37  8 49 77 13 \n",
              "8  suzukic01 2008   1     SEA    AL   162 686 103 213 20  ⋯ 42  43  4 51 65 12 \n",
              "9  suzukic01 2009   1     SEA    AL   146 639  88 225 31  ⋯ 46  26  9 32 71 15 \n",
              "10 suzukic01 2010   1     SEA    AL   162 680  74 214 30  ⋯ 43  42  9 45 86 13 \n",
              "11 suzukic01 2011   1     SEA    AL   161 677  80 184 22  ⋯ 47  40  7 39 69 13 \n",
              "12 suzukic01 2012   1     SEA    AL    95 402  49 105 15  ⋯ 28  15  2 17 40  4 \n",
              "13 suzukic01 2012   2     NYA    AL    67 227  28  73 13  ⋯ 27  14  5  5 21  1 \n",
              "14 suzukic01 2013   1     NYA    AL   150 520  57 136 15  ⋯ 35  20  4 26 63  4 \n",
              "15 suzukic01 2014   1     NYA    AL   143 359  42 102 13  ⋯ 22  15  3 21 68  1 \n",
              "16 suzukic01 2015   1     MIA    NL   153 398  45  91  5  ⋯ 21  11  5 31 51  1 \n",
              "17 suzukic01 2016   1     MIA    NL   143 327  48  95 15  ⋯ 22  10  2 30 42  1 \n",
              "18 suzukic01 2017   1     MIA    NL   136 196  19  50  6  ⋯ 20   1  1 17 35  1 \n",
              "19 suzukic01 2018   1     SEA    AL    15  44   5   9  0  ⋯  0   0  0  3  7  0 \n",
              "20 suzukic01 2019   1     SEA    AL     2   5   0   0  0  ⋯  0   0  0  1  1  0 \n",
              "   HBP SH SF GIDP\n",
              "1  8   4  4   3  \n",
              "2  5   3  5   8  \n",
              "3  6   3  1   3  \n",
              "4  4   2  3   6  \n",
              "5  4   2  6   5  \n",
              "6  5   1  2   2  \n",
              "7  3   4  2   7  \n",
              "8  5   3  4   8  \n",
              "9  4   2  1   1  \n",
              "10 3   3  1   3  \n",
              "11 0   1  4  11  \n",
              "12 0   0  4  10  \n",
              "13 2   5  1   2  \n",
              "14 1   6  2   6  \n",
              "15 1   2  2   3  \n",
              "16 0   5  4   8  \n",
              "17 3   3  2   4  \n",
              "18 1   1  0   2  \n",
              "19 0   0  0   0  \n",
              "20 0   0  0   0  "
            ],
            "text/latex": "A data.frame: 20 × 22\n\\begin{tabular}{lllllllllllllllllllll}\n playerID & yearID & stint & teamID & lgID & G & AB & R & H & X2B & ⋯ & RBI & SB & CS & BB & SO & IBB & HBP & SH & SF & GIDP\\\\\n <chr> & <int> & <int> & <fct> & <fct> & <int> & <int> & <int> & <int> & <int> & ⋯ & <int> & <int> & <int> & <int> & <int> & <int> & <int> & <int> & <int> & <int>\\\\\n\\hline\n\t suzukic01 & 2001 & 1 & SEA & AL & 157 & 692 & 127 & 242 & 34 & ⋯ & 69 & 56 & 14 & 30 & 53 & 10 & 8 & 4 & 4 &  3\\\\\n\t suzukic01 & 2002 & 1 & SEA & AL & 157 & 647 & 111 & 208 & 27 & ⋯ & 51 & 31 & 15 & 68 & 62 & 27 & 5 & 3 & 5 &  8\\\\\n\t suzukic01 & 2003 & 1 & SEA & AL & 159 & 679 & 111 & 212 & 29 & ⋯ & 62 & 34 &  8 & 36 & 69 &  7 & 6 & 3 & 1 &  3\\\\\n\t suzukic01 & 2004 & 1 & SEA & AL & 161 & 704 & 101 & 262 & 24 & ⋯ & 60 & 36 & 11 & 49 & 63 & 19 & 4 & 2 & 3 &  6\\\\\n\t suzukic01 & 2005 & 1 & SEA & AL & 162 & 679 & 111 & 206 & 21 & ⋯ & 68 & 33 &  8 & 48 & 66 & 23 & 4 & 2 & 6 &  5\\\\\n\t suzukic01 & 2006 & 1 & SEA & AL & 161 & 695 & 110 & 224 & 20 & ⋯ & 49 & 45 &  2 & 49 & 71 & 16 & 5 & 1 & 2 &  2\\\\\n\t suzukic01 & 2007 & 1 & SEA & AL & 161 & 678 & 111 & 238 & 22 & ⋯ & 68 & 37 &  8 & 49 & 77 & 13 & 3 & 4 & 2 &  7\\\\\n\t suzukic01 & 2008 & 1 & SEA & AL & 162 & 686 & 103 & 213 & 20 & ⋯ & 42 & 43 &  4 & 51 & 65 & 12 & 5 & 3 & 4 &  8\\\\\n\t suzukic01 & 2009 & 1 & SEA & AL & 146 & 639 &  88 & 225 & 31 & ⋯ & 46 & 26 &  9 & 32 & 71 & 15 & 4 & 2 & 1 &  1\\\\\n\t suzukic01 & 2010 & 1 & SEA & AL & 162 & 680 &  74 & 214 & 30 & ⋯ & 43 & 42 &  9 & 45 & 86 & 13 & 3 & 3 & 1 &  3\\\\\n\t suzukic01 & 2011 & 1 & SEA & AL & 161 & 677 &  80 & 184 & 22 & ⋯ & 47 & 40 &  7 & 39 & 69 & 13 & 0 & 1 & 4 & 11\\\\\n\t suzukic01 & 2012 & 1 & SEA & AL &  95 & 402 &  49 & 105 & 15 & ⋯ & 28 & 15 &  2 & 17 & 40 &  4 & 0 & 0 & 4 & 10\\\\\n\t suzukic01 & 2012 & 2 & NYA & AL &  67 & 227 &  28 &  73 & 13 & ⋯ & 27 & 14 &  5 &  5 & 21 &  1 & 2 & 5 & 1 &  2\\\\\n\t suzukic01 & 2013 & 1 & NYA & AL & 150 & 520 &  57 & 136 & 15 & ⋯ & 35 & 20 &  4 & 26 & 63 &  4 & 1 & 6 & 2 &  6\\\\\n\t suzukic01 & 2014 & 1 & NYA & AL & 143 & 359 &  42 & 102 & 13 & ⋯ & 22 & 15 &  3 & 21 & 68 &  1 & 1 & 2 & 2 &  3\\\\\n\t suzukic01 & 2015 & 1 & MIA & NL & 153 & 398 &  45 &  91 &  5 & ⋯ & 21 & 11 &  5 & 31 & 51 &  1 & 0 & 5 & 4 &  8\\\\\n\t suzukic01 & 2016 & 1 & MIA & NL & 143 & 327 &  48 &  95 & 15 & ⋯ & 22 & 10 &  2 & 30 & 42 &  1 & 3 & 3 & 2 &  4\\\\\n\t suzukic01 & 2017 & 1 & MIA & NL & 136 & 196 &  19 &  50 &  6 & ⋯ & 20 &  1 &  1 & 17 & 35 &  1 & 1 & 1 & 0 &  2\\\\\n\t suzukic01 & 2018 & 1 & SEA & AL &  15 &  44 &   5 &   9 &  0 & ⋯ &  0 &  0 &  0 &  3 &  7 &  0 & 0 & 0 & 0 &  0\\\\\n\t suzukic01 & 2019 & 1 & SEA & AL &   2 &   5 &   0 &   0 &  0 & ⋯ &  0 &  0 &  0 &  1 &  1 &  0 & 0 & 0 & 0 &  0\\\\\n\\end{tabular}\n",
            "text/markdown": "\nA data.frame: 20 × 22\n\n| playerID &lt;chr&gt; | yearID &lt;int&gt; | stint &lt;int&gt; | teamID &lt;fct&gt; | lgID &lt;fct&gt; | G &lt;int&gt; | AB &lt;int&gt; | R &lt;int&gt; | H &lt;int&gt; | X2B &lt;int&gt; | ⋯ ⋯ | RBI &lt;int&gt; | SB &lt;int&gt; | CS &lt;int&gt; | BB &lt;int&gt; | SO &lt;int&gt; | IBB &lt;int&gt; | HBP &lt;int&gt; | SH &lt;int&gt; | SF &lt;int&gt; | GIDP &lt;int&gt; |\n|---|---|---|---|---|---|---|---|---|---|---|---|---|---|---|---|---|---|---|---|---|\n| suzukic01 | 2001 | 1 | SEA | AL | 157 | 692 | 127 | 242 | 34 | ⋯ | 69 | 56 | 14 | 30 | 53 | 10 | 8 | 4 | 4 |  3 |\n| suzukic01 | 2002 | 1 | SEA | AL | 157 | 647 | 111 | 208 | 27 | ⋯ | 51 | 31 | 15 | 68 | 62 | 27 | 5 | 3 | 5 |  8 |\n| suzukic01 | 2003 | 1 | SEA | AL | 159 | 679 | 111 | 212 | 29 | ⋯ | 62 | 34 |  8 | 36 | 69 |  7 | 6 | 3 | 1 |  3 |\n| suzukic01 | 2004 | 1 | SEA | AL | 161 | 704 | 101 | 262 | 24 | ⋯ | 60 | 36 | 11 | 49 | 63 | 19 | 4 | 2 | 3 |  6 |\n| suzukic01 | 2005 | 1 | SEA | AL | 162 | 679 | 111 | 206 | 21 | ⋯ | 68 | 33 |  8 | 48 | 66 | 23 | 4 | 2 | 6 |  5 |\n| suzukic01 | 2006 | 1 | SEA | AL | 161 | 695 | 110 | 224 | 20 | ⋯ | 49 | 45 |  2 | 49 | 71 | 16 | 5 | 1 | 2 |  2 |\n| suzukic01 | 2007 | 1 | SEA | AL | 161 | 678 | 111 | 238 | 22 | ⋯ | 68 | 37 |  8 | 49 | 77 | 13 | 3 | 4 | 2 |  7 |\n| suzukic01 | 2008 | 1 | SEA | AL | 162 | 686 | 103 | 213 | 20 | ⋯ | 42 | 43 |  4 | 51 | 65 | 12 | 5 | 3 | 4 |  8 |\n| suzukic01 | 2009 | 1 | SEA | AL | 146 | 639 |  88 | 225 | 31 | ⋯ | 46 | 26 |  9 | 32 | 71 | 15 | 4 | 2 | 1 |  1 |\n| suzukic01 | 2010 | 1 | SEA | AL | 162 | 680 |  74 | 214 | 30 | ⋯ | 43 | 42 |  9 | 45 | 86 | 13 | 3 | 3 | 1 |  3 |\n| suzukic01 | 2011 | 1 | SEA | AL | 161 | 677 |  80 | 184 | 22 | ⋯ | 47 | 40 |  7 | 39 | 69 | 13 | 0 | 1 | 4 | 11 |\n| suzukic01 | 2012 | 1 | SEA | AL |  95 | 402 |  49 | 105 | 15 | ⋯ | 28 | 15 |  2 | 17 | 40 |  4 | 0 | 0 | 4 | 10 |\n| suzukic01 | 2012 | 2 | NYA | AL |  67 | 227 |  28 |  73 | 13 | ⋯ | 27 | 14 |  5 |  5 | 21 |  1 | 2 | 5 | 1 |  2 |\n| suzukic01 | 2013 | 1 | NYA | AL | 150 | 520 |  57 | 136 | 15 | ⋯ | 35 | 20 |  4 | 26 | 63 |  4 | 1 | 6 | 2 |  6 |\n| suzukic01 | 2014 | 1 | NYA | AL | 143 | 359 |  42 | 102 | 13 | ⋯ | 22 | 15 |  3 | 21 | 68 |  1 | 1 | 2 | 2 |  3 |\n| suzukic01 | 2015 | 1 | MIA | NL | 153 | 398 |  45 |  91 |  5 | ⋯ | 21 | 11 |  5 | 31 | 51 |  1 | 0 | 5 | 4 |  8 |\n| suzukic01 | 2016 | 1 | MIA | NL | 143 | 327 |  48 |  95 | 15 | ⋯ | 22 | 10 |  2 | 30 | 42 |  1 | 3 | 3 | 2 |  4 |\n| suzukic01 | 2017 | 1 | MIA | NL | 136 | 196 |  19 |  50 |  6 | ⋯ | 20 |  1 |  1 | 17 | 35 |  1 | 1 | 1 | 0 |  2 |\n| suzukic01 | 2018 | 1 | SEA | AL |  15 |  44 |   5 |   9 |  0 | ⋯ |  0 |  0 |  0 |  3 |  7 |  0 | 0 | 0 | 0 |  0 |\n| suzukic01 | 2019 | 1 | SEA | AL |   2 |   5 |   0 |   0 |  0 | ⋯ |  0 |  0 |  0 |  1 |  1 |  0 | 0 | 0 | 0 |  0 |\n\n",
            "text/html": [
              "<table>\n",
              "<caption>A data.frame: 20 × 22</caption>\n",
              "<thead>\n",
              "\t<tr><th scope=col>playerID</th><th scope=col>yearID</th><th scope=col>stint</th><th scope=col>teamID</th><th scope=col>lgID</th><th scope=col>G</th><th scope=col>AB</th><th scope=col>R</th><th scope=col>H</th><th scope=col>X2B</th><th scope=col>⋯</th><th scope=col>RBI</th><th scope=col>SB</th><th scope=col>CS</th><th scope=col>BB</th><th scope=col>SO</th><th scope=col>IBB</th><th scope=col>HBP</th><th scope=col>SH</th><th scope=col>SF</th><th scope=col>GIDP</th></tr>\n",
              "\t<tr><th scope=col>&lt;chr&gt;</th><th scope=col>&lt;int&gt;</th><th scope=col>&lt;int&gt;</th><th scope=col>&lt;fct&gt;</th><th scope=col>&lt;fct&gt;</th><th scope=col>&lt;int&gt;</th><th scope=col>&lt;int&gt;</th><th scope=col>&lt;int&gt;</th><th scope=col>&lt;int&gt;</th><th scope=col>&lt;int&gt;</th><th scope=col>⋯</th><th scope=col>&lt;int&gt;</th><th scope=col>&lt;int&gt;</th><th scope=col>&lt;int&gt;</th><th scope=col>&lt;int&gt;</th><th scope=col>&lt;int&gt;</th><th scope=col>&lt;int&gt;</th><th scope=col>&lt;int&gt;</th><th scope=col>&lt;int&gt;</th><th scope=col>&lt;int&gt;</th><th scope=col>&lt;int&gt;</th></tr>\n",
              "</thead>\n",
              "<tbody>\n",
              "\t<tr><td>suzukic01</td><td>2001</td><td>1</td><td>SEA</td><td>AL</td><td>157</td><td>692</td><td>127</td><td>242</td><td>34</td><td>⋯</td><td>69</td><td>56</td><td>14</td><td>30</td><td>53</td><td>10</td><td>8</td><td>4</td><td>4</td><td> 3</td></tr>\n",
              "\t<tr><td>suzukic01</td><td>2002</td><td>1</td><td>SEA</td><td>AL</td><td>157</td><td>647</td><td>111</td><td>208</td><td>27</td><td>⋯</td><td>51</td><td>31</td><td>15</td><td>68</td><td>62</td><td>27</td><td>5</td><td>3</td><td>5</td><td> 8</td></tr>\n",
              "\t<tr><td>suzukic01</td><td>2003</td><td>1</td><td>SEA</td><td>AL</td><td>159</td><td>679</td><td>111</td><td>212</td><td>29</td><td>⋯</td><td>62</td><td>34</td><td> 8</td><td>36</td><td>69</td><td> 7</td><td>6</td><td>3</td><td>1</td><td> 3</td></tr>\n",
              "\t<tr><td>suzukic01</td><td>2004</td><td>1</td><td>SEA</td><td>AL</td><td>161</td><td>704</td><td>101</td><td>262</td><td>24</td><td>⋯</td><td>60</td><td>36</td><td>11</td><td>49</td><td>63</td><td>19</td><td>4</td><td>2</td><td>3</td><td> 6</td></tr>\n",
              "\t<tr><td>suzukic01</td><td>2005</td><td>1</td><td>SEA</td><td>AL</td><td>162</td><td>679</td><td>111</td><td>206</td><td>21</td><td>⋯</td><td>68</td><td>33</td><td> 8</td><td>48</td><td>66</td><td>23</td><td>4</td><td>2</td><td>6</td><td> 5</td></tr>\n",
              "\t<tr><td>suzukic01</td><td>2006</td><td>1</td><td>SEA</td><td>AL</td><td>161</td><td>695</td><td>110</td><td>224</td><td>20</td><td>⋯</td><td>49</td><td>45</td><td> 2</td><td>49</td><td>71</td><td>16</td><td>5</td><td>1</td><td>2</td><td> 2</td></tr>\n",
              "\t<tr><td>suzukic01</td><td>2007</td><td>1</td><td>SEA</td><td>AL</td><td>161</td><td>678</td><td>111</td><td>238</td><td>22</td><td>⋯</td><td>68</td><td>37</td><td> 8</td><td>49</td><td>77</td><td>13</td><td>3</td><td>4</td><td>2</td><td> 7</td></tr>\n",
              "\t<tr><td>suzukic01</td><td>2008</td><td>1</td><td>SEA</td><td>AL</td><td>162</td><td>686</td><td>103</td><td>213</td><td>20</td><td>⋯</td><td>42</td><td>43</td><td> 4</td><td>51</td><td>65</td><td>12</td><td>5</td><td>3</td><td>4</td><td> 8</td></tr>\n",
              "\t<tr><td>suzukic01</td><td>2009</td><td>1</td><td>SEA</td><td>AL</td><td>146</td><td>639</td><td> 88</td><td>225</td><td>31</td><td>⋯</td><td>46</td><td>26</td><td> 9</td><td>32</td><td>71</td><td>15</td><td>4</td><td>2</td><td>1</td><td> 1</td></tr>\n",
              "\t<tr><td>suzukic01</td><td>2010</td><td>1</td><td>SEA</td><td>AL</td><td>162</td><td>680</td><td> 74</td><td>214</td><td>30</td><td>⋯</td><td>43</td><td>42</td><td> 9</td><td>45</td><td>86</td><td>13</td><td>3</td><td>3</td><td>1</td><td> 3</td></tr>\n",
              "\t<tr><td>suzukic01</td><td>2011</td><td>1</td><td>SEA</td><td>AL</td><td>161</td><td>677</td><td> 80</td><td>184</td><td>22</td><td>⋯</td><td>47</td><td>40</td><td> 7</td><td>39</td><td>69</td><td>13</td><td>0</td><td>1</td><td>4</td><td>11</td></tr>\n",
              "\t<tr><td>suzukic01</td><td>2012</td><td>1</td><td>SEA</td><td>AL</td><td> 95</td><td>402</td><td> 49</td><td>105</td><td>15</td><td>⋯</td><td>28</td><td>15</td><td> 2</td><td>17</td><td>40</td><td> 4</td><td>0</td><td>0</td><td>4</td><td>10</td></tr>\n",
              "\t<tr><td>suzukic01</td><td>2012</td><td>2</td><td>NYA</td><td>AL</td><td> 67</td><td>227</td><td> 28</td><td> 73</td><td>13</td><td>⋯</td><td>27</td><td>14</td><td> 5</td><td> 5</td><td>21</td><td> 1</td><td>2</td><td>5</td><td>1</td><td> 2</td></tr>\n",
              "\t<tr><td>suzukic01</td><td>2013</td><td>1</td><td>NYA</td><td>AL</td><td>150</td><td>520</td><td> 57</td><td>136</td><td>15</td><td>⋯</td><td>35</td><td>20</td><td> 4</td><td>26</td><td>63</td><td> 4</td><td>1</td><td>6</td><td>2</td><td> 6</td></tr>\n",
              "\t<tr><td>suzukic01</td><td>2014</td><td>1</td><td>NYA</td><td>AL</td><td>143</td><td>359</td><td> 42</td><td>102</td><td>13</td><td>⋯</td><td>22</td><td>15</td><td> 3</td><td>21</td><td>68</td><td> 1</td><td>1</td><td>2</td><td>2</td><td> 3</td></tr>\n",
              "\t<tr><td>suzukic01</td><td>2015</td><td>1</td><td>MIA</td><td>NL</td><td>153</td><td>398</td><td> 45</td><td> 91</td><td> 5</td><td>⋯</td><td>21</td><td>11</td><td> 5</td><td>31</td><td>51</td><td> 1</td><td>0</td><td>5</td><td>4</td><td> 8</td></tr>\n",
              "\t<tr><td>suzukic01</td><td>2016</td><td>1</td><td>MIA</td><td>NL</td><td>143</td><td>327</td><td> 48</td><td> 95</td><td>15</td><td>⋯</td><td>22</td><td>10</td><td> 2</td><td>30</td><td>42</td><td> 1</td><td>3</td><td>3</td><td>2</td><td> 4</td></tr>\n",
              "\t<tr><td>suzukic01</td><td>2017</td><td>1</td><td>MIA</td><td>NL</td><td>136</td><td>196</td><td> 19</td><td> 50</td><td> 6</td><td>⋯</td><td>20</td><td> 1</td><td> 1</td><td>17</td><td>35</td><td> 1</td><td>1</td><td>1</td><td>0</td><td> 2</td></tr>\n",
              "\t<tr><td>suzukic01</td><td>2018</td><td>1</td><td>SEA</td><td>AL</td><td> 15</td><td> 44</td><td>  5</td><td>  9</td><td> 0</td><td>⋯</td><td> 0</td><td> 0</td><td> 0</td><td> 3</td><td> 7</td><td> 0</td><td>0</td><td>0</td><td>0</td><td> 0</td></tr>\n",
              "\t<tr><td>suzukic01</td><td>2019</td><td>1</td><td>SEA</td><td>AL</td><td>  2</td><td>  5</td><td>  0</td><td>  0</td><td> 0</td><td>⋯</td><td> 0</td><td> 0</td><td> 0</td><td> 1</td><td> 1</td><td> 0</td><td>0</td><td>0</td><td>0</td><td> 0</td></tr>\n",
              "</tbody>\n",
              "</table>\n"
            ]
          },
          "metadata": {
            "tags": []
          }
        }
      ]
    },
    {
      "cell_type": "markdown",
      "metadata": {
        "id": "1mBhbRoPTjex"
      },
      "source": [
        "ヒット数（```H```）が200以上のシーズンを取り出すと"
      ]
    },
    {
      "cell_type": "code",
      "metadata": {
        "colab": {
          "base_uri": "https://localhost:8080/",
          "height": 275
        },
        "id": "azItqirbTasT",
        "outputId": "d76c898c-5f59-42de-a0d3-37fce5ea1720"
      },
      "source": [
        "ichiro_data %>% dplyr::filter(H>200)"
      ],
      "execution_count": 9,
      "outputs": [
        {
          "output_type": "display_data",
          "data": {
            "text/plain": [
              "   playerID  yearID stint teamID lgID G   AB  R   H   X2B ⋯ RBI SB CS BB SO IBB\n",
              "1  suzukic01 2001   1     SEA    AL   157 692 127 242 34  ⋯ 69  56 14 30 53 10 \n",
              "2  suzukic01 2002   1     SEA    AL   157 647 111 208 27  ⋯ 51  31 15 68 62 27 \n",
              "3  suzukic01 2003   1     SEA    AL   159 679 111 212 29  ⋯ 62  34  8 36 69  7 \n",
              "4  suzukic01 2004   1     SEA    AL   161 704 101 262 24  ⋯ 60  36 11 49 63 19 \n",
              "5  suzukic01 2005   1     SEA    AL   162 679 111 206 21  ⋯ 68  33  8 48 66 23 \n",
              "6  suzukic01 2006   1     SEA    AL   161 695 110 224 20  ⋯ 49  45  2 49 71 16 \n",
              "7  suzukic01 2007   1     SEA    AL   161 678 111 238 22  ⋯ 68  37  8 49 77 13 \n",
              "8  suzukic01 2008   1     SEA    AL   162 686 103 213 20  ⋯ 42  43  4 51 65 12 \n",
              "9  suzukic01 2009   1     SEA    AL   146 639  88 225 31  ⋯ 46  26  9 32 71 15 \n",
              "10 suzukic01 2010   1     SEA    AL   162 680  74 214 30  ⋯ 43  42  9 45 86 13 \n",
              "   HBP SH SF GIDP\n",
              "1  8   4  4  3   \n",
              "2  5   3  5  8   \n",
              "3  6   3  1  3   \n",
              "4  4   2  3  6   \n",
              "5  4   2  6  5   \n",
              "6  5   1  2  2   \n",
              "7  3   4  2  7   \n",
              "8  5   3  4  8   \n",
              "9  4   2  1  1   \n",
              "10 3   3  1  3   "
            ],
            "text/latex": "A data.frame: 10 × 22\n\\begin{tabular}{lllllllllllllllllllll}\n playerID & yearID & stint & teamID & lgID & G & AB & R & H & X2B & ⋯ & RBI & SB & CS & BB & SO & IBB & HBP & SH & SF & GIDP\\\\\n <chr> & <int> & <int> & <fct> & <fct> & <int> & <int> & <int> & <int> & <int> & ⋯ & <int> & <int> & <int> & <int> & <int> & <int> & <int> & <int> & <int> & <int>\\\\\n\\hline\n\t suzukic01 & 2001 & 1 & SEA & AL & 157 & 692 & 127 & 242 & 34 & ⋯ & 69 & 56 & 14 & 30 & 53 & 10 & 8 & 4 & 4 & 3\\\\\n\t suzukic01 & 2002 & 1 & SEA & AL & 157 & 647 & 111 & 208 & 27 & ⋯ & 51 & 31 & 15 & 68 & 62 & 27 & 5 & 3 & 5 & 8\\\\\n\t suzukic01 & 2003 & 1 & SEA & AL & 159 & 679 & 111 & 212 & 29 & ⋯ & 62 & 34 &  8 & 36 & 69 &  7 & 6 & 3 & 1 & 3\\\\\n\t suzukic01 & 2004 & 1 & SEA & AL & 161 & 704 & 101 & 262 & 24 & ⋯ & 60 & 36 & 11 & 49 & 63 & 19 & 4 & 2 & 3 & 6\\\\\n\t suzukic01 & 2005 & 1 & SEA & AL & 162 & 679 & 111 & 206 & 21 & ⋯ & 68 & 33 &  8 & 48 & 66 & 23 & 4 & 2 & 6 & 5\\\\\n\t suzukic01 & 2006 & 1 & SEA & AL & 161 & 695 & 110 & 224 & 20 & ⋯ & 49 & 45 &  2 & 49 & 71 & 16 & 5 & 1 & 2 & 2\\\\\n\t suzukic01 & 2007 & 1 & SEA & AL & 161 & 678 & 111 & 238 & 22 & ⋯ & 68 & 37 &  8 & 49 & 77 & 13 & 3 & 4 & 2 & 7\\\\\n\t suzukic01 & 2008 & 1 & SEA & AL & 162 & 686 & 103 & 213 & 20 & ⋯ & 42 & 43 &  4 & 51 & 65 & 12 & 5 & 3 & 4 & 8\\\\\n\t suzukic01 & 2009 & 1 & SEA & AL & 146 & 639 &  88 & 225 & 31 & ⋯ & 46 & 26 &  9 & 32 & 71 & 15 & 4 & 2 & 1 & 1\\\\\n\t suzukic01 & 2010 & 1 & SEA & AL & 162 & 680 &  74 & 214 & 30 & ⋯ & 43 & 42 &  9 & 45 & 86 & 13 & 3 & 3 & 1 & 3\\\\\n\\end{tabular}\n",
            "text/markdown": "\nA data.frame: 10 × 22\n\n| playerID &lt;chr&gt; | yearID &lt;int&gt; | stint &lt;int&gt; | teamID &lt;fct&gt; | lgID &lt;fct&gt; | G &lt;int&gt; | AB &lt;int&gt; | R &lt;int&gt; | H &lt;int&gt; | X2B &lt;int&gt; | ⋯ ⋯ | RBI &lt;int&gt; | SB &lt;int&gt; | CS &lt;int&gt; | BB &lt;int&gt; | SO &lt;int&gt; | IBB &lt;int&gt; | HBP &lt;int&gt; | SH &lt;int&gt; | SF &lt;int&gt; | GIDP &lt;int&gt; |\n|---|---|---|---|---|---|---|---|---|---|---|---|---|---|---|---|---|---|---|---|---|\n| suzukic01 | 2001 | 1 | SEA | AL | 157 | 692 | 127 | 242 | 34 | ⋯ | 69 | 56 | 14 | 30 | 53 | 10 | 8 | 4 | 4 | 3 |\n| suzukic01 | 2002 | 1 | SEA | AL | 157 | 647 | 111 | 208 | 27 | ⋯ | 51 | 31 | 15 | 68 | 62 | 27 | 5 | 3 | 5 | 8 |\n| suzukic01 | 2003 | 1 | SEA | AL | 159 | 679 | 111 | 212 | 29 | ⋯ | 62 | 34 |  8 | 36 | 69 |  7 | 6 | 3 | 1 | 3 |\n| suzukic01 | 2004 | 1 | SEA | AL | 161 | 704 | 101 | 262 | 24 | ⋯ | 60 | 36 | 11 | 49 | 63 | 19 | 4 | 2 | 3 | 6 |\n| suzukic01 | 2005 | 1 | SEA | AL | 162 | 679 | 111 | 206 | 21 | ⋯ | 68 | 33 |  8 | 48 | 66 | 23 | 4 | 2 | 6 | 5 |\n| suzukic01 | 2006 | 1 | SEA | AL | 161 | 695 | 110 | 224 | 20 | ⋯ | 49 | 45 |  2 | 49 | 71 | 16 | 5 | 1 | 2 | 2 |\n| suzukic01 | 2007 | 1 | SEA | AL | 161 | 678 | 111 | 238 | 22 | ⋯ | 68 | 37 |  8 | 49 | 77 | 13 | 3 | 4 | 2 | 7 |\n| suzukic01 | 2008 | 1 | SEA | AL | 162 | 686 | 103 | 213 | 20 | ⋯ | 42 | 43 |  4 | 51 | 65 | 12 | 5 | 3 | 4 | 8 |\n| suzukic01 | 2009 | 1 | SEA | AL | 146 | 639 |  88 | 225 | 31 | ⋯ | 46 | 26 |  9 | 32 | 71 | 15 | 4 | 2 | 1 | 1 |\n| suzukic01 | 2010 | 1 | SEA | AL | 162 | 680 |  74 | 214 | 30 | ⋯ | 43 | 42 |  9 | 45 | 86 | 13 | 3 | 3 | 1 | 3 |\n\n",
            "text/html": [
              "<table>\n",
              "<caption>A data.frame: 10 × 22</caption>\n",
              "<thead>\n",
              "\t<tr><th scope=col>playerID</th><th scope=col>yearID</th><th scope=col>stint</th><th scope=col>teamID</th><th scope=col>lgID</th><th scope=col>G</th><th scope=col>AB</th><th scope=col>R</th><th scope=col>H</th><th scope=col>X2B</th><th scope=col>⋯</th><th scope=col>RBI</th><th scope=col>SB</th><th scope=col>CS</th><th scope=col>BB</th><th scope=col>SO</th><th scope=col>IBB</th><th scope=col>HBP</th><th scope=col>SH</th><th scope=col>SF</th><th scope=col>GIDP</th></tr>\n",
              "\t<tr><th scope=col>&lt;chr&gt;</th><th scope=col>&lt;int&gt;</th><th scope=col>&lt;int&gt;</th><th scope=col>&lt;fct&gt;</th><th scope=col>&lt;fct&gt;</th><th scope=col>&lt;int&gt;</th><th scope=col>&lt;int&gt;</th><th scope=col>&lt;int&gt;</th><th scope=col>&lt;int&gt;</th><th scope=col>&lt;int&gt;</th><th scope=col>⋯</th><th scope=col>&lt;int&gt;</th><th scope=col>&lt;int&gt;</th><th scope=col>&lt;int&gt;</th><th scope=col>&lt;int&gt;</th><th scope=col>&lt;int&gt;</th><th scope=col>&lt;int&gt;</th><th scope=col>&lt;int&gt;</th><th scope=col>&lt;int&gt;</th><th scope=col>&lt;int&gt;</th><th scope=col>&lt;int&gt;</th></tr>\n",
              "</thead>\n",
              "<tbody>\n",
              "\t<tr><td>suzukic01</td><td>2001</td><td>1</td><td>SEA</td><td>AL</td><td>157</td><td>692</td><td>127</td><td>242</td><td>34</td><td>⋯</td><td>69</td><td>56</td><td>14</td><td>30</td><td>53</td><td>10</td><td>8</td><td>4</td><td>4</td><td>3</td></tr>\n",
              "\t<tr><td>suzukic01</td><td>2002</td><td>1</td><td>SEA</td><td>AL</td><td>157</td><td>647</td><td>111</td><td>208</td><td>27</td><td>⋯</td><td>51</td><td>31</td><td>15</td><td>68</td><td>62</td><td>27</td><td>5</td><td>3</td><td>5</td><td>8</td></tr>\n",
              "\t<tr><td>suzukic01</td><td>2003</td><td>1</td><td>SEA</td><td>AL</td><td>159</td><td>679</td><td>111</td><td>212</td><td>29</td><td>⋯</td><td>62</td><td>34</td><td> 8</td><td>36</td><td>69</td><td> 7</td><td>6</td><td>3</td><td>1</td><td>3</td></tr>\n",
              "\t<tr><td>suzukic01</td><td>2004</td><td>1</td><td>SEA</td><td>AL</td><td>161</td><td>704</td><td>101</td><td>262</td><td>24</td><td>⋯</td><td>60</td><td>36</td><td>11</td><td>49</td><td>63</td><td>19</td><td>4</td><td>2</td><td>3</td><td>6</td></tr>\n",
              "\t<tr><td>suzukic01</td><td>2005</td><td>1</td><td>SEA</td><td>AL</td><td>162</td><td>679</td><td>111</td><td>206</td><td>21</td><td>⋯</td><td>68</td><td>33</td><td> 8</td><td>48</td><td>66</td><td>23</td><td>4</td><td>2</td><td>6</td><td>5</td></tr>\n",
              "\t<tr><td>suzukic01</td><td>2006</td><td>1</td><td>SEA</td><td>AL</td><td>161</td><td>695</td><td>110</td><td>224</td><td>20</td><td>⋯</td><td>49</td><td>45</td><td> 2</td><td>49</td><td>71</td><td>16</td><td>5</td><td>1</td><td>2</td><td>2</td></tr>\n",
              "\t<tr><td>suzukic01</td><td>2007</td><td>1</td><td>SEA</td><td>AL</td><td>161</td><td>678</td><td>111</td><td>238</td><td>22</td><td>⋯</td><td>68</td><td>37</td><td> 8</td><td>49</td><td>77</td><td>13</td><td>3</td><td>4</td><td>2</td><td>7</td></tr>\n",
              "\t<tr><td>suzukic01</td><td>2008</td><td>1</td><td>SEA</td><td>AL</td><td>162</td><td>686</td><td>103</td><td>213</td><td>20</td><td>⋯</td><td>42</td><td>43</td><td> 4</td><td>51</td><td>65</td><td>12</td><td>5</td><td>3</td><td>4</td><td>8</td></tr>\n",
              "\t<tr><td>suzukic01</td><td>2009</td><td>1</td><td>SEA</td><td>AL</td><td>146</td><td>639</td><td> 88</td><td>225</td><td>31</td><td>⋯</td><td>46</td><td>26</td><td> 9</td><td>32</td><td>71</td><td>15</td><td>4</td><td>2</td><td>1</td><td>1</td></tr>\n",
              "\t<tr><td>suzukic01</td><td>2010</td><td>1</td><td>SEA</td><td>AL</td><td>162</td><td>680</td><td> 74</td><td>214</td><td>30</td><td>⋯</td><td>43</td><td>42</td><td> 9</td><td>45</td><td>86</td><td>13</td><td>3</td><td>3</td><td>1</td><td>3</td></tr>\n",
              "</tbody>\n",
              "</table>\n"
            ]
          },
          "metadata": {
            "tags": []
          }
        }
      ]
    },
    {
      "cell_type": "markdown",
      "metadata": {
        "id": "QwU5fPQfqEEm"
      },
      "source": [
        "### データの集計の例\n",
        "イチローの打撃成績（```ichiro_data```）から，安打数の合計を計算する．\n",
        "\n",
        "（この使い方だと，あまり意味はない）"
      ]
    },
    {
      "cell_type": "code",
      "metadata": {
        "colab": {
          "base_uri": "https://localhost:8080/",
          "height": 129
        },
        "id": "cKoJJAfGqWNZ",
        "outputId": "3ec93ccc-20e5-494f-ca20-04fc50016b6a"
      },
      "source": [
        "ichiro_data %>% summarise(tH=sum(H))"
      ],
      "execution_count": 10,
      "outputs": [
        {
          "output_type": "display_data",
          "data": {
            "text/plain": [
              "  tH  \n",
              "1 3089"
            ],
            "text/latex": "A data.frame: 1 × 1\n\\begin{tabular}{l}\n tH\\\\\n <int>\\\\\n\\hline\n\t 3089\\\\\n\\end{tabular}\n",
            "text/markdown": "\nA data.frame: 1 × 1\n\n| tH &lt;int&gt; |\n|---|\n| 3089 |\n\n",
            "text/html": [
              "<table>\n",
              "<caption>A data.frame: 1 × 1</caption>\n",
              "<thead>\n",
              "\t<tr><th scope=col>tH</th></tr>\n",
              "\t<tr><th scope=col>&lt;int&gt;</th></tr>\n",
              "</thead>\n",
              "<tbody>\n",
              "\t<tr><td>3089</td></tr>\n",
              "</tbody>\n",
              "</table>\n"
            ]
          },
          "metadata": {
            "tags": []
          }
        }
      ]
    },
    {
      "cell_type": "markdown",
      "metadata": {
        "id": "IbWyR_2nqpau"
      },
      "source": [
        "イチローの打撃成績（```ichiro_data```）から，在籍チーム（```teamID```）ごとの安打数の合計を計算する．\n",
        "\n",
        "```group_by()```を用いて，グループ化してから```summarise()を行う．\n"
      ]
    },
    {
      "cell_type": "markdown",
      "metadata": {
        "id": "ZumulGXMXljO"
      },
      "source": [
        "安打数順に並び変えて表示する．\n"
      ]
    },
    {
      "cell_type": "code",
      "metadata": {
        "colab": {
          "base_uri": "https://localhost:8080/",
          "height": 170
        },
        "id": "MLyZkHsEPMXQ",
        "outputId": "d4c91e52-883e-40ec-e2cf-86910f3db2f4"
      },
      "source": [
        "ichiro_totalH <- ichiro_data %>% group_by(teamID) %>% summarise(tH=sum(H)) %>% arrange(desc(teamID))\n",
        "ichiro_totalH"
      ],
      "execution_count": 11,
      "outputs": [
        {
          "output_type": "stream",
          "text": [
            "`summarise()` ungrouping output (override with `.groups` argument)\n",
            "\n"
          ],
          "name": "stderr"
        },
        {
          "output_type": "display_data",
          "data": {
            "text/plain": [
              "  teamID tH  \n",
              "1 SEA    2542\n",
              "2 NYA     311\n",
              "3 MIA     236"
            ],
            "text/latex": "A tibble: 3 × 2\n\\begin{tabular}{ll}\n teamID & tH\\\\\n <fct> & <int>\\\\\n\\hline\n\t SEA & 2542\\\\\n\t NYA &  311\\\\\n\t MIA &  236\\\\\n\\end{tabular}\n",
            "text/markdown": "\nA tibble: 3 × 2\n\n| teamID &lt;fct&gt; | tH &lt;int&gt; |\n|---|---|\n| SEA | 2542 |\n| NYA |  311 |\n| MIA |  236 |\n\n",
            "text/html": [
              "<table>\n",
              "<caption>A tibble: 3 × 2</caption>\n",
              "<thead>\n",
              "\t<tr><th scope=col>teamID</th><th scope=col>tH</th></tr>\n",
              "\t<tr><th scope=col>&lt;fct&gt;</th><th scope=col>&lt;int&gt;</th></tr>\n",
              "</thead>\n",
              "<tbody>\n",
              "\t<tr><td>SEA</td><td>2542</td></tr>\n",
              "\t<tr><td>NYA</td><td> 311</td></tr>\n",
              "\t<tr><td>MIA</td><td> 236</td></tr>\n",
              "</tbody>\n",
              "</table>\n"
            ]
          },
          "metadata": {
            "tags": []
          }
        }
      ]
    },
    {
      "cell_type": "markdown",
      "metadata": {
        "id": "8MCzcV2MVddv"
      },
      "source": [
        "### グラフの描画（散布図）\n",
        "イチローのシーズンごとの安打数を散布図で描画する．\n",
        "（横軸：年```yearID```, 縦軸：安打数```H```）"
      ]
    },
    {
      "cell_type": "code",
      "metadata": {
        "colab": {
          "base_uri": "https://localhost:8080/",
          "height": 437
        },
        "id": "1ZMddyDTgU-G",
        "outputId": "02bfc50b-875d-4802-fd89-fd76884180ba"
      },
      "source": [
        "ggplot(ichiro_data, aes(x=yearID, y=H)) + geom_point() + geom_line()"
      ],
      "execution_count": 12,
      "outputs": [
        {
          "output_type": "display_data",
          "data": {
            "image/png": "[encoded data removed]",
            "text/plain": [
              "plot without title"
            ]
          },
          "metadata": {
            "tags": [],
            "image/png": {
              "width": 420,
              "height": 420
            }
          }
        }
      ]
    },
    {
      "cell_type": "markdown",
      "metadata": {
        "id": "KP1RwC8aW2ZT"
      },
      "source": [
        "縦軸を打率にする\n",
        "（縦軸を```H（安打数）/AB（打数）```に変更．列名で式を書くこともできる）．"
      ]
    },
    {
      "cell_type": "code",
      "metadata": {
        "colab": {
          "base_uri": "https://localhost:8080/",
          "height": 437
        },
        "id": "obVGPTqjgsqe",
        "outputId": "a6d87f17-f374-421f-b7a5-4d8f97729d08"
      },
      "source": [
        "ggplot(ichiro_data, aes(x=yearID, y=H/AB)) + geom_point() + geom_line()"
      ],
      "execution_count": 13,
      "outputs": [
        {
          "output_type": "display_data",
          "data": {
            "image/png": "[encoded data removed]",
            "text/plain": [
              "plot without title"
            ]
          },
          "metadata": {
            "tags": [],
            "image/png": {
              "width": 420,
              "height": 420
            }
          }
        }
      ]
    },
    {
      "cell_type": "markdown",
      "metadata": {
        "id": "v07MSIBaKv-D"
      },
      "source": [
        "### グラフの描画（棒グラフ）\n",
        "イチローのシーズンごとの安打数を棒グラフで描画する．\n",
        "（横軸：年```yearID```, 縦軸：安打数```H```）"
      ]
    },
    {
      "cell_type": "code",
      "metadata": {
        "colab": {
          "base_uri": "https://localhost:8080/",
          "height": 437
        },
        "id": "6IcU_kbdvxW1",
        "outputId": "2ca6af29-3c52-4a0d-ee9b-e9de42c1c2e2"
      },
      "source": [
        "ggplot(ichiro_totalH, aes(x=teamID,y=tH)) + geom_bar(stat = \"identity\")\n"
      ],
      "execution_count": 14,
      "outputs": [
        {
          "output_type": "display_data",
          "data": {
            "image/png": "[encoded data removed]",
            "text/plain": [
              "plot without title"
            ]
          },
          "metadata": {
            "tags": [],
            "image/png": {
              "width": 420,
              "height": 420
            }
          }
        }
      ]
    },
    {
      "cell_type": "markdown",
      "metadata": {
        "id": "sd6VeFmCv0Wq"
      },
      "source": [
        "以下のようにすると，```teamID```ごとに色を変更できる．"
      ]
    },
    {
      "cell_type": "code",
      "metadata": {
        "id": "ny1_26wOL7qe",
        "colab": {
          "base_uri": "https://localhost:8080/",
          "height": 437
        },
        "outputId": "95c0090b-a05a-4519-a16e-1face3c3cff2"
      },
      "source": [
        "ggplot(ichiro_totalH, aes(x=teamID,y=tH,fill=teamID)) + geom_bar(stat = \"identity\")\n"
      ],
      "execution_count": 15,
      "outputs": [
        {
          "output_type": "display_data",
          "data": {
            "image/png": "[encoded data removed]",
            "text/plain": [
              "plot without title"
            ]
          },
          "metadata": {
            "tags": [],
            "image/png": {
              "width": 420,
              "height": 420
            }
          }
        }
      ]
    },
    {
      "cell_type": "markdown",
      "metadata": {
        "id": "8DR8Cwvdabt4"
      },
      "source": [
        "### グラフの描画（ヒストグラム）\n",
        "2016年シーズンの年俸のヒストグラムを描画する．\n",
        "\n",
        "まず，2016年のプレイヤーの年俸データを抽出する．"
      ]
    },
    {
      "cell_type": "code",
      "metadata": {
        "colab": {
          "base_uri": "https://localhost:8080/",
          "height": 195
        },
        "id": "2B9E8mmAYuOo",
        "outputId": "fe40507a-2d2d-4c77-9471-2592f4d15c6e"
      },
      "source": [
        "salaries2016 <- Salaries %>% dplyr::filter(yearID==2016)\n",
        "head(salaries2016)"
      ],
      "execution_count": 16,
      "outputs": [
        {
          "output_type": "display_data",
          "data": {
            "text/plain": [
              "  yearID teamID lgID playerID  salary \n",
              "1 2016   ARI    NL   ahmedni01  521600\n",
              "2 2016   ARI    NL   barreja01  507500\n",
              "3 2016   ARI    NL   brachsi01  509300\n",
              "4 2016   ARI    NL   britoso01  508500\n",
              "5 2016   ARI    NL   castiwe01 3700000\n",
              "6 2016   ARI    NL   chafian01  519700"
            ],
            "text/latex": "A data.frame: 6 × 5\n\\begin{tabular}{r|lllll}\n  & yearID & teamID & lgID & playerID & salary\\\\\n  & <int> & <fct> & <fct> & <chr> & <int>\\\\\n\\hline\n\t1 & 2016 & ARI & NL & ahmedni01 &  521600\\\\\n\t2 & 2016 & ARI & NL & barreja01 &  507500\\\\\n\t3 & 2016 & ARI & NL & brachsi01 &  509300\\\\\n\t4 & 2016 & ARI & NL & britoso01 &  508500\\\\\n\t5 & 2016 & ARI & NL & castiwe01 & 3700000\\\\\n\t6 & 2016 & ARI & NL & chafian01 &  519700\\\\\n\\end{tabular}\n",
            "text/markdown": "\nA data.frame: 6 × 5\n\n| <!--/--> | yearID &lt;int&gt; | teamID &lt;fct&gt; | lgID &lt;fct&gt; | playerID &lt;chr&gt; | salary &lt;int&gt; |\n|---|---|---|---|---|---|\n| 1 | 2016 | ARI | NL | ahmedni01 |  521600 |\n| 2 | 2016 | ARI | NL | barreja01 |  507500 |\n| 3 | 2016 | ARI | NL | brachsi01 |  509300 |\n| 4 | 2016 | ARI | NL | britoso01 |  508500 |\n| 5 | 2016 | ARI | NL | castiwe01 | 3700000 |\n| 6 | 2016 | ARI | NL | chafian01 |  519700 |\n\n",
            "text/html": [
              "<table>\n",
              "<caption>A data.frame: 6 × 5</caption>\n",
              "<thead>\n",
              "\t<tr><th></th><th scope=col>yearID</th><th scope=col>teamID</th><th scope=col>lgID</th><th scope=col>playerID</th><th scope=col>salary</th></tr>\n",
              "\t<tr><th></th><th scope=col>&lt;int&gt;</th><th scope=col>&lt;fct&gt;</th><th scope=col>&lt;fct&gt;</th><th scope=col>&lt;chr&gt;</th><th scope=col>&lt;int&gt;</th></tr>\n",
              "</thead>\n",
              "<tbody>\n",
              "\t<tr><th scope=row>1</th><td>2016</td><td>ARI</td><td>NL</td><td>ahmedni01</td><td> 521600</td></tr>\n",
              "\t<tr><th scope=row>2</th><td>2016</td><td>ARI</td><td>NL</td><td>barreja01</td><td> 507500</td></tr>\n",
              "\t<tr><th scope=row>3</th><td>2016</td><td>ARI</td><td>NL</td><td>brachsi01</td><td> 509300</td></tr>\n",
              "\t<tr><th scope=row>4</th><td>2016</td><td>ARI</td><td>NL</td><td>britoso01</td><td> 508500</td></tr>\n",
              "\t<tr><th scope=row>5</th><td>2016</td><td>ARI</td><td>NL</td><td>castiwe01</td><td>3700000</td></tr>\n",
              "\t<tr><th scope=row>6</th><td>2016</td><td>ARI</td><td>NL</td><td>chafian01</td><td> 519700</td></tr>\n",
              "</tbody>\n",
              "</table>\n"
            ]
          },
          "metadata": {
            "tags": []
          }
        }
      ]
    },
    {
      "cell_type": "markdown",
      "metadata": {
        "id": "bJdCJe74aptS"
      },
      "source": [
        "ヒストグラムを描画する．\n",
        "ここでは，X軸・Y軸のメモリ・ラベルのフォントサイズも変更（大きく）している．"
      ]
    },
    {
      "cell_type": "code",
      "metadata": {
        "id": "AUyz5E1-KUxx",
        "colab": {
          "base_uri": "https://localhost:8080/",
          "height": 437
        },
        "outputId": "0705cd46-f362-4a46-d6d9-47c9bdba0c9c"
      },
      "source": [
        "ggplot(salaries2016, aes(x=salary)) +geom_histogram(bins=20) + \n",
        "theme(axis.title.x = element_text(size=20), axis.title.y = element_text(size=20), axis.text.x = element_text(size=20),axis.text.y = element_text(size=20)) "
      ],
      "execution_count": 17,
      "outputs": [
        {
          "output_type": "display_data",
          "data": {
            "image/png": "[encoded data removed]",
            "text/plain": [
              "plot without title"
            ]
          },
          "metadata": {
            "tags": [],
            "image/png": {
              "width": 420,
              "height": 420
            }
          }
        }
      ]
    },
    {
      "cell_type": "markdown",
      "metadata": {
        "id": "CyTpK06j5qfs"
      },
      "source": [
        "## リンク\n",
        "\n",
        "その他，以下のリンクも参考にしてください．\n",
        "\n",
        "dplyr:\n",
        "\n",
        "https://stats.biopapyrus.jp/r/tidyverse/dplyr.html\n",
        "\n",
        "https://kazutan.github.io/kazutanR/hands_on_170730/index.html\n",
        "\n",
        "\n",
        "ggplot2:\n",
        "\n",
        "https://kazutan.github.io/fukuokaR11/intro_ggplot2.html\n",
        "\n",
        "https://stats.biopapyrus.jp/r/ggplot/\n",
        "\n",
        "\n"
      ]
    }
  ]
}